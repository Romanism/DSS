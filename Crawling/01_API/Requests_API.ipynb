{
 "cells": [
  {
   "cell_type": "markdown",
   "metadata": {},
   "source": [
    "### Web Crawling (웹 크롤링)"
   ]
  },
  {
   "cell_type": "markdown",
   "metadata": {},
   "source": [
    "1) 정의 : 웹 사이트에서 원하는 정보를 자동으로 수집하는 것"
   ]
  },
  {
   "cell_type": "markdown",
   "metadata": {},
   "source": [
    "2) 어디서 크롤링을 사용할까?"
   ]
  },
  {
   "cell_type": "markdown",
   "metadata": {},
   "source": [
    "- Google - 수 많은 웹사이트를 크롤링하여 검색 서비스 제공\n",
    "- 쿠차 - 각종 소셜커머스 사이트를 크롤링하여 최저가 정보 제공"
   ]
  },
  {
   "cell_type": "markdown",
   "metadata": {},
   "source": [
    "3) 크롤링 하는 방법"
   ]
  },
  {
   "cell_type": "markdown",
   "metadata": {},
   "source": [
    "1. API 이용\n",
    "2. html코드 이용\n",
    "3. Selenium - web browser 직접 띄워서 이용\n",
    "\n",
    "일반적으로 1 > 2 > 3 순서로 실행하는게 좋음. 그 이유는 속도의 차이 때문 (API가 가장 빠름)"
   ]
  },
  {
   "cell_type": "markdown",
   "metadata": {},
   "source": [
    "### Requests\n",
    "\n",
    "- HTTP 요청을 보내는 모듈\n",
    "- http://docs.python-requests.org/en/master/"
   ]
  },
  {
   "cell_type": "markdown",
   "metadata": {},
   "source": [
    "### 1. API"
   ]
  },
  {
   "cell_type": "markdown",
   "metadata": {},
   "source": [
    "#### 1) 네이버 주식 데이터 가져오기\n",
    "\n",
    "- API 사용 : json 파싱을 함 (jason은 딕셔너리 형태, xml은 html형태)\n",
    "- 네이버 주식 페이지에서 주식 데이터를 가져와 데이터 프레임으로 만들기\n",
    "- http://m.stock.naver.com"
   ]
  },
  {
   "cell_type": "code",
   "execution_count": 1,
   "metadata": {},
   "outputs": [],
   "source": [
    "# Setting\n",
    "import requests\n",
    "import time"
   ]
  },
  {
   "cell_type": "code",
   "execution_count": 2,
   "metadata": {},
   "outputs": [],
   "source": [
    "# 주식데이터를 가져오는 url을 생성 (json이용)\n",
    "def make_url(pageSize=100, page=4):\n",
    "    return \"http://m.stock.naver.com/api/json/sise/siseListJson.nhn?menu=market_sum&sosok=0&pageSize=\" + str(pageSize) + \"&page=\" + str(page)"
   ]
  },
  {
   "cell_type": "code",
   "execution_count": 3,
   "metadata": {},
   "outputs": [],
   "source": [
    "# 데이터를 가져와서 프레임 형태로 정의\n",
    "def get_data(url):\n",
    "    response = requests.get(url)\n",
    "    json_info = response.json()\n",
    "    companys = json_info[\"result\"][\"itemList\"]\n",
    "    df = pd.DataFrame(columns=[\"종목\", \"시세\", \"전일비\", \"등락율\", \"시가총액\", \"거래량\"])\n",
    "    for company in companys:\n",
    "        df.loc[len(df)] = {\n",
    "            \"종목\":company[\"nm\"],\n",
    "            \"시세\":company[\"nv\"],\n",
    "            \"전일비\":company[\"cv\"],\n",
    "            \"등락율\":company[\"cr\"],\n",
    "            \"시가총액\":company[\"mks\"],\n",
    "            \"거래량\":company[\"aq\"],\n",
    "        }\n",
    "    return df"
   ]
  },
  {
   "cell_type": "code",
   "execution_count": 4,
   "metadata": {
    "scrolled": true
   },
   "outputs": [
    {
     "data": {
      "text/html": [
       "<div>\n",
       "<style scoped>\n",
       "    .dataframe tbody tr th:only-of-type {\n",
       "        vertical-align: middle;\n",
       "    }\n",
       "\n",
       "    .dataframe tbody tr th {\n",
       "        vertical-align: top;\n",
       "    }\n",
       "\n",
       "    .dataframe thead th {\n",
       "        text-align: right;\n",
       "    }\n",
       "</style>\n",
       "<table border=\"1\" class=\"dataframe\">\n",
       "  <thead>\n",
       "    <tr style=\"text-align: right;\">\n",
       "      <th></th>\n",
       "      <th>종목</th>\n",
       "      <th>시세</th>\n",
       "      <th>전일비</th>\n",
       "      <th>등락율</th>\n",
       "      <th>시가총액</th>\n",
       "      <th>거래량</th>\n",
       "    </tr>\n",
       "  </thead>\n",
       "  <tbody>\n",
       "    <tr>\n",
       "      <th>0</th>\n",
       "      <td>CJ</td>\n",
       "      <td>165000</td>\n",
       "      <td>2500</td>\n",
       "      <td>1.54</td>\n",
       "      <td>48142</td>\n",
       "      <td>79152</td>\n",
       "    </tr>\n",
       "    <tr>\n",
       "      <th>1</th>\n",
       "      <td>롯데지주</td>\n",
       "      <td>63200</td>\n",
       "      <td>800</td>\n",
       "      <td>1.28</td>\n",
       "      <td>46568</td>\n",
       "      <td>191016</td>\n",
       "    </tr>\n",
       "    <tr>\n",
       "      <th>2</th>\n",
       "      <td>효성</td>\n",
       "      <td>128500</td>\n",
       "      <td>5500</td>\n",
       "      <td>4.47</td>\n",
       "      <td>45126</td>\n",
       "      <td>161383</td>\n",
       "    </tr>\n",
       "    <tr>\n",
       "      <th>3</th>\n",
       "      <td>한국금융지주</td>\n",
       "      <td>80200</td>\n",
       "      <td>900</td>\n",
       "      <td>1.13</td>\n",
       "      <td>44692</td>\n",
       "      <td>143710</td>\n",
       "    </tr>\n",
       "    <tr>\n",
       "      <th>4</th>\n",
       "      <td>오리온</td>\n",
       "      <td>113000</td>\n",
       "      <td>6500</td>\n",
       "      <td>6.10</td>\n",
       "      <td>44673</td>\n",
       "      <td>146949</td>\n",
       "    </tr>\n",
       "    <tr>\n",
       "      <th>5</th>\n",
       "      <td>현대건설</td>\n",
       "      <td>40050</td>\n",
       "      <td>-1100</td>\n",
       "      <td>-2.67</td>\n",
       "      <td>44598</td>\n",
       "      <td>522247</td>\n",
       "    </tr>\n",
       "    <tr>\n",
       "      <th>6</th>\n",
       "      <td>CJ제일제당</td>\n",
       "      <td>334500</td>\n",
       "      <td>9500</td>\n",
       "      <td>2.92</td>\n",
       "      <td>44076</td>\n",
       "      <td>77458</td>\n",
       "    </tr>\n",
       "    <tr>\n",
       "      <th>7</th>\n",
       "      <td>한국가스공사</td>\n",
       "      <td>47100</td>\n",
       "      <td>-100</td>\n",
       "      <td>-0.21</td>\n",
       "      <td>43479</td>\n",
       "      <td>146711</td>\n",
       "    </tr>\n",
       "    <tr>\n",
       "      <th>8</th>\n",
       "      <td>삼성카드</td>\n",
       "      <td>37200</td>\n",
       "      <td>250</td>\n",
       "      <td>0.68</td>\n",
       "      <td>43100</td>\n",
       "      <td>93591</td>\n",
       "    </tr>\n",
       "    <tr>\n",
       "      <th>9</th>\n",
       "      <td>아이엔지생명</td>\n",
       "      <td>52100</td>\n",
       "      <td>500</td>\n",
       "      <td>0.97</td>\n",
       "      <td>42722</td>\n",
       "      <td>54830</td>\n",
       "    </tr>\n",
       "  </tbody>\n",
       "</table>\n",
       "</div>"
      ],
      "text/plain": [
       "       종목      시세    전일비   등락율   시가총액     거래량\n",
       "0      CJ  165000   2500  1.54  48142   79152\n",
       "1    롯데지주   63200    800  1.28  46568  191016\n",
       "2      효성  128500   5500  4.47  45126  161383\n",
       "3  한국금융지주   80200    900  1.13  44692  143710\n",
       "4     오리온  113000   6500  6.10  44673  146949\n",
       "5    현대건설   40050  -1100 -2.67  44598  522247\n",
       "6  CJ제일제당  334500   9500  2.92  44076   77458\n",
       "7  한국가스공사   47100   -100 -0.21  43479  146711\n",
       "8    삼성카드   37200    250  0.68  43100   93591\n",
       "9  아이엔지생명   52100    500  0.97  42722   54830"
      ]
     },
     "execution_count": 4,
     "metadata": {},
     "output_type": "execute_result"
    }
   ],
   "source": [
    "url = make_url(10,7)\n",
    "df = get_data(url)\n",
    "df.head(10)"
   ]
  },
  {
   "cell_type": "markdown",
   "metadata": {},
   "source": [
    "#### 2) Dark Sky API\n",
    "\n",
    "- 날씨 정보를 알려주는 api\n",
    "- https://darksky.net/dev\n",
    "- pip3 install python-forecastio"
   ]
  },
  {
   "cell_type": "code",
   "execution_count": 5,
   "metadata": {},
   "outputs": [],
   "source": [
    "import requests\n",
    "import forecastio\n",
    "FORECAST_TOKEN = \"c259d4aeb593bc5e83d0c3f7ed916f5d\""
   ]
  },
  {
   "cell_type": "code",
   "execution_count": 6,
   "metadata": {},
   "outputs": [],
   "source": [
    "def forecast(lat,lng):\n",
    "    url = \"https://api.darksky.net/forecast/{}/{},{}\".format(FORECAST_TOKEN, lat, lng)\n",
    "    response = requests.get(url)\n",
    "    json_info = response.json()\n",
    "    return json_info[\"hourly\"][\"summary\"]"
   ]
  },
  {
   "cell_type": "code",
   "execution_count": 7,
   "metadata": {},
   "outputs": [
    {
     "data": {
      "text/plain": [
       "'Breezy tomorrow afternoon and light rain tomorrow evening.'"
      ]
     },
     "execution_count": 7,
     "metadata": {},
     "output_type": "execute_result"
    }
   ],
   "source": [
    "lat = 37.5124413 # 위도\n",
    "lng = 126.9540519 # 경도\n",
    "forecast(lat,lng)"
   ]
  },
  {
   "cell_type": "code",
   "execution_count": 8,
   "metadata": {},
   "outputs": [],
   "source": [
    "def forecast(lat,lng):\n",
    "    forecast = forecastio.load_forecast(FORECAST_TOKEN, lat, lng)\n",
    "    byHour = forecast.hourly()\n",
    "    return byHour.summary"
   ]
  },
  {
   "cell_type": "code",
   "execution_count": 9,
   "metadata": {},
   "outputs": [
    {
     "data": {
      "text/plain": [
       "'Breezy tomorrow afternoon and light rain tomorrow evening.'"
      ]
     },
     "execution_count": 9,
     "metadata": {},
     "output_type": "execute_result"
    }
   ],
   "source": [
    "lat = 37.5124413\n",
    "lng = 126.9540519\n",
    "forecast(lat,lng)"
   ]
  }
 ],
 "metadata": {
  "kernelspec": {
   "display_name": "Python 3",
   "language": "python",
   "name": "python3"
  },
  "language_info": {
   "codemirror_mode": {
    "name": "ipython",
    "version": 3
   },
   "file_extension": ".py",
   "mimetype": "text/x-python",
   "name": "python",
   "nbconvert_exporter": "python",
   "pygments_lexer": "ipython3",
   "version": "3.6.4"
  }
 },
 "nbformat": 4,
 "nbformat_minor": 2
}
