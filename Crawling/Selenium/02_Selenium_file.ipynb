{
 "cells": [
  {
   "cell_type": "markdown",
   "metadata": {},
   "source": [
    "### Selenium file\n",
    "\n",
    "- Google Vision API test 페이지에 이미지 업로드해서 결과 확인"
   ]
  },
  {
   "cell_type": "markdown",
   "metadata": {},
   "source": [
    "---"
   ]
  },
  {
   "cell_type": "markdown",
   "metadata": {},
   "source": [
    "**0) Setting**"
   ]
  },
  {
   "cell_type": "code",
   "execution_count": 1,
   "metadata": {},
   "outputs": [],
   "source": [
    "import time # 이미지 업로드 시간을 기다려주기 위함\n",
    "from selenium import webdriver"
   ]
  },
  {
   "cell_type": "code",
   "execution_count": 2,
   "metadata": {},
   "outputs": [],
   "source": [
    "driver =  webdriver.Chrome()"
   ]
  },
  {
   "cell_type": "code",
   "execution_count": 3,
   "metadata": {},
   "outputs": [],
   "source": [
    "driver.get('https://cloud.google.com/vision/') # Iframe을 활용해 업로드 할 수 있는 vision API 사이트로 이동"
   ]
  },
  {
   "cell_type": "markdown",
   "metadata": {},
   "source": [
    "**1) Change iframe** : 파일 업로드 영역이 iframe으로 되어 있어 iframe으로 포커스 이동"
   ]
  },
  {
   "cell_type": "code",
   "execution_count": 4,
   "metadata": {},
   "outputs": [],
   "source": [
    "iframe = driver.find_element_by_css_selector(\"#vision_demo_section > iframe\") ##vision_demo_section > iframe는 selector\n",
    "driver.switch_to_frame(iframe) # 포커스 이동"
   ]
  },
  {
   "cell_type": "markdown",
   "metadata": {},
   "source": [
    "**2) Swich back** : 포커스를 되돌리고 싶을 때"
   ]
  },
  {
   "cell_type": "code",
   "execution_count": 5,
   "metadata": {},
   "outputs": [],
   "source": [
    "# iframe으로 설정된 포커스를 원래대로 되돌리고 싶을 때 사용\n",
    "# driver.switch_to_default_content()"
   ]
  },
  {
   "cell_type": "markdown",
   "metadata": {},
   "source": [
    "**3) File upload** : 파일 업로드"
   ]
  },
  {
   "cell_type": "code",
   "execution_count": 6,
   "metadata": {},
   "outputs": [],
   "source": [
    "path = !pwd"
   ]
  },
  {
   "cell_type": "code",
   "execution_count": 7,
   "metadata": {},
   "outputs": [
    {
     "data": {
      "text/plain": [
       "['/Users/jisungin/Desktop/git/DSS/DSS/Selenium']"
      ]
     },
     "execution_count": 7,
     "metadata": {},
     "output_type": "execute_result"
    }
   ],
   "source": [
    "path #주피터 노트북 경로"
   ]
  },
  {
   "cell_type": "code",
   "execution_count": 8,
   "metadata": {},
   "outputs": [],
   "source": [
    "file_path = path[0] + \"/screenshot_element.png\" # 이미지가 저장되어 있는 주소를 file_path라는 이름으로 지정\n",
    "driver.find_element_by_css_selector(\"#input\").send_keys(file_path) # input은 이미지를 붙여넣는 selector"
   ]
  },
  {
   "cell_type": "code",
   "execution_count": 10,
   "metadata": {
    "scrolled": true
   },
   "outputs": [],
   "source": [
    "# Web 버튼 클릭\n",
    "driver.find_element_by_css_selector(\"#webDetection\").click()"
   ]
  },
  {
   "cell_type": "code",
   "execution_count": 11,
   "metadata": {},
   "outputs": [
    {
     "data": {
      "text/plain": [
       "'Tim Cook'"
      ]
     },
     "execution_count": 11,
     "metadata": {},
     "output_type": "execute_result"
    }
   ],
   "source": [
    "# Web으로 이동 후 [0]번째 텍스트 출력\n",
    "driver.find_elements_by_css_selector('.vs-web .name')[0].text"
   ]
  },
  {
   "cell_type": "code",
   "execution_count": 12,
   "metadata": {},
   "outputs": [],
   "source": [
    "driver.close()"
   ]
  },
  {
   "cell_type": "code",
   "execution_count": 13,
   "metadata": {},
   "outputs": [
    {
     "name": "stdout",
     "output_type": "stream",
     "text": [
      "Tim Cook\n"
     ]
    }
   ],
   "source": [
    "# 지금까지 과정을 한번에 실행\n",
    "\n",
    "driver =  webdriver.Chrome()\n",
    "driver.get('https://cloud.google.com/vision/')\n",
    "\n",
    "iframe = driver.find_element_by_css_selector(\"#vision_demo_section iframe\")\n",
    "driver.switch_to_frame(iframe)\n",
    "\n",
    "file_path = path[0] + \"/screenshot_element.png\"\n",
    "driver.find_element_by_css_selector(\"#input\").send_keys(file_path)\n",
    "\n",
    "time.sleep(10) # 이미지를 업로드하고 데이터를 분석하는 시간\n",
    "\n",
    "driver.find_element_by_css_selector(\"#webDetection\").click()\n",
    "result = driver.find_elements_by_css_selector('.vs-web .name')[0].text\n",
    "\n",
    "print(result)\n",
    "# driver.close()"
   ]
  },
  {
   "cell_type": "markdown",
   "metadata": {},
   "source": [
    "**4) element를 체크해서 실행**\n",
    "\n",
    "- 위의 코드는 당연히 에러가 발생되는 상황 (time_sleep을 10초로 설정했는데 실제로 10초가 넘게 걸릴수도 있기 때문)\n",
    "- 이를 보완할 코드를 다시 작성해야 함"
   ]
  },
  {
   "cell_type": "code",
   "execution_count": 14,
   "metadata": {},
   "outputs": [],
   "source": [
    "def check_element(driver, selector):\n",
    "    try:\n",
    "        driver.find_element_by_css_selector(selector)\n",
    "        return True\n",
    "    except:\n",
    "        return False"
   ]
  },
  {
   "cell_type": "code",
   "execution_count": 15,
   "metadata": {
    "scrolled": true
   },
   "outputs": [
    {
     "name": "stdout",
     "output_type": "stream",
     "text": [
      "1sec\n",
      "2sec\n",
      "3sec\n",
      "4sec\n",
      "5sec\n",
      "6sec\n",
      "7sec\n",
      "Tim Cook\n"
     ]
    }
   ],
   "source": [
    "driver =  webdriver.Chrome()\n",
    "driver.get('https://cloud.google.com/vision/')\n",
    "\n",
    "iframe = driver.find_element_by_css_selector(\"#vision_demo_section iframe\")\n",
    "driver.switch_to_frame(iframe)\n",
    "file_path = path[0] + \"/screenshot_element.png\"\n",
    "driver.find_element_by_css_selector(\"#input\").send_keys(file_path)\n",
    "\n",
    "selector = '.vs-web .name'\n",
    "sec, limit_sec = 0, 20\n",
    "while True:\n",
    "    sec += 1\n",
    "    print(\"{}sec\".format(sec))\n",
    "    time.sleep(1)\n",
    "    \n",
    "    # element 확인\n",
    "    if check_element(driver, selector):\n",
    "        driver.find_element_by_css_selector(\"#webDetection\").click()\n",
    "        result = driver.find_elements_by_css_selector(selector)[0].text\n",
    "        print(result)\n",
    "        driver.close()\n",
    "        break;\n",
    "        \n",
    "    # limit_sec가 넘어가면 에러 처리\n",
    "    if sec + 1 > limit_sec:\n",
    "        print(\"error\")\n",
    "        driver.close()\n",
    "        break;"
   ]
  },
  {
   "cell_type": "code",
   "execution_count": 16,
   "metadata": {},
   "outputs": [
    {
     "name": "stdout",
     "output_type": "stream",
     "text": [
      "1sec\n",
      "2sec\n",
      "3sec\n",
      "4sec\n",
      "5sec\n",
      "error\n"
     ]
    }
   ],
   "source": [
    "driver =  webdriver.Chrome()\n",
    "driver.get('https://cloud.google.com/vision/')\n",
    "\n",
    "iframe = driver.find_element_by_css_selector(\"#vision_demo_section iframe\")\n",
    "driver.switch_to_frame(iframe)\n",
    "file_path = path[0] + \"/screenshot_element.png\"\n",
    "driver.find_element_by_css_selector(\"#input\").send_keys(file_path)\n",
    "\n",
    "selector = '.vs-web .name'\n",
    "sec, limit_sec = 0, 5\n",
    "while True:\n",
    "    sec += 1\n",
    "    print(\"{}sec\".format(sec))\n",
    "    time.sleep(1)\n",
    "    \n",
    "    # element 확인\n",
    "    if check_element(driver, selector):\n",
    "        driver.find_element_by_css_selector(\"#webDetection\").click()\n",
    "        result = driver.find_elements_by_css_selector(selector)[0].text\n",
    "        print(result)\n",
    "        driver.close()\n",
    "        break;\n",
    "        \n",
    "    # limit_sec가 넘어가면 에러 처리\n",
    "    if sec + 1 > limit_sec:\n",
    "        print(\"error\")\n",
    "        driver.close()\n",
    "        break;"
   ]
  }
 ],
 "metadata": {
  "kernelspec": {
   "display_name": "Python 3",
   "language": "python",
   "name": "python3"
  },
  "language_info": {
   "codemirror_mode": {
    "name": "ipython",
    "version": 3
   },
   "file_extension": ".py",
   "mimetype": "text/x-python",
   "name": "python",
   "nbconvert_exporter": "python",
   "pygments_lexer": "ipython3",
   "version": "3.6.4"
  }
 },
 "nbformat": 4,
 "nbformat_minor": 2
}
