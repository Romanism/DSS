{
 "cells": [
  {
   "cell_type": "markdown",
   "metadata": {},
   "source": [
    "## Ipython basic\n",
    "\n",
    "- Ipython notebook\n",
    "- Shortcut Key\n",
    "- Markdown\n",
    "- Magic command\n",
    "- Shell command\n",
    "- expression\n",
    "---"
   ]
  },
  {
   "cell_type": "markdown",
   "metadata": {},
   "source": [
    "### 1. Ipython notebook (Interactive python notebook)"
   ]
  },
  {
   "cell_type": "markdown",
   "metadata": {},
   "source": [
    "1) 정의 : 직역하면 ``대화형 파이썬 노트북`` (참고 : IPython 3.0이상부터는 Jupyter라 불려짐)\n",
    "\n",
    "2) 장점 \n",
    "\n",
    "(1) 셀 단위의 순차적인 실행 가능 (디버깅 유리)\n",
    "\n",
    "(2) 함수 자동 완성 기능 (Tab)\n",
    "\n",
    "(3) 마크다운, HTML 및 Javascript 언어 지원\n",
    "\n",
    "---"
   ]
  },
  {
   "cell_type": "markdown",
   "metadata": {},
   "source": [
    "### 2. Shortcut key (단축키)"
   ]
  },
  {
   "cell_type": "markdown",
   "metadata": {},
   "source": [
    "1) 명령 모드 (Command Mode) : 파란색 셀 내에서 가능"
   ]
  },
  {
   "cell_type": "markdown",
   "metadata": {},
   "source": [
    "<table class=\"table-bordered\" style=\"width:60%\">\n",
    "  <tr>\n",
    "    <td>**키보드**</td>\n",
    "    <td>**기능**</td>\n",
    "    <td>**키보드**</td> \n",
    "    <td>**기능**</td> \n",
    "  </tr>\n",
    "  <tr>\n",
    "    <td>Enter</td>\n",
    "    <td>편집모드</td>\n",
    "    <td>c</td>\n",
    "    <td>copy</td>\n",
    "  </tr>\n",
    "  <tr>\n",
    "    <td>Shift+Enter</td> \n",
    "    <td>run cell, select below</td>\n",
    "    <td>v</td> \n",
    "    <td>paste cell below</td> \n",
    "  </tr>\n",
    "  <tr>\n",
    "    <td>Ctrl+Enter</td> \n",
    "    <td>run cell</td>\n",
    "    <td>Shift+v</td> \n",
    "    <td>paste cell above</td> \n",
    "  </tr>\n",
    "  <tr>\n",
    "    <td>Alt+Enter</td> \n",
    "    <td>run cell, insert below</td>\n",
    "    <td>z</td> \n",
    "    <td>undo last delete</td> \n",
    "  </tr>\n",
    "  <tr>\n",
    "    <td>y</td> \n",
    "    <td>to code</td>\n",
    "    <td>dd</td> \n",
    "    <td>delete cell</td> \n",
    "  </tr>\n",
    "  <tr>\n",
    "    <td>m</td> \n",
    "    <td>to markdown</td>\n",
    "    <td>Shift+m</td> \n",
    "    <td>merge cell below</td> \n",
    "  </tr>\n",
    "  <tr>\n",
    "    <td>r</td> \n",
    "    <td>to raw</td>\n",
    "    <td>s</td> \n",
    "    <td>save notebook</td> \n",
    "  </tr>\n",
    "    <tr>\n",
    "    <td>1</td> \n",
    "    <td>to heading 1</td>\n",
    "    <td>Cmd+s</td> \n",
    "    <td>save notebook</td> \n",
    "  </tr>\n",
    "  <tr>\n",
    "    <td>2</td> \n",
    "    <td>to heading 2</td>\n",
    "    <td>l</td> \n",
    "    <td>toggle line numbers</td> \n",
    "  </tr>\n",
    "  <tr>\n",
    "    <td>3</td> \n",
    "    <td>to heading 3</td>\n",
    "    <td>o</td> \n",
    "    <td>toggle output</td> \n",
    "  </tr>\n",
    "  <tr>\n",
    "    <td>4</td> \n",
    "    <td>to heading 4</td>\n",
    "    <td>Shift+o</td> \n",
    "    <td>toggle output scrolling</td> \n",
    "  </tr>\n",
    "  <tr>\n",
    "    <td>5</td> \n",
    "    <td>to heading 5</td>\n",
    "    <td>x</td> \n",
    "    <td>cut cell</td> \n",
    "  </tr>\n",
    "    <tr>\n",
    "    <td>6</td> \n",
    "    <td>to heading 6</td>\n",
    "    <td>Up</td> \n",
    "    <td>select previous cell</td> \n",
    "  </tr>\t\n",
    "  <tr>\n",
    "    <td>a</td> \n",
    "    <td>insert cell above</td>\n",
    "    <td>Down</td> \n",
    "    <td>select next cell</td> \n",
    "  </tr>\n",
    "  <tr>\n",
    "    <td>b</td> \n",
    "    <td>insert cell below</td>\n",
    "    <td>q</td> \n",
    "    <td>close pager</td> \n",
    "  </tr>\n",
    "  <tr>\n",
    "    <td>k</td> \n",
    "    <td>select previous cell</td>\n",
    "    <td>h</td> \n",
    "    <td>keyboard shortcuts</td> \n",
    "  </tr>\n",
    "  <tr>\n",
    "    <td>j</td> \n",
    "    <td>select next cell</td>\n",
    "    <td>ii</td> \n",
    "    <td>interrupt kernel</td> \n",
    "  </tr>\n",
    "  <tr>\n",
    "    <td>Ctrl+k</td> \n",
    "    <td>move cell up</td>\n",
    "    <td>00</td> \n",
    "    <td>restart kernel</td> \n",
    "  </tr>\n",
    "  <tr>\n",
    "    <td>Ctrl-j</td>   \n",
    "    <td>move cell down</td>\n",
    "    <td></td> \n",
    "    <td></td>\n",
    "  </tr>\n",
    "</table>"
   ]
  },
  {
   "cell_type": "markdown",
   "metadata": {},
   "source": [
    "2) 편집 모드 (edit Mode) : 초록색 셀 내에서 가능\n",
    "\n",
    "(1) Cmd 명령어"
   ]
  },
  {
   "cell_type": "markdown",
   "metadata": {},
   "source": [
    "<table class=\"table-bordered\" style=\"width:60%\">\n",
    "  <tr>\n",
    "    <td>**키보드**</td>\n",
    "    <td>**기능**</td>\n",
    "    <td>**키보드**</td> \n",
    "    <td>**기능**</td> \n",
    "  </tr>\n",
    "  <tr>\n",
    "    <td>Tab</td>\n",
    "    <td>code completion or indent</td>\n",
    "    <td>Opt+Left</td>\n",
    "    <td>go one word left</td>\n",
    "  </tr>\n",
    "  <tr>\n",
    "    <td>Shift+Tab</td> \n",
    "    <td>tooltip (내부정보)</td>\n",
    "    <td>Opt+Right</td> \n",
    "    <td>go one word right</td> \n",
    "  </tr>\n",
    "  <tr>\n",
    "    <td>Cmd+]</td> \n",
    "    <td>indent</td>\n",
    "    <td>Opt+Backspace</td> \n",
    "    <td>del word before</td> \n",
    "  </tr>\n",
    "  <tr>\n",
    "    <td>Cmd+[</td> \n",
    "    <td>dedent</td>\n",
    "    <td>Opt+Delete</td> \n",
    "    <td>del word after</td> \n",
    "  </tr>\n",
    "  <tr>\n",
    "    <td>Cmd+a</td> \n",
    "    <td>select all</td>\n",
    "    <td>Esc</td> \n",
    "    <td>command mode</td> \n",
    "  </tr>\n",
    "  <tr>\n",
    "    <td>Cmd+z</td> \n",
    "    <td>undo</td>\n",
    "    <td>Ctrl+m</td> \n",
    "    <td>command mode</td> \n",
    "  </tr>\n",
    "  <tr>\n",
    "    <td>Cmd+Shift+z</td> \n",
    "    <td>redo</td>\n",
    "    <td>Shift+Enter</td> \n",
    "    <td>run cell, select below</td> \n",
    "  </tr>\n",
    "  <tr>\n",
    "    <td>Cmd+y</td> \n",
    "    <td>redo</td>\n",
    "    <td>Ctrl+Enter</td> \n",
    "    <td>run cell</td> \n",
    "  </tr>\n",
    "  <tr>\n",
    "    <td>Cmd+Up</td> \n",
    "    <td>go to cell start</td>\n",
    "    <td>Alt+Enter</td> \n",
    "    <td>run cell, insert below</td> \n",
    "  </tr>\n",
    "  <tr>\n",
    "    <td>Cmd+Down</td> \n",
    "    <td>go to cell end</td>\n",
    "    <td>Ctrl+Shift--</td> \n",
    "    <td>split cell</td> \n",
    "  </tr>\n",
    "  <tr>\n",
    "    <td>Cmd+s</td> \n",
    "    <td>save notebook</td>\n",
    "    <td>? + 실행</td> \n",
    "    <td>내부정보 보기</td> \n",
    "  </tr>\n",
    "  <tr>\n",
    "    <td></td>\n",
    "    <td></td>\n",
    "    <td>?? + 실행</td> \n",
    "    <td>코드 소스를 보기</td> \n",
    "  </tr>\n",
    "</table>"
   ]
  },
  {
   "cell_type": "markdown",
   "metadata": {},
   "source": [
    "(2) Ctrl 명령어"
   ]
  },
  {
   "cell_type": "markdown",
   "metadata": {},
   "source": [
    "<table class=\"table-bordered\" style=\"width:40%\">\n",
    "  <tr>\n",
    "    <td>**키보드**</td>\n",
    "    <td>**기능**</td>\n",
    "  </tr>\n",
    "  <tr>\n",
    "    <td>Ctrl+P 또는 위 화살표 키</td>\n",
    "    <td>명령어 히스토리를 역순으로 검색하기</td>\n",
    "  </tr>\n",
    "  <tr>\n",
    "    <td>Ctrl+N 또는 아래 화살표 키</td> \n",
    "    <td>명령어 히스토리에서 최근 순으로 검색하기</td>\n",
    "  </tr>\n",
    "  <tr>\n",
    "    <td>Ctrl+R</td> \n",
    "    <td>readline 명령어 형식의 히스토리 검색(부분 매칭)하기</td>\n",
    "  </tr>\n",
    "  <tr>\n",
    "    <td>Ctrl+Shift+V</td> \n",
    "    <td>클립보드에서 텍스트 붙여넣기</td>\n",
    "  </tr>\n",
    "  <tr>\n",
    "    <td>Ctrl+C</td> \n",
    "    <td>현재 실행 중인 코드 중단하기</td>\n",
    "  </tr>\n",
    "  <tr>\n",
    "    <td>Ctrl+A</td> \n",
    "    <td>커서의 줄의 처음으로 이동하기</td>\n",
    "  </tr>\n",
    "<tr>\n",
    "    <td>Ctrl+E</td> \n",
    "    <td>커서의 줄의 끝으로 이동하기</td> \n",
    "  </tr>\n",
    "    <tr>\n",
    "    <td>Ctrl+K</td> \n",
    "    <td>커서가 놓은 곳부터 줄의 끝까지 텍스트 삭제하기</td>\n",
    "  </tr>\n",
    "  <tr>\n",
    "    <td>Ctrl+U</td> \n",
    "    <td>현재 입력된 모든 텍스트 지우기</td>\n",
    "  </tr>\n",
    "  <tr>\n",
    "    <td>Ctrl+F</td> \n",
    "    <td>커서를 앞으로 한 글자씩 이동하기</td>\n",
    "  </tr>\n",
    "  <tr>\n",
    "    <td>Ctrl+B</td> \n",
    "    <td>커서를 뒤로 한 글자씩 이동하기</td>\n",
    "  </tr>\n",
    "  <tr>\n",
    "    <td>Ctrl+L</td> \n",
    "    <td>화면 지우기</td>    \n",
    "  </tr>    \n",
    "</table>"
   ]
  },
  {
   "cell_type": "code",
   "execution_count": 1,
   "metadata": {},
   "outputs": [],
   "source": [
    "# 함수 만들기\n",
    "def sum(a, b):\n",
    "    \"\"\" test docstring \"\"\"\n",
    "    return a + b"
   ]
  },
  {
   "cell_type": "code",
   "execution_count": 2,
   "metadata": {},
   "outputs": [],
   "source": [
    "# 내부 정보 보기\n",
    "sum?"
   ]
  },
  {
   "cell_type": "code",
   "execution_count": 3,
   "metadata": {},
   "outputs": [],
   "source": [
    "# 함수에 대해 궁금할때 물음표 붙이기 (??)\n",
    "sum??"
   ]
  },
  {
   "cell_type": "code",
   "execution_count": 4,
   "metadata": {
    "scrolled": true
   },
   "outputs": [
    {
     "data": {
      "text/plain": [
       "4"
      ]
     },
     "execution_count": 4,
     "metadata": {},
     "output_type": "execute_result"
    }
   ],
   "source": [
    "sum(1, 3)"
   ]
  },
  {
   "cell_type": "markdown",
   "metadata": {},
   "source": [
    "---"
   ]
  },
  {
   "cell_type": "markdown",
   "metadata": {},
   "source": [
    "### 3. Markdown"
   ]
  },
  {
   "cell_type": "markdown",
   "metadata": {},
   "source": [
    "1) heading : #개수에 따라 크기가 달라짐 (1~5개)\n",
    "\n",
    "# Heading\n",
    "## Heading\n",
    "### Heading\n",
    "#### Heading\n",
    "##### Heading"
   ]
  },
  {
   "cell_type": "markdown",
   "metadata": {},
   "source": [
    "2) 인용 : `>`, `>>` 를 앞에 붙이기\n",
    "\n",
    "> dss\n",
    ">> data science"
   ]
  },
  {
   "cell_type": "markdown",
   "metadata": {},
   "source": [
    "3) 리스트 : `-`, `*` 를 앞에 붙이기\n",
    "\n",
    "- data1\n",
    "- data2\n",
    "    - data2-1\n",
    "    - data2-2\n",
    "- data3"
   ]
  },
  {
   "cell_type": "markdown",
   "metadata": {},
   "source": [
    "4) 코드블럭 : `` 입력\n",
    "\n",
    "`- list`\n",
    "\n",
    "\n",
    "```\n",
    "- list1\n",
    "- list2\n",
    "```"
   ]
  },
  {
   "cell_type": "markdown",
   "metadata": {},
   "source": [
    "5) 링크 link\n",
    "\n",
    "http://google.com\n",
    "\n",
    "`[구글](http://google.com)` 형태로 입력\n",
    "\n",
    "[구글](http://google.com)"
   ]
  },
  {
   "cell_type": "markdown",
   "metadata": {},
   "source": [
    "6) 가로선 긋기 : `---` 입력\n",
    "\n",
    "---"
   ]
  },
  {
   "cell_type": "markdown",
   "metadata": {},
   "source": [
    "### 4. Magic Command (%)"
   ]
  },
  {
   "cell_type": "markdown",
   "metadata": {},
   "source": [
    "1) 정의 : 일반적인 작업이나 IPython 시스템 동작을 쉽게 제어할 수 있도록 설계된 특수한 명령어\n",
    "\n",
    "2) 형태 : %명령어\n",
    "\n",
    "- %(cmd) : 한줄 수행\n",
    "- %%(cmd) : 셀 단위 수행\n",
    "- %(cmd)? : 커멘드에대한 설명"
   ]
  },
  {
   "cell_type": "markdown",
   "metadata": {},
   "source": [
    "3) 내용"
   ]
  },
  {
   "cell_type": "code",
   "execution_count": 5,
   "metadata": {},
   "outputs": [
    {
     "data": {
      "application/json": {
       "cell": {
        "!": "OSMagics",
        "HTML": "Other",
        "SVG": "Other",
        "bash": "Other",
        "capture": "ExecutionMagics",
        "debug": "ExecutionMagics",
        "file": "Other",
        "html": "DisplayMagics",
        "javascript": "DisplayMagics",
        "js": "DisplayMagics",
        "latex": "DisplayMagics",
        "markdown": "DisplayMagics",
        "perl": "Other",
        "prun": "ExecutionMagics",
        "pypy": "Other",
        "python": "Other",
        "python2": "Other",
        "python3": "Other",
        "ruby": "Other",
        "script": "ScriptMagics",
        "sh": "Other",
        "svg": "DisplayMagics",
        "sx": "OSMagics",
        "system": "OSMagics",
        "time": "ExecutionMagics",
        "timeit": "ExecutionMagics",
        "writefile": "OSMagics"
       },
       "line": {
        "alias": "OSMagics",
        "alias_magic": "BasicMagics",
        "autocall": "AutoMagics",
        "automagic": "AutoMagics",
        "autosave": "KernelMagics",
        "bookmark": "OSMagics",
        "cat": "Other",
        "cd": "OSMagics",
        "clear": "KernelMagics",
        "colors": "BasicMagics",
        "config": "ConfigMagics",
        "connect_info": "KernelMagics",
        "cp": "Other",
        "debug": "ExecutionMagics",
        "dhist": "OSMagics",
        "dirs": "OSMagics",
        "doctest_mode": "BasicMagics",
        "ed": "Other",
        "edit": "KernelMagics",
        "env": "OSMagics",
        "gui": "BasicMagics",
        "hist": "Other",
        "history": "HistoryMagics",
        "killbgscripts": "ScriptMagics",
        "ldir": "Other",
        "less": "KernelMagics",
        "lf": "Other",
        "lk": "Other",
        "ll": "Other",
        "load": "CodeMagics",
        "load_ext": "ExtensionMagics",
        "loadpy": "CodeMagics",
        "logoff": "LoggingMagics",
        "logon": "LoggingMagics",
        "logstart": "LoggingMagics",
        "logstate": "LoggingMagics",
        "logstop": "LoggingMagics",
        "ls": "Other",
        "lsmagic": "BasicMagics",
        "lx": "Other",
        "macro": "ExecutionMagics",
        "magic": "BasicMagics",
        "man": "KernelMagics",
        "matplotlib": "PylabMagics",
        "mkdir": "Other",
        "more": "KernelMagics",
        "mv": "Other",
        "notebook": "BasicMagics",
        "page": "BasicMagics",
        "pastebin": "CodeMagics",
        "pdb": "ExecutionMagics",
        "pdef": "NamespaceMagics",
        "pdoc": "NamespaceMagics",
        "pfile": "NamespaceMagics",
        "pinfo": "NamespaceMagics",
        "pinfo2": "NamespaceMagics",
        "pip": "BasicMagics",
        "popd": "OSMagics",
        "pprint": "BasicMagics",
        "precision": "BasicMagics",
        "profile": "BasicMagics",
        "prun": "ExecutionMagics",
        "psearch": "NamespaceMagics",
        "psource": "NamespaceMagics",
        "pushd": "OSMagics",
        "pwd": "OSMagics",
        "pycat": "OSMagics",
        "pylab": "PylabMagics",
        "qtconsole": "KernelMagics",
        "quickref": "BasicMagics",
        "recall": "HistoryMagics",
        "rehashx": "OSMagics",
        "reload_ext": "ExtensionMagics",
        "rep": "Other",
        "rerun": "HistoryMagics",
        "reset": "NamespaceMagics",
        "reset_selective": "NamespaceMagics",
        "rm": "Other",
        "rmdir": "Other",
        "run": "ExecutionMagics",
        "save": "CodeMagics",
        "sc": "OSMagics",
        "set_env": "OSMagics",
        "store": "StoreMagics",
        "sx": "OSMagics",
        "system": "OSMagics",
        "tb": "ExecutionMagics",
        "time": "ExecutionMagics",
        "timeit": "ExecutionMagics",
        "unalias": "OSMagics",
        "unload_ext": "ExtensionMagics",
        "who": "NamespaceMagics",
        "who_ls": "NamespaceMagics",
        "whos": "NamespaceMagics",
        "xdel": "NamespaceMagics",
        "xmode": "BasicMagics"
       }
      },
      "text/plain": [
       "Available line magics:\n",
       "%alias  %alias_magic  %autocall  %automagic  %autosave  %bookmark  %cat  %cd  %clear  %colors  %config  %connect_info  %cp  %debug  %dhist  %dirs  %doctest_mode  %ed  %edit  %env  %gui  %hist  %history  %killbgscripts  %ldir  %less  %lf  %lk  %ll  %load  %load_ext  %loadpy  %logoff  %logon  %logstart  %logstate  %logstop  %ls  %lsmagic  %lx  %macro  %magic  %man  %matplotlib  %mkdir  %more  %mv  %notebook  %page  %pastebin  %pdb  %pdef  %pdoc  %pfile  %pinfo  %pinfo2  %popd  %pprint  %precision  %profile  %prun  %psearch  %psource  %pushd  %pwd  %pycat  %pylab  %qtconsole  %quickref  %recall  %rehashx  %reload_ext  %rep  %rerun  %reset  %reset_selective  %rm  %rmdir  %run  %save  %sc  %set_env  %store  %sx  %system  %tb  %time  %timeit  %unalias  %unload_ext  %who  %who_ls  %whos  %xdel  %xmode\n",
       "\n",
       "Available cell magics:\n",
       "%%!  %%HTML  %%SVG  %%bash  %%capture  %%debug  %%file  %%html  %%javascript  %%js  %%latex  %%markdown  %%perl  %%prun  %%pypy  %%python  %%python2  %%python3  %%ruby  %%script  %%sh  %%svg  %%sx  %%system  %%time  %%timeit  %%writefile\n",
       "\n",
       "Automagic is ON, % prefix IS NOT needed for line magics."
      ]
     },
     "execution_count": 5,
     "metadata": {},
     "output_type": "execute_result"
    }
   ],
   "source": [
    "# magic command 명령어 목록\n",
    "%lsmagic "
   ]
  },
  {
   "cell_type": "code",
   "execution_count": 6,
   "metadata": {
    "scrolled": true
   },
   "outputs": [
    {
     "data": {
      "text/plain": [
       "'/Users/jisungin/Desktop/git/Python/Python/01_Grammer_basic'"
      ]
     },
     "execution_count": 6,
     "metadata": {},
     "output_type": "execute_result"
    }
   ],
   "source": [
    "# 현재 Ipython 위치 확인\n",
    "%pwd "
   ]
  },
  {
   "cell_type": "code",
   "execution_count": 7,
   "metadata": {},
   "outputs": [
    {
     "name": "stdout",
     "output_type": "stream",
     "text": [
      "\u001b[31m00_Ipython_basic.ipynb\u001b[m\u001b[m*        \u001b[31m09_os.ipynb\u001b[m\u001b[m*\r\n",
      "\u001b[31m01_basic_syntax.ipynb\u001b[m\u001b[m*         \u001b[31m10_thread.ipynb\u001b[m\u001b[m*\r\n",
      "\u001b[31m02_condition_loop_input.ipynb\u001b[m\u001b[m* \u001b[31m11_regex.ipynb\u001b[m\u001b[m*\r\n",
      "\u001b[31m03_quiz.ipynb\u001b[m\u001b[m*                 \u001b[31m12. pivot.ipynb\u001b[m\u001b[m*\r\n",
      "\u001b[31m04_function.ipynb\u001b[m\u001b[m*             \u001b[31m13. summary.ipynb\u001b[m\u001b[m*\r\n",
      "\u001b[31m05_class.ipynb\u001b[m\u001b[m*                \u001b[1m\u001b[36mquiz\u001b[m\u001b[m/\r\n",
      "\u001b[31m06_module_package.ipynb\u001b[m\u001b[m*       test 2.py\r\n",
      "\u001b[31m07_try_except.ipynb\u001b[m\u001b[m*           test.py\r\n",
      "\u001b[31m08_file.ipynb\u001b[m\u001b[m*\r\n"
     ]
    }
   ],
   "source": [
    "# 내부 리스트 보여주기\n",
    "%ls "
   ]
  },
  {
   "cell_type": "code",
   "execution_count": 8,
   "metadata": {},
   "outputs": [
    {
     "name": "stdout",
     "output_type": "stream",
     "text": [
      "Variable   Type        Data/Info\n",
      "--------------------------------\n",
      "sum        function    <function sum at 0x10a127488>\n"
     ]
    }
   ],
   "source": [
    "# Jupyter notebook 내에서 가지고 있는 함수, 변수 보여주기\n",
    "%whos "
   ]
  },
  {
   "cell_type": "code",
   "execution_count": 9,
   "metadata": {},
   "outputs": [
    {
     "data": {
      "text/plain": [
       "1"
      ]
     },
     "execution_count": 9,
     "metadata": {},
     "output_type": "execute_result"
    }
   ],
   "source": [
    "a = 1; a"
   ]
  },
  {
   "cell_type": "code",
   "execution_count": 10,
   "metadata": {},
   "outputs": [
    {
     "name": "stdout",
     "output_type": "stream",
     "text": [
      "Variable   Type        Data/Info\n",
      "--------------------------------\n",
      "a          int         1\n",
      "sum        function    <function sum at 0x10a127488>\n"
     ]
    }
   ],
   "source": [
    "# a가 추가 된 것을 확인 할 수 있음\n",
    "%whos "
   ]
  },
  {
   "cell_type": "code",
   "execution_count": 11,
   "metadata": {},
   "outputs": [
    {
     "name": "stdout",
     "output_type": "stream",
     "text": [
      "Once deleted, variables cannot be recovered. Proceed (y/[n])? y\n"
     ]
    }
   ],
   "source": [
    "# 저장했던 변수들 다 삭제하기 (y를 입력하면 삭제, n을 입력하면 그대로)\n",
    "%reset "
   ]
  },
  {
   "cell_type": "code",
   "execution_count": 12,
   "metadata": {},
   "outputs": [
    {
     "name": "stdout",
     "output_type": "stream",
     "text": [
      "Interactive namespace is empty.\n"
     ]
    }
   ],
   "source": [
    "%whos "
   ]
  },
  {
   "cell_type": "code",
   "execution_count": 13,
   "metadata": {},
   "outputs": [
    {
     "name": "stdout",
     "output_type": "stream",
     "text": [
      "CPU times: user 3 µs, sys: 0 ns, total: 3 µs\n",
      "Wall time: 8.11 µs\n"
     ]
    },
    {
     "data": {
      "text/plain": [
       "4"
      ]
     },
     "execution_count": 13,
     "metadata": {},
     "output_type": "execute_result"
    }
   ],
   "source": [
    "%%time \n",
    "1 + 3 \n",
    "# 함수 실행 시간 출력"
   ]
  },
  {
   "cell_type": "code",
   "execution_count": 14,
   "metadata": {},
   "outputs": [
    {
     "name": "stdout",
     "output_type": "stream",
     "text": [
      "13.9 ns ± 0.184 ns per loop (mean ± std. dev. of 7 runs, 100000000 loops each)\n"
     ]
    }
   ],
   "source": [
    "%%timeit \n",
    "1 + 3\n",
    "# 함수 여러번 실행하여 평균 시간 출력"
   ]
  },
  {
   "cell_type": "code",
   "execution_count": 15,
   "metadata": {},
   "outputs": [
    {
     "name": "stdout",
     "output_type": "stream",
     "text": [
      "Overwriting test.py\n"
     ]
    }
   ],
   "source": [
    "%%writefile test.py \n",
    "print(2 + 3)\n",
    "# 파일 생성"
   ]
  },
  {
   "cell_type": "code",
   "execution_count": 16,
   "metadata": {
    "scrolled": true
   },
   "outputs": [
    {
     "name": "stdout",
     "output_type": "stream",
     "text": [
      "\u001b[31m00_Ipython_basic.ipynb\u001b[m\u001b[m*        \u001b[31m09_os.ipynb\u001b[m\u001b[m*\r\n",
      "\u001b[31m01_basic_syntax.ipynb\u001b[m\u001b[m*         \u001b[31m10_thread.ipynb\u001b[m\u001b[m*\r\n",
      "\u001b[31m02_condition_loop_input.ipynb\u001b[m\u001b[m* \u001b[31m11_regex.ipynb\u001b[m\u001b[m*\r\n",
      "\u001b[31m03_quiz.ipynb\u001b[m\u001b[m*                 \u001b[31m12. pivot.ipynb\u001b[m\u001b[m*\r\n",
      "\u001b[31m04_function.ipynb\u001b[m\u001b[m*             \u001b[31m13. summary.ipynb\u001b[m\u001b[m*\r\n",
      "\u001b[31m05_class.ipynb\u001b[m\u001b[m*                \u001b[1m\u001b[36mquiz\u001b[m\u001b[m/\r\n",
      "\u001b[31m06_module_package.ipynb\u001b[m\u001b[m*       test 2.py\r\n",
      "\u001b[31m07_try_except.ipynb\u001b[m\u001b[m*           test.py\r\n",
      "\u001b[31m08_file.ipynb\u001b[m\u001b[m*\r\n"
     ]
    }
   ],
   "source": [
    "%ls # 테스트 파일이 생성된 것을 확인 할 수 있음"
   ]
  },
  {
   "cell_type": "code",
   "execution_count": 17,
   "metadata": {},
   "outputs": [
    {
     "name": "stdout",
     "output_type": "stream",
     "text": [
      "5\n"
     ]
    }
   ],
   "source": [
    "# Ipython 내에서 파이썬 스크립트 실행\n",
    "# 파이썬 스크립트 파일을 빈 작업공간에서 실행\n",
    "%run test.py "
   ]
  },
  {
   "cell_type": "code",
   "execution_count": 18,
   "metadata": {},
   "outputs": [],
   "source": [
    "# %load 파일명 :  파일 내부 그대로 가져오기\n",
    "def sum(a, b):\n",
    "    return a + b"
   ]
  },
  {
   "cell_type": "code",
   "execution_count": 19,
   "metadata": {},
   "outputs": [],
   "source": [
    "# Magic command 에 대한 설명 (?입력)\n",
    "%history? "
   ]
  },
  {
   "cell_type": "markdown",
   "metadata": {},
   "source": [
    "---"
   ]
  },
  {
   "cell_type": "markdown",
   "metadata": {},
   "source": [
    "### 5. Shell Command (!)"
   ]
  },
  {
   "cell_type": "markdown",
   "metadata": {},
   "source": [
    "1) 정의 : python에서 리눅스 쉘 명령어(shell command)를 이용"
   ]
  },
  {
   "cell_type": "markdown",
   "metadata": {},
   "source": [
    "2) 내용"
   ]
  },
  {
   "cell_type": "code",
   "execution_count": 20,
   "metadata": {},
   "outputs": [
    {
     "name": "stdout",
     "output_type": "stream",
     "text": [
      "\u001b[31m00_Ipython_basic.ipynb\u001b[m\u001b[m        \u001b[31m09_os.ipynb\u001b[m\u001b[m\r\n",
      "\u001b[31m01_basic_syntax.ipynb\u001b[m\u001b[m         \u001b[31m10_thread.ipynb\u001b[m\u001b[m\r\n",
      "\u001b[31m02_condition_loop_input.ipynb\u001b[m\u001b[m \u001b[31m11_regex.ipynb\u001b[m\u001b[m\r\n",
      "\u001b[31m03_quiz.ipynb\u001b[m\u001b[m                 \u001b[31m12. pivot.ipynb\u001b[m\u001b[m\r\n",
      "\u001b[31m04_function.ipynb\u001b[m\u001b[m             \u001b[31m13. summary.ipynb\u001b[m\u001b[m\r\n",
      "\u001b[31m05_class.ipynb\u001b[m\u001b[m                \u001b[1m\u001b[36mquiz\u001b[m\u001b[m\r\n",
      "\u001b[31m06_module_package.ipynb\u001b[m\u001b[m       test 2.py\r\n",
      "\u001b[31m07_try_except.ipynb\u001b[m\u001b[m           test.py\r\n",
      "\u001b[31m08_file.ipynb\u001b[m\u001b[m\r\n"
     ]
    }
   ],
   "source": [
    "# 리스트 보여주기\n",
    "! ls "
   ]
  },
  {
   "cell_type": "code",
   "execution_count": 21,
   "metadata": {},
   "outputs": [
    {
     "name": "stdout",
     "output_type": "stream",
     "text": [
      "python\r\n"
     ]
    }
   ],
   "source": [
    "# 문자열 선언\n",
    "! echo \"python\" "
   ]
  },
  {
   "cell_type": "code",
   "execution_count": 22,
   "metadata": {},
   "outputs": [],
   "source": [
    "# 파일 만들기 (cf. %에선 writefile)\n",
    "! touch dss.py "
   ]
  },
  {
   "cell_type": "code",
   "execution_count": 23,
   "metadata": {},
   "outputs": [
    {
     "name": "stdout",
     "output_type": "stream",
     "text": [
      "\u001b[31m00_Ipython_basic.ipynb\u001b[m\u001b[m        \u001b[31m09_os.ipynb\u001b[m\u001b[m\r\n",
      "\u001b[31m01_basic_syntax.ipynb\u001b[m\u001b[m         \u001b[31m10_thread.ipynb\u001b[m\u001b[m\r\n",
      "\u001b[31m02_condition_loop_input.ipynb\u001b[m\u001b[m \u001b[31m11_regex.ipynb\u001b[m\u001b[m\r\n",
      "\u001b[31m03_quiz.ipynb\u001b[m\u001b[m                 \u001b[31m12. pivot.ipynb\u001b[m\u001b[m\r\n",
      "\u001b[31m04_function.ipynb\u001b[m\u001b[m             \u001b[31m13. summary.ipynb\u001b[m\u001b[m\r\n",
      "\u001b[31m05_class.ipynb\u001b[m\u001b[m                dss.py\r\n",
      "\u001b[31m06_module_package.ipynb\u001b[m\u001b[m       \u001b[1m\u001b[36mquiz\u001b[m\u001b[m\r\n",
      "\u001b[31m07_try_except.ipynb\u001b[m\u001b[m           test 2.py\r\n",
      "\u001b[31m08_file.ipynb\u001b[m\u001b[m                 test.py\r\n"
     ]
    }
   ],
   "source": [
    "! ls # 잘 만들어졌는지 확인"
   ]
  },
  {
   "cell_type": "code",
   "execution_count": 24,
   "metadata": {},
   "outputs": [],
   "source": [
    "# 파일 리스트를 file_list 변수에 저장\n",
    "file_list = ! ls"
   ]
  },
  {
   "cell_type": "code",
   "execution_count": 25,
   "metadata": {},
   "outputs": [
    {
     "data": {
      "text/plain": [
       "['00_Ipython_basic.ipynb',\n",
       " '01_basic_syntax.ipynb',\n",
       " '02_condition_loop_input.ipynb',\n",
       " '03_quiz.ipynb',\n",
       " '04_function.ipynb',\n",
       " '05_class.ipynb',\n",
       " '06_module_package.ipynb',\n",
       " '07_try_except.ipynb',\n",
       " '08_file.ipynb',\n",
       " '09_os.ipynb',\n",
       " '10_thread.ipynb',\n",
       " '11_regex.ipynb',\n",
       " '12. pivot.ipynb',\n",
       " '13. summary.ipynb',\n",
       " 'dss.py',\n",
       " 'quiz',\n",
       " 'test 2.py',\n",
       " 'test.py']"
      ]
     },
     "execution_count": 25,
     "metadata": {},
     "output_type": "execute_result"
    }
   ],
   "source": [
    "file_list"
   ]
  },
  {
   "cell_type": "code",
   "execution_count": 26,
   "metadata": {},
   "outputs": [
    {
     "name": "stdout",
     "output_type": "stream",
     "text": [
      "[00_Ipython_basic.ipynb, 01_basic_syntax.ipynb, 02_condition_loop_input.ipynb, 03_quiz.ipynb, 04_function.ipynb, 05_class.ipynb, 06_module_package.ipynb, 07_try_except.ipynb, 08_file.ipynb, 09_os.ipynb, 10_thread.ipynb, 11_regex.ipynb, 12. pivot.ipynb, 13. summary.ipynb, dss.py, quiz, test 2.py, test.py]\r\n"
     ]
    }
   ],
   "source": [
    "! echo {file_list}"
   ]
  },
  {
   "cell_type": "code",
   "execution_count": 27,
   "metadata": {},
   "outputs": [
    {
     "name": "stdout",
     "output_type": "stream",
     "text": [
      "print(2 + 3)\r\n",
      "# 파일 생성"
     ]
    }
   ],
   "source": [
    "# test파일이 내부정보 확인\n",
    "! cat test.py "
   ]
  },
  {
   "cell_type": "code",
   "execution_count": 28,
   "metadata": {},
   "outputs": [],
   "source": [
    "# 디렉토리 만들기\n",
    "! mkdir python "
   ]
  },
  {
   "cell_type": "code",
   "execution_count": 29,
   "metadata": {},
   "outputs": [
    {
     "name": "stdout",
     "output_type": "stream",
     "text": [
      "\u001b[31m00_Ipython_basic.ipynb\u001b[m\u001b[m        \u001b[31m10_thread.ipynb\u001b[m\u001b[m\r\n",
      "\u001b[31m01_basic_syntax.ipynb\u001b[m\u001b[m         \u001b[31m11_regex.ipynb\u001b[m\u001b[m\r\n",
      "\u001b[31m02_condition_loop_input.ipynb\u001b[m\u001b[m \u001b[31m12. pivot.ipynb\u001b[m\u001b[m\r\n",
      "\u001b[31m03_quiz.ipynb\u001b[m\u001b[m                 \u001b[31m13. summary.ipynb\u001b[m\u001b[m\r\n",
      "\u001b[31m04_function.ipynb\u001b[m\u001b[m             dss.py\r\n",
      "\u001b[31m05_class.ipynb\u001b[m\u001b[m                \u001b[1m\u001b[36mpython\u001b[m\u001b[m\r\n",
      "\u001b[31m06_module_package.ipynb\u001b[m\u001b[m       \u001b[1m\u001b[36mquiz\u001b[m\u001b[m\r\n",
      "\u001b[31m07_try_except.ipynb\u001b[m\u001b[m           test 2.py\r\n",
      "\u001b[31m08_file.ipynb\u001b[m\u001b[m                 test.py\r\n",
      "\u001b[31m09_os.ipynb\u001b[m\u001b[m\r\n"
     ]
    }
   ],
   "source": [
    "! ls "
   ]
  },
  {
   "cell_type": "code",
   "execution_count": 30,
   "metadata": {},
   "outputs": [],
   "source": [
    "# 디렉토리 제거하기\n",
    "! rmdir python "
   ]
  },
  {
   "cell_type": "code",
   "execution_count": 31,
   "metadata": {},
   "outputs": [
    {
     "name": "stdout",
     "output_type": "stream",
     "text": [
      "\u001b[31m00_Ipython_basic.ipynb\u001b[m\u001b[m        \u001b[31m09_os.ipynb\u001b[m\u001b[m\r\n",
      "\u001b[31m01_basic_syntax.ipynb\u001b[m\u001b[m         \u001b[31m10_thread.ipynb\u001b[m\u001b[m\r\n",
      "\u001b[31m02_condition_loop_input.ipynb\u001b[m\u001b[m \u001b[31m11_regex.ipynb\u001b[m\u001b[m\r\n",
      "\u001b[31m03_quiz.ipynb\u001b[m\u001b[m                 \u001b[31m12. pivot.ipynb\u001b[m\u001b[m\r\n",
      "\u001b[31m04_function.ipynb\u001b[m\u001b[m             \u001b[31m13. summary.ipynb\u001b[m\u001b[m\r\n",
      "\u001b[31m05_class.ipynb\u001b[m\u001b[m                dss.py\r\n",
      "\u001b[31m06_module_package.ipynb\u001b[m\u001b[m       \u001b[1m\u001b[36mquiz\u001b[m\u001b[m\r\n",
      "\u001b[31m07_try_except.ipynb\u001b[m\u001b[m           test 2.py\r\n",
      "\u001b[31m08_file.ipynb\u001b[m\u001b[m                 test.py\r\n"
     ]
    }
   ],
   "source": [
    "! ls # 디렉토리 제거 확인"
   ]
  },
  {
   "cell_type": "code",
   "execution_count": 32,
   "metadata": {},
   "outputs": [],
   "source": [
    "# test.py를 test2.py로 복사하기\n",
    "! cp test.py test2.py "
   ]
  },
  {
   "cell_type": "code",
   "execution_count": 33,
   "metadata": {},
   "outputs": [
    {
     "name": "stdout",
     "output_type": "stream",
     "text": [
      "\u001b[31m00_Ipython_basic.ipynb\u001b[m\u001b[m        \u001b[31m10_thread.ipynb\u001b[m\u001b[m\r\n",
      "\u001b[31m01_basic_syntax.ipynb\u001b[m\u001b[m         \u001b[31m11_regex.ipynb\u001b[m\u001b[m\r\n",
      "\u001b[31m02_condition_loop_input.ipynb\u001b[m\u001b[m \u001b[31m12. pivot.ipynb\u001b[m\u001b[m\r\n",
      "\u001b[31m03_quiz.ipynb\u001b[m\u001b[m                 \u001b[31m13. summary.ipynb\u001b[m\u001b[m\r\n",
      "\u001b[31m04_function.ipynb\u001b[m\u001b[m             dss.py\r\n",
      "\u001b[31m05_class.ipynb\u001b[m\u001b[m                \u001b[1m\u001b[36mquiz\u001b[m\u001b[m\r\n",
      "\u001b[31m06_module_package.ipynb\u001b[m\u001b[m       test 2.py\r\n",
      "\u001b[31m07_try_except.ipynb\u001b[m\u001b[m           test.py\r\n",
      "\u001b[31m08_file.ipynb\u001b[m\u001b[m                 test2.py\r\n",
      "\u001b[31m09_os.ipynb\u001b[m\u001b[m\r\n"
     ]
    }
   ],
   "source": [
    "! ls # 복사 됐는지 확인"
   ]
  },
  {
   "cell_type": "code",
   "execution_count": 34,
   "metadata": {},
   "outputs": [
    {
     "name": "stdout",
     "output_type": "stream",
     "text": [
      "print(2 + 3)\r\n",
      "# 파일 생성"
     ]
    }
   ],
   "source": [
    "! cat test2.py"
   ]
  },
  {
   "cell_type": "code",
   "execution_count": 35,
   "metadata": {},
   "outputs": [],
   "source": [
    "# 파일 제거하기\n",
    "! rm test2.py "
   ]
  },
  {
   "cell_type": "code",
   "execution_count": 36,
   "metadata": {},
   "outputs": [
    {
     "name": "stdout",
     "output_type": "stream",
     "text": [
      "\u001b[31m00_Ipython_basic.ipynb\u001b[m\u001b[m        \u001b[31m09_os.ipynb\u001b[m\u001b[m\r\n",
      "\u001b[31m01_basic_syntax.ipynb\u001b[m\u001b[m         \u001b[31m10_thread.ipynb\u001b[m\u001b[m\r\n",
      "\u001b[31m02_condition_loop_input.ipynb\u001b[m\u001b[m \u001b[31m11_regex.ipynb\u001b[m\u001b[m\r\n",
      "\u001b[31m03_quiz.ipynb\u001b[m\u001b[m                 \u001b[31m12. pivot.ipynb\u001b[m\u001b[m\r\n",
      "\u001b[31m04_function.ipynb\u001b[m\u001b[m             \u001b[31m13. summary.ipynb\u001b[m\u001b[m\r\n",
      "\u001b[31m05_class.ipynb\u001b[m\u001b[m                dss.py\r\n",
      "\u001b[31m06_module_package.ipynb\u001b[m\u001b[m       \u001b[1m\u001b[36mquiz\u001b[m\u001b[m\r\n",
      "\u001b[31m07_try_except.ipynb\u001b[m\u001b[m           test 2.py\r\n",
      "\u001b[31m08_file.ipynb\u001b[m\u001b[m                 test.py\r\n"
     ]
    }
   ],
   "source": [
    "! ls # 제거 됐는지 확인"
   ]
  },
  {
   "cell_type": "code",
   "execution_count": 37,
   "metadata": {},
   "outputs": [],
   "source": [
    "# test.py를 dss.py라는 이름으로 변경하기\n",
    "! mv test.py dss.py "
   ]
  },
  {
   "cell_type": "code",
   "execution_count": 38,
   "metadata": {},
   "outputs": [
    {
     "name": "stdout",
     "output_type": "stream",
     "text": [
      "\u001b[31m00_Ipython_basic.ipynb\u001b[m\u001b[m        \u001b[31m09_os.ipynb\u001b[m\u001b[m\r\n",
      "\u001b[31m01_basic_syntax.ipynb\u001b[m\u001b[m         \u001b[31m10_thread.ipynb\u001b[m\u001b[m\r\n",
      "\u001b[31m02_condition_loop_input.ipynb\u001b[m\u001b[m \u001b[31m11_regex.ipynb\u001b[m\u001b[m\r\n",
      "\u001b[31m03_quiz.ipynb\u001b[m\u001b[m                 \u001b[31m12. pivot.ipynb\u001b[m\u001b[m\r\n",
      "\u001b[31m04_function.ipynb\u001b[m\u001b[m             \u001b[31m13. summary.ipynb\u001b[m\u001b[m\r\n",
      "\u001b[31m05_class.ipynb\u001b[m\u001b[m                dss.py\r\n",
      "\u001b[31m06_module_package.ipynb\u001b[m\u001b[m       \u001b[1m\u001b[36mquiz\u001b[m\u001b[m\r\n",
      "\u001b[31m07_try_except.ipynb\u001b[m\u001b[m           test 2.py\r\n",
      "\u001b[31m08_file.ipynb\u001b[m\u001b[m\r\n"
     ]
    }
   ],
   "source": [
    "! ls # 변경 됐는지 확인"
   ]
  },
  {
   "cell_type": "code",
   "execution_count": 39,
   "metadata": {},
   "outputs": [
    {
     "name": "stdout",
     "output_type": "stream",
     "text": [
      "Filesystem      Size   Used  Avail Capacity iused               ifree %iused  Mounted on\r\n",
      "/dev/disk1s1   234Gi   39Gi  193Gi    17% 1091742 9223372036853684065    0%   /\r\n",
      "devfs          187Ki  187Ki    0Bi   100%     648                   0  100%   /dev\r\n",
      "/dev/disk1s4   234Gi  1.0Gi  193Gi     1%       1 9223372036854775806    0%   /private/var/vm\r\n",
      "map -hosts       0Bi    0Bi    0Bi   100%       0                   0  100%   /net\r\n",
      "map auto_home    0Bi    0Bi    0Bi   100%       0                   0  100%   /home\r\n",
      "/dev/disk2s1   932Gi  727Gi  205Gi    79%    1047           214532113    0%   /Volumes/TOURO Mobile\r\n"
     ]
    }
   ],
   "source": [
    "# 하드 정보 보기\n",
    "! df -h "
   ]
  },
  {
   "cell_type": "code",
   "execution_count": 40,
   "metadata": {
    "scrolled": true
   },
   "outputs": [
    {
     "name": "stdout",
     "output_type": "stream",
     "text": [
      "  PID TTY           TIME CMD\r\n",
      " 8891 ttys000    0:00.04 /Applications/iTerm.app/Contents/MacOS/iTerm2 --server\r\n",
      " 8893 ttys000    0:00.20 -zsh\r\n",
      " 8912 ttys000    0:50.55 /usr/local/Cellar/python3/3.6.4_2/Frameworks/Python.fr\r\n"
     ]
    }
   ],
   "source": [
    "! ps"
   ]
  },
  {
   "cell_type": "markdown",
   "metadata": {},
   "source": [
    "---"
   ]
  },
  {
   "cell_type": "markdown",
   "metadata": {},
   "source": [
    "### 6. expression"
   ]
  },
  {
   "cell_type": "code",
   "execution_count": 41,
   "metadata": {},
   "outputs": [],
   "source": [
    "result = 1 + 3 # result라는 변수에 저장"
   ]
  },
  {
   "cell_type": "code",
   "execution_count": 42,
   "metadata": {},
   "outputs": [
    {
     "data": {
      "text/plain": [
       "8"
      ]
     },
     "execution_count": 42,
     "metadata": {},
     "output_type": "execute_result"
    }
   ],
   "source": [
    "result * 2"
   ]
  },
  {
   "cell_type": "code",
   "execution_count": 43,
   "metadata": {},
   "outputs": [
    {
     "data": {
      "text/plain": [
       "4"
      ]
     },
     "execution_count": 43,
     "metadata": {},
     "output_type": "execute_result"
    }
   ],
   "source": [
    "1 + 3"
   ]
  },
  {
   "cell_type": "code",
   "execution_count": 44,
   "metadata": {},
   "outputs": [
    {
     "data": {
      "text/plain": [
       "8"
      ]
     },
     "execution_count": 44,
     "metadata": {},
     "output_type": "execute_result"
    }
   ],
   "source": [
    "# _는 바로 위의 변수를 가져옴\n",
    "_ * 2 "
   ]
  },
  {
   "cell_type": "code",
   "execution_count": 45,
   "metadata": {
    "scrolled": true
   },
   "outputs": [
    {
     "data": {
      "text/plain": [
       "'python'"
      ]
     },
     "execution_count": 45,
     "metadata": {},
     "output_type": "execute_result"
    }
   ],
   "source": [
    "\"python\""
   ]
  },
  {
   "cell_type": "code",
   "execution_count": 46,
   "metadata": {},
   "outputs": [
    {
     "data": {
      "text/plain": [
       "'python test'"
      ]
     },
     "execution_count": 46,
     "metadata": {},
     "output_type": "execute_result"
    }
   ],
   "source": [
    "# 문자형도 연산 가능 \n",
    "_ + \" test\""
   ]
  },
  {
   "cell_type": "code",
   "execution_count": 47,
   "metadata": {
    "scrolled": false
   },
   "outputs": [
    {
     "name": "stdout",
     "output_type": "stream",
     "text": [
      "The Zen of Python, by Tim Peters\n",
      "\n",
      "Beautiful is better than ugly.\n",
      "Explicit is better than implicit.\n",
      "Simple is better than complex.\n",
      "Complex is better than complicated.\n",
      "Flat is better than nested.\n",
      "Sparse is better than dense.\n",
      "Readability counts.\n",
      "Special cases aren't special enough to break the rules.\n",
      "Although practicality beats purity.\n",
      "Errors should never pass silently.\n",
      "Unless explicitly silenced.\n",
      "In the face of ambiguity, refuse the temptation to guess.\n",
      "There should be one-- and preferably only one --obvious way to do it.\n",
      "Although that way may not be obvious at first unless you're Dutch.\n",
      "Now is better than never.\n",
      "Although never is often better than *right* now.\n",
      "If the implementation is hard to explain, it's a bad idea.\n",
      "If the implementation is easy to explain, it may be a good idea.\n",
      "Namespaces are one honking great idea -- let's do more of those!\n"
     ]
    }
   ],
   "source": [
    "# 파이썬 철학\n",
    "import this"
   ]
  },
  {
   "cell_type": "markdown",
   "metadata": {},
   "source": [
    "---"
   ]
  },
  {
   "cell_type": "markdown",
   "metadata": {},
   "source": [
    "### 연습문제"
   ]
  },
  {
   "cell_type": "markdown",
   "metadata": {},
   "source": [
    "#### ``연습문제 1`` 아래 코드가 작성된 test.py 파일 생성 %%writefile\n",
    "```\n",
    "    def sum(a, b): \n",
    "        return a + b\n",
    "```        "
   ]
  },
  {
   "cell_type": "markdown",
   "metadata": {},
   "source": [
    "#### ``정답``"
   ]
  },
  {
   "cell_type": "code",
   "execution_count": 48,
   "metadata": {},
   "outputs": [
    {
     "name": "stdout",
     "output_type": "stream",
     "text": [
      "Writing test.py\n"
     ]
    }
   ],
   "source": [
    "%%writefile test.py\n",
    "def sum(a, b):\n",
    "    return a + b"
   ]
  },
  {
   "cell_type": "markdown",
   "metadata": {},
   "source": [
    "#### ``연습문제 2``  test.py가 생성되었는지 확인 "
   ]
  },
  {
   "cell_type": "markdown",
   "metadata": {},
   "source": [
    "#### ``정답``"
   ]
  },
  {
   "cell_type": "code",
   "execution_count": 49,
   "metadata": {},
   "outputs": [
    {
     "name": "stdout",
     "output_type": "stream",
     "text": [
      "\u001b[31m00_Ipython_basic.ipynb\u001b[m\u001b[m        \u001b[31m09_os.ipynb\u001b[m\u001b[m\r\n",
      "\u001b[31m01_basic_syntax.ipynb\u001b[m\u001b[m         \u001b[31m10_thread.ipynb\u001b[m\u001b[m\r\n",
      "\u001b[31m02_condition_loop_input.ipynb\u001b[m\u001b[m \u001b[31m11_regex.ipynb\u001b[m\u001b[m\r\n",
      "\u001b[31m03_quiz.ipynb\u001b[m\u001b[m                 \u001b[31m12. pivot.ipynb\u001b[m\u001b[m\r\n",
      "\u001b[31m04_function.ipynb\u001b[m\u001b[m             \u001b[31m13. summary.ipynb\u001b[m\u001b[m\r\n",
      "\u001b[31m05_class.ipynb\u001b[m\u001b[m                dss.py\r\n",
      "\u001b[31m06_module_package.ipynb\u001b[m\u001b[m       \u001b[1m\u001b[36mquiz\u001b[m\u001b[m\r\n",
      "\u001b[31m07_try_except.ipynb\u001b[m\u001b[m           test 2.py\r\n",
      "\u001b[31m08_file.ipynb\u001b[m\u001b[m                 test.py\r\n"
     ]
    }
   ],
   "source": [
    "! ls"
   ]
  },
  {
   "cell_type": "markdown",
   "metadata": {},
   "source": [
    "#### ``연습문제 3`` test.py를 dss.py로 변경"
   ]
  },
  {
   "cell_type": "markdown",
   "metadata": {},
   "source": [
    "#### ``정답``"
   ]
  },
  {
   "cell_type": "code",
   "execution_count": 50,
   "metadata": {},
   "outputs": [],
   "source": [
    "! mv test.py dss.py"
   ]
  },
  {
   "cell_type": "markdown",
   "metadata": {},
   "source": [
    "#### ``연습문제 4`` dss.py를 test.py로 복사 "
   ]
  },
  {
   "cell_type": "markdown",
   "metadata": {},
   "source": [
    "#### ``정답``"
   ]
  },
  {
   "cell_type": "code",
   "execution_count": 51,
   "metadata": {},
   "outputs": [],
   "source": [
    "! cp dss.py test.py"
   ]
  },
  {
   "cell_type": "markdown",
   "metadata": {},
   "source": [
    "#### ``연습문제 5`` test.py 파일 로드 "
   ]
  },
  {
   "cell_type": "markdown",
   "metadata": {},
   "source": [
    "#### ``정답``"
   ]
  },
  {
   "cell_type": "code",
   "execution_count": 52,
   "metadata": {},
   "outputs": [],
   "source": [
    "# %load test.py\n",
    "def sum(a, b):\n",
    "    return a + b"
   ]
  },
  {
   "cell_type": "markdown",
   "metadata": {},
   "source": [
    "#### ``연습문제 6`` test.py 실행 (run 명령어 사용 또는 호출된 코드 실행) "
   ]
  },
  {
   "cell_type": "markdown",
   "metadata": {},
   "source": [
    "#### ``정답``"
   ]
  },
  {
   "cell_type": "code",
   "execution_count": 53,
   "metadata": {},
   "outputs": [],
   "source": [
    "%run test.py"
   ]
  },
  {
   "cell_type": "markdown",
   "metadata": {},
   "source": [
    "#### ``연습문제 7`` dss.py 파일 삭제"
   ]
  },
  {
   "cell_type": "markdown",
   "metadata": {},
   "source": [
    "#### ``정답``"
   ]
  },
  {
   "cell_type": "code",
   "execution_count": 54,
   "metadata": {},
   "outputs": [],
   "source": [
    "! rm dss.py"
   ]
  },
  {
   "cell_type": "markdown",
   "metadata": {},
   "source": [
    "#### ``연습문제 8`` sum(1, 2) 실행"
   ]
  },
  {
   "cell_type": "markdown",
   "metadata": {},
   "source": [
    "#### ``정답``"
   ]
  },
  {
   "cell_type": "code",
   "execution_count": 55,
   "metadata": {},
   "outputs": [
    {
     "data": {
      "text/plain": [
       "3"
      ]
     },
     "execution_count": 55,
     "metadata": {},
     "output_type": "execute_result"
    }
   ],
   "source": [
    "sum(1, 2)"
   ]
  },
  {
   "cell_type": "markdown",
   "metadata": {},
   "source": [
    "#### ``연습문제 9`` sum(1, 2) 코드 실행시간 확인 "
   ]
  },
  {
   "cell_type": "markdown",
   "metadata": {},
   "source": [
    "#### ``정답``"
   ]
  },
  {
   "cell_type": "code",
   "execution_count": 56,
   "metadata": {},
   "outputs": [
    {
     "name": "stdout",
     "output_type": "stream",
     "text": [
      "162 ns ± 1.93 ns per loop (mean ± std. dev. of 7 runs, 10000000 loops each)\n"
     ]
    }
   ],
   "source": [
    "%%timeit\n",
    "sum(1, 2)"
   ]
  },
  {
   "cell_type": "markdown",
   "metadata": {},
   "source": [
    "#### ``연습문제 10`` 현재 선언된 변수 확인"
   ]
  },
  {
   "cell_type": "markdown",
   "metadata": {},
   "source": [
    "#### ``정답``"
   ]
  },
  {
   "cell_type": "code",
   "execution_count": 57,
   "metadata": {},
   "outputs": [
    {
     "name": "stdout",
     "output_type": "stream",
     "text": [
      "Variable    Type        Data/Info\n",
      "---------------------------------\n",
      "file_list   SList       ['00_Ipython_basic.ipynb'<...>, 'test 2.py', 'test.py']\n",
      "result      int         4\n",
      "sum         function    <function sum at 0x1086c76a8>\n",
      "this        module      <module 'this' from '/usr<...>6/lib/python3.6/this.py'>\n"
     ]
    }
   ],
   "source": [
    "%whos"
   ]
  },
  {
   "cell_type": "markdown",
   "metadata": {},
   "source": [
    "#### ``연습문제 11`` a = 1 변수 선언"
   ]
  },
  {
   "cell_type": "markdown",
   "metadata": {},
   "source": [
    "#### ``정답``"
   ]
  },
  {
   "cell_type": "code",
   "execution_count": 58,
   "metadata": {},
   "outputs": [],
   "source": [
    "a = 1"
   ]
  },
  {
   "cell_type": "markdown",
   "metadata": {},
   "source": [
    "#### ``연습문제 12`` 선언된 변수 삭제"
   ]
  },
  {
   "cell_type": "markdown",
   "metadata": {},
   "source": [
    "#### ``정답``"
   ]
  },
  {
   "cell_type": "code",
   "execution_count": 59,
   "metadata": {},
   "outputs": [
    {
     "name": "stdout",
     "output_type": "stream",
     "text": [
      "Once deleted, variables cannot be recovered. Proceed (y/[n])? y\n"
     ]
    }
   ],
   "source": [
    "%reset"
   ]
  },
  {
   "cell_type": "markdown",
   "metadata": {},
   "source": [
    "#### ``연습문제 13`` 선언된 변수가 삭제되었는지 확인"
   ]
  },
  {
   "cell_type": "markdown",
   "metadata": {},
   "source": [
    "#### ``정답``"
   ]
  },
  {
   "cell_type": "code",
   "execution_count": 60,
   "metadata": {},
   "outputs": [
    {
     "name": "stdout",
     "output_type": "stream",
     "text": [
      "Interactive namespace is empty.\n"
     ]
    }
   ],
   "source": [
    "%whos"
   ]
  }
 ],
 "metadata": {
  "kernelspec": {
   "display_name": "Python 3",
   "language": "python",
   "name": "python3"
  },
  "language_info": {
   "codemirror_mode": {
    "name": "ipython",
    "version": 3
   },
   "file_extension": ".py",
   "mimetype": "text/x-python",
   "name": "python",
   "nbconvert_exporter": "python",
   "pygments_lexer": "ipython3",
   "version": "3.6.4"
  }
 },
 "nbformat": 4,
 "nbformat_minor": 2
}
