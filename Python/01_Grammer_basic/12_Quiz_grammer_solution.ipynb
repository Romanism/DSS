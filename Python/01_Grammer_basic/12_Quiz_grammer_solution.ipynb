{
 "cells": [
  {
   "cell_type": "markdown",
   "metadata": {},
   "source": [
    "# Quiz"
   ]
  },
  {
   "cell_type": "markdown",
   "metadata": {},
   "source": [
    "##### 1. 5명의 이름을 입력 받아 kim인 성을 가진 사람의 수를 출력\n",
    "- [성(공백)이름] 형태로만 입력(ex : park doojin)"
   ]
  },
  {
   "cell_type": "code",
   "execution_count": 1,
   "metadata": {},
   "outputs": [
    {
     "data": {
      "text/plain": [
       "(['kim sung', 'Kim daegu', 'park sangin', 'lee minsung', 'jung sunin'], 2)"
      ]
     },
     "execution_count": 1,
     "metadata": {},
     "output_type": "execute_result"
    }
   ],
   "source": [
    "# names = []\n",
    "\n",
    "# for _ in range(5):\n",
    "#    name = input(\"insert name :\")\n",
    "#    names.append(name)\n",
    "    \n",
    "names = ['kim sung', 'Kim daegu', 'park sangin', 'lee minsung', 'jung sunin']\n",
    "\n",
    "count = 0\n",
    "\n",
    "for name in names:\n",
    "  \n",
    "    family_name = name.split(\" \")[0].lower()\n",
    "    \n",
    "    if family_name == \"kim\":\n",
    "        count +=1\n",
    "\n",
    "names, count"
   ]
  },
  {
   "cell_type": "markdown",
   "metadata": {},
   "source": [
    "##### 2. 2단에서 9단까지 구구단을 출력하는 프로그램을 작성"
   ]
  },
  {
   "cell_type": "markdown",
   "metadata": {},
   "source": [
    "- 가로로 출력"
   ]
  },
  {
   "cell_type": "code",
   "execution_count": 6,
   "metadata": {
    "scrolled": true
   },
   "outputs": [
    {
     "name": "stdout",
     "output_type": "stream",
     "text": [
      "2단\n",
      "2*1=2\n",
      "2*2=4\n",
      "2*3=6\n",
      "2*4=8\n",
      "2*5=10\n",
      "2*6=12\n",
      "2*7=14\n",
      "2*8=16\n",
      "2*9=18\n",
      "\n",
      "3단\n",
      "3*1=3\n",
      "3*2=6\n",
      "3*3=9\n",
      "3*4=12\n",
      "3*5=15\n",
      "3*6=18\n",
      "3*7=21\n",
      "3*8=24\n",
      "3*9=27\n",
      "\n",
      "4단\n",
      "4*1=4\n",
      "4*2=8\n",
      "4*3=12\n",
      "4*4=16\n",
      "4*5=20\n",
      "4*6=24\n",
      "4*7=28\n",
      "4*8=32\n",
      "4*9=36\n",
      "\n",
      "5단\n",
      "5*1=5\n",
      "5*2=10\n",
      "5*3=15\n",
      "5*4=20\n",
      "5*5=25\n",
      "5*6=30\n",
      "5*7=35\n",
      "5*8=40\n",
      "5*9=45\n",
      "\n",
      "6단\n",
      "6*1=6\n",
      "6*2=12\n",
      "6*3=18\n",
      "6*4=24\n",
      "6*5=30\n",
      "6*6=36\n",
      "6*7=42\n",
      "6*8=48\n",
      "6*9=54\n",
      "\n",
      "7단\n",
      "7*1=7\n",
      "7*2=14\n",
      "7*3=21\n",
      "7*4=28\n",
      "7*5=35\n",
      "7*6=42\n",
      "7*7=49\n",
      "7*8=56\n",
      "7*9=63\n",
      "\n",
      "8단\n",
      "8*1=8\n",
      "8*2=16\n",
      "8*3=24\n",
      "8*4=32\n",
      "8*5=40\n",
      "8*6=48\n",
      "8*7=56\n",
      "8*8=64\n",
      "8*9=72\n",
      "\n",
      "9단\n",
      "9*1=9\n",
      "9*2=18\n",
      "9*3=27\n",
      "9*4=36\n",
      "9*5=45\n",
      "9*6=54\n",
      "9*7=63\n",
      "9*8=72\n",
      "9*9=81\n",
      "\n"
     ]
    }
   ],
   "source": [
    "for num1 in range(2,10):\n",
    "    print(\"{}단\".format(num1))\n",
    "    for num2 in range(1,10):\n",
    "        print(\"{}*{}={}\".format(num1,num2,num1*num2))\n",
    "    print()"
   ]
  },
  {
   "cell_type": "markdown",
   "metadata": {},
   "source": [
    "- 세로로 출력"
   ]
  },
  {
   "cell_type": "code",
   "execution_count": 3,
   "metadata": {},
   "outputs": [
    {
     "name": "stdout",
     "output_type": "stream",
     "text": [
      "2*1=2\t3*1=3\t4*1=4\t5*1=5\t6*1=6\t7*1=7\t8*1=8\t9*1=9\t2*2=4\t3*2=6\t4*2=8\t5*2=10\t6*2=12\t7*2=14\t8*2=16\t9*2=18\t2*3=6\t3*3=9\t4*3=12\t5*3=15\t6*3=18\t7*3=21\t8*3=24\t9*3=27\t2*4=8\t3*4=12\t4*4=16\t5*4=20\t6*4=24\t7*4=28\t8*4=32\t9*4=36\t2*5=10\t3*5=15\t4*5=20\t5*5=25\t6*5=30\t7*5=35\t8*5=40\t9*5=45\t2*6=12\t3*6=18\t4*6=24\t5*6=30\t6*6=36\t7*6=42\t8*6=48\t9*6=54\t2*7=14\t3*7=21\t4*7=28\t5*7=35\t6*7=42\t7*7=49\t8*7=56\t9*7=63\t2*8=16\t3*8=24\t4*8=32\t5*8=40\t6*8=48\t7*8=56\t8*8=64\t9*8=72\t2*9=18\t3*9=27\t4*9=36\t5*9=45\t6*9=54\t7*9=63\t8*9=72\t9*9=81\t"
     ]
    }
   ],
   "source": [
    "for num2 in range(1,10):\n",
    "    for num1 in range(2,10):\n",
    "        print(\"{}*{}={}\".format(num1, num2, num1*num2),end=\"\\t\")\n",
    "                    "
   ]
  },
  {
   "cell_type": "markdown",
   "metadata": {},
   "source": [
    "- 입력 받은 단수의 구구단을 출력"
   ]
  },
  {
   "cell_type": "code",
   "execution_count": 7,
   "metadata": {},
   "outputs": [
    {
     "name": "stdout",
     "output_type": "stream",
     "text": [
      "insert number : 34\n",
      "34*1=34\n",
      "34*2=68\n",
      "34*3=102\n",
      "34*4=136\n",
      "34*5=170\n",
      "34*6=204\n",
      "34*7=238\n",
      "34*8=272\n",
      "34*9=306\n"
     ]
    }
   ],
   "source": [
    "num1 = int(input(\"insert number : \"))\n",
    "\n",
    "for num2 in range(1,10):\n",
    "    print('{}*{}={}'.format(num1,num2,num1*num2))"
   ]
  },
  {
   "cell_type": "markdown",
   "metadata": {},
   "source": [
    "##### 4. up down으로 숫자 맞추기 게임\n",
    "- 랜덤으로 숫자(1~100)를 발생시킴\n",
    "- 숫자를 입력받아 랜덤숫자가 입력받은 숫자보다 크면 Up을 출력, 작으면 Down을 출력\n",
    "- 랜덤 숫자를 맞추면 몇번만에 맞췄는지 카운트를 알려줌\n",
    "- 랜덤수 발생 방법\n",
    "```\n",
    "import random\n",
    "random_number = random.randint(1,100)\n",
    "```"
   ]
  },
  {
   "cell_type": "code",
   "execution_count": null,
   "metadata": {
    "collapsed": true
   },
   "outputs": [],
   "source": [
    "import random\n",
    "\n",
    "random_number = random.randint(1,100)\n",
    "random_number\n",
    "\n",
    "count = 0\n",
    "\n",
    "while True:\n",
    "    \n",
    "    input_numer = int(input(\"insert number : \"))\n",
    "    \n",
    "    count += 1\n",
    "    \n",
    "    if random_number < input_numer:\n",
    "        print(\"Down\")\n",
    "    elif random_number > input_numer:\n",
    "        print(\"UP\")\n",
    "    \n",
    "    else:\n",
    "        print(\"{}번 만에 맞추셨습니다.\".format(count))\n",
    "        break"
   ]
  },
  {
   "cell_type": "markdown",
   "metadata": {},
   "source": [
    "##### 5. 로또번호 출력\n",
    "- 1~45의 6자리의 로또번호를 출력"
   ]
  },
  {
   "cell_type": "code",
   "execution_count": 4,
   "metadata": {
    "collapsed": true
   },
   "outputs": [],
   "source": [
    "import random\n",
    "\n",
    "result = []\n",
    "\n",
    "while len(result) < 6 :\n",
    "\n",
    "    random_number = random.randint(1,45)\n",
    "    \n",
    "    if random_number not in result:\n",
    "        result.append(random_number)\n",
    "\n",
    "a = result.sort()\n",
    "a"
   ]
  },
  {
   "cell_type": "code",
   "execution_count": 41,
   "metadata": {},
   "outputs": [
    {
     "name": "stdout",
     "output_type": "stream",
     "text": [
      "[7, 9, 5, 42, 10, 41]\n"
     ]
    }
   ],
   "source": [
    "random_number1 = random.sample(range(1,45+1),6)\n",
    "\n",
    "print(random_number1)"
   ]
  },
  {
   "cell_type": "markdown",
   "metadata": {},
   "source": [
    "##### 6. FizzBuzz\n",
    "- 1에서 1씩 숫자를 입력받은 숫자까지 증가시키며 3의 배수에서는 Fizz 5의 배수에서는 Buzz 가 출력되도록 프로그램을 작성\n",
    "- 3과 5의 배수에서는 FizzBuzz가 출력"
   ]
  },
  {
   "cell_type": "code",
   "execution_count": 24,
   "metadata": {
    "scrolled": true
   },
   "outputs": [
    {
     "name": "stdout",
     "output_type": "stream",
     "text": [
      "1\n",
      "2\n",
      "Fizz\n",
      "4\n",
      "Buzz\n",
      "Fizz\n",
      "7\n",
      "8\n",
      "Fizz\n",
      "Buzz\n",
      "11\n",
      "Fizz\n",
      "13\n",
      "14\n",
      "Fizz Buzz\n",
      "16\n",
      "17\n",
      "Fizz\n",
      "19\n",
      "Buzz\n"
     ]
    }
   ],
   "source": [
    "number = 20\n",
    "\n",
    "for num in range(1, number+1):\n",
    "    \n",
    "    if (num % 3 == 0) and (num % 5 == 0):\n",
    "        print(\"Fizz Buzz\")\n",
    "    elif num % 3 == 0 :\n",
    "        print(\"Fizz\")\n",
    "    elif num % 5 == 0 :\n",
    "        print(\"Buzz\")\n",
    "    else :\n",
    "        print(num)\n",
    "        "
   ]
  },
  {
   "cell_type": "code",
   "execution_count": 40,
   "metadata": {},
   "outputs": [
    {
     "name": "stdout",
     "output_type": "stream",
     "text": [
      "1\n",
      "2\n",
      "Fizz\n",
      "4\n",
      "Buzz\n",
      "Fizz\n",
      "7\n",
      "8\n",
      "Fizz\n",
      "Buzz\n",
      "11\n",
      "Fizz\n",
      "13\n",
      "14\n",
      "FizzBuzz\n",
      "16\n",
      "17\n",
      "Fizz\n",
      "19\n",
      "Buzz\n",
      "Fizz\n",
      "22\n",
      "23\n",
      "Fizz\n",
      "Buzz\n",
      "26\n",
      "Fizz\n",
      "28\n",
      "29\n",
      "FizzBuzz\n",
      "31\n",
      "32\n",
      "Fizz\n",
      "34\n",
      "Buzz\n",
      "Fizz\n",
      "37\n",
      "38\n",
      "Fizz\n",
      "Buzz\n",
      "41\n",
      "Fizz\n",
      "43\n",
      "44\n",
      "FizzBuzz\n",
      "46\n",
      "47\n",
      "Fizz\n",
      "49\n",
      "Buzz\n",
      "Fizz\n",
      "52\n",
      "53\n",
      "Fizz\n",
      "Buzz\n",
      "56\n",
      "Fizz\n",
      "58\n",
      "59\n",
      "FizzBuzz\n"
     ]
    }
   ],
   "source": [
    "for num in range(1,61):\n",
    "    if (num%3 == 0) and (num%5 == 0) :\n",
    "        print(\"FizzBuzz\")        \n",
    "    elif num%3 == 0 :\n",
    "        print(\"Fizz\")\n",
    "    elif num%5 == 0 :\n",
    "        print(\"Buzz\")\n",
    "\n",
    "    else :\n",
    "        print(num)"
   ]
  },
  {
   "cell_type": "markdown",
   "metadata": {},
   "source": [
    "##### 7. 별찍기 "
   ]
  },
  {
   "cell_type": "markdown",
   "metadata": {},
   "source": [
    "- 숫자를 입력 받아 아래와 같이 별찍기 1"
   ]
  },
  {
   "cell_type": "code",
   "execution_count": 9,
   "metadata": {},
   "outputs": [
    {
     "name": "stdout",
     "output_type": "stream",
     "text": [
      "insert number : 11\n",
      "*\n",
      "**\n",
      "***\n",
      "****\n",
      "*****\n",
      "******\n",
      "*******\n",
      "********\n",
      "*********\n",
      "**********\n",
      "***********\n"
     ]
    }
   ],
   "source": [
    "number = int(input(\"insert number : \"))\n",
    "\n",
    "for num in range(1, number+1):\n",
    "    print(\"*\"* num) "
   ]
  },
  {
   "cell_type": "markdown",
   "metadata": {},
   "source": [
    "- 숫자를 입력받아 아래와 같이 별찍기 2"
   ]
  },
  {
   "cell_type": "code",
   "execution_count": 21,
   "metadata": {},
   "outputs": [
    {
     "name": "stdout",
     "output_type": "stream",
     "text": [
      "insert number : 7\n",
      "      *\n",
      "     **\n",
      "    ***\n",
      "   ****\n",
      "  *****\n",
      " ******\n",
      "*******\n"
     ]
    }
   ],
   "source": [
    "number = int(input(\"insert number : \"))\n",
    "space = number - 1\n",
    "\n",
    "for num in range(1, number+1):\n",
    "    print(\" \"* space + \"*\"* num) \n",
    "    space -= 1"
   ]
  },
  {
   "cell_type": "markdown",
   "metadata": {},
   "source": [
    "- 홀수를 입력 받아 아래와 같이 별을 찍으세요 3"
   ]
  },
  {
   "cell_type": "code",
   "execution_count": 22,
   "metadata": {},
   "outputs": [
    {
     "name": "stdout",
     "output_type": "stream",
     "text": [
      "insert number : 7\n",
      "   *\n",
      "  ***\n",
      " *****\n",
      "*******\n"
     ]
    }
   ],
   "source": [
    "number = int(input(\"insert number : \"))\n",
    "space = number // 2\n",
    "\n",
    "for num in range(1, number + 1, 2):\n",
    "    print(\" \"* space + \"*\"* num) \n",
    "    space -= 1 # 공백이 하나씩 준다"
   ]
  },
  {
   "cell_type": "markdown",
   "metadata": {},
   "source": [
    "- 홀수를 입력 받아 아래와 같이 별을 찍으세요 4"
   ]
  },
  {
   "cell_type": "code",
   "execution_count": 23,
   "metadata": {
    "scrolled": true
   },
   "outputs": [
    {
     "name": "stdout",
     "output_type": "stream",
     "text": [
      "insert number : 7\n",
      "*******\n",
      " *****\n",
      "  ***\n",
      "   *\n"
     ]
    }
   ],
   "source": [
    "number = int(input(\"insert number : \"))\n",
    "space = 0\n",
    "for num in range(number, 0, -2):\n",
    "    print(\" \"* space + \"*\"* num)\n",
    "    space += 1"
   ]
  },
  {
   "cell_type": "markdown",
   "metadata": {},
   "source": [
    "- 홀수의 숫자를 입력받아 다이아몬드 형태의 별을 찍음 5"
   ]
  },
  {
   "cell_type": "code",
   "execution_count": 24,
   "metadata": {
    "scrolled": true
   },
   "outputs": [
    {
     "name": "stdout",
     "output_type": "stream",
     "text": [
      "insert number : 7\n",
      "   *\n",
      "  ***\n",
      " *****\n",
      "*******\n",
      " *****\n",
      "  ***\n",
      "   *\n"
     ]
    }
   ],
   "source": [
    "number = int(input(\"insert number : \"))\n",
    "\n",
    "space = number // 2\n",
    "\n",
    "for num in range(1, number, 2):\n",
    "    print(\" \"* space + \"*\"* num) \n",
    "    space -= 1 # 공백이 하나씩 준다\n",
    "\n",
    "space = 0\n",
    "for num in range(number, 0, -2):\n",
    "    print(\" \"* space + \"*\"* num)\n",
    "    space += 1"
   ]
  },
  {
   "cell_type": "markdown",
   "metadata": {},
   "source": [
    "##### 8. 보어 구하기\n",
    "- complement (보어)를 구하시오\n",
    "- 50의 이진수는 110010\n",
    "- 이진수 110010의 보어는 001101 (0을 1로바꾸고 1을 0으로 바꿈)\n",
    "- 입력된 숫자의 보어를 10진수로 나타내시오\n",
    "\n",
    "결과 예시\n",
    "- 50 -> 13\n",
    "- 100 -> 27\n",
    "\n",
    "힌트\n",
    "- 10진수를 2진수로 변환 : bin(n)\n",
    "- 2진수를 10진수로 변환 : int(n,2)"
   ]
  },
  {
   "cell_type": "code",
   "execution_count": 2,
   "metadata": {},
   "outputs": [
    {
     "name": "stdout",
     "output_type": "stream",
     "text": [
      "insert number :3\n"
     ]
    }
   ],
   "source": [
    "number = int(input(\"insert number :\"))"
   ]
  },
  {
   "cell_type": "code",
   "execution_count": 31,
   "metadata": {},
   "outputs": [
    {
     "name": "stdout",
     "output_type": "stream",
     "text": [
      "110010\n"
     ]
    }
   ],
   "source": [
    "number = bin(50)[2:] # 10진수를 2진수로 변환\n",
    "print(number)"
   ]
  },
  {
   "cell_type": "code",
   "execution_count": 32,
   "metadata": {},
   "outputs": [
    {
     "name": "stdout",
     "output_type": "stream",
     "text": [
      "['0', '0', '1', '1', '0', '1']\n"
     ]
    }
   ],
   "source": [
    "number = [\"0\" if num == \"1\" else \"1\" for num in number] #보어를 만듦\n",
    "print(number)"
   ]
  },
  {
   "cell_type": "code",
   "execution_count": 33,
   "metadata": {},
   "outputs": [
    {
     "name": "stdout",
     "output_type": "stream",
     "text": [
      "001101\n"
     ]
    }
   ],
   "source": [
    "number = \"\".join(number) # 리스트를 합쳐줌\n",
    "print(number)"
   ]
  },
  {
   "cell_type": "code",
   "execution_count": 35,
   "metadata": {},
   "outputs": [
    {
     "name": "stdout",
     "output_type": "stream",
     "text": [
      "37\n"
     ]
    }
   ],
   "source": [
    "number = int(number, 3) # 2진수를 10진수로 변환\n",
    "print(number)"
   ]
  },
  {
   "cell_type": "code",
   "execution_count": 36,
   "metadata": {
    "scrolled": true
   },
   "outputs": [
    {
     "data": {
      "text/plain": [
       "37"
      ]
     },
     "execution_count": 36,
     "metadata": {},
     "output_type": "execute_result"
    }
   ],
   "source": [
    "number"
   ]
  },
  {
   "cell_type": "code",
   "execution_count": 22,
   "metadata": {},
   "outputs": [
    {
     "data": {
      "text/plain": [
       "13"
      ]
     },
     "execution_count": 22,
     "metadata": {},
     "output_type": "execute_result"
    }
   ],
   "source": [
    "# XOR 비트연산자 (같은자리수숫자 비교해서 같으면 0으로 바뀌고 아니면 1이 된다)\n",
    "\n",
    "number = 50\n",
    "data, num = 0, 0\n",
    "\n",
    "while data < number:\n",
    "    data += 2**num\n",
    "    num += 1\n",
    "    \n",
    "number^data"
   ]
  },
  {
   "cell_type": "markdown",
   "metadata": {},
   "source": [
    "##### 9. Bit Manipulation: Lonely Integer\n",
    "- https://www.hackerrank.com/challenges/ctci-lonely-integer/problem\n",
    "- 리스트에 하나만 있는 데이터 찾아내서 출력하기\n",
    "- ls 리스트에 있는 데이터의 카운트를 세서 딕셔너리 형태로 바꿔줌\n",
    "```\n",
    "from collections import Counter \n",
    "d = dict(Counter(ls))\n",
    "```\n",
    "- [1,1,2,2,3] (입력) -> 3 (결과)\n",
    "- [1,1,2,2] (입력) -> None (결과)"
   ]
  },
  {
   "cell_type": "code",
   "execution_count": 37,
   "metadata": {
    "scrolled": true
   },
   "outputs": [
    {
     "data": {
      "text/plain": [
       "[5, 3]"
      ]
     },
     "execution_count": 37,
     "metadata": {},
     "output_type": "execute_result"
    }
   ],
   "source": [
    "from collections import Counter \n",
    "\n",
    "ls = [1,1,2,5,2,2,3]\n",
    "d = dict(Counter(ls))\n",
    "\n",
    "result = []\n",
    "for key,value in d.items():\n",
    "    if value == 1:\n",
    "        result.append(key) \n",
    "result\n",
    "# items 사용"
   ]
  },
  {
   "cell_type": "markdown",
   "metadata": {},
   "source": [
    "##### 10. Recursion: Fibonacci Numbers\n",
    "- https://www.hackerrank.com/challenges/ctci-fibonacci-numbers/problem\n",
    "- 피보나치 수열 초기값 a=0, b=1 에서 a는 b값이 되고 b는 a+b가 되는 a를 나열한 수열"
   ]
  },
  {
   "cell_type": "code",
   "execution_count": null,
   "metadata": {
    "collapsed": true
   },
   "outputs": [],
   "source": [
    "# n 번째 피보나치 수열의 숫자\n",
    "def fib(n):\n",
    "    a, b = 0, 1\n",
    "    while a < n:\n",
    "        print(a, end=' ')\n",
    "        a, b = b, a+b\n",
    "    \n",
    "    \n",
    "fib(1000)"
   ]
  },
  {
   "cell_type": "code",
   "execution_count": 51,
   "metadata": {},
   "outputs": [
    {
     "data": {
      "text/plain": [
       "55"
      ]
     },
     "execution_count": 51,
     "metadata": {},
     "output_type": "execute_result"
    }
   ],
   "source": [
    "# n 까지 피보나치 수열의 숫자들\n",
    "n = 10\n",
    "a, b = 0, 1\n",
    "# TODO\n",
    "result = 0\n",
    "for _ in range(n):\n",
    "    a, b = b, a+b\n",
    "    result = a\n",
    "result"
   ]
  },
  {
   "cell_type": "markdown",
   "metadata": {},
   "source": [
    "#### 피보나치킨"
   ]
  },
  {
   "cell_type": "code",
   "execution_count": 33,
   "metadata": {
    "collapsed": true
   },
   "outputs": [],
   "source": [
    "def is_fib(num): # 피보나치 수인지 아닌지를 알아보자\n",
    "    a, b = 0, 1\n",
    "    while a < num:\n",
    "        a,b = b, a+b\n",
    "    return a == num\n",
    "\n",
    "def prev_fib(num):\n",
    "    a, b, prev = 0, 1, 1\n",
    "    while a < num:\n",
    "        prev = a\n",
    "        a,b = b, a+b\n",
    "    return 1 if prev == 0 else prev\n",
    "\n"
   ]
  },
  {
   "cell_type": "code",
   "execution_count": 34,
   "metadata": {
    "collapsed": true
   },
   "outputs": [],
   "source": [
    "def fib_chicken(person):\n",
    "    \n",
    "    index, ls, prev = 0, [], 1\n",
    "    \n",
    "    for num in range(1, person+1):\n",
    "        if is_fib(num):\n",
    "            prev = prev_fib(num)\n",
    "            ls.append(prev)\n",
    "            idx = 0\n",
    "        else:\n",
    "            number = prev + ls[idx]\n",
    "            ls.append(number)\n",
    "            idx += 1\n",
    "            \n",
    "    return ls[-1:][0]\n",
    "    "
   ]
  },
  {
   "cell_type": "code",
   "execution_count": 24,
   "metadata": {},
   "outputs": [
    {
     "data": {
      "text/plain": [
       "True"
      ]
     },
     "execution_count": 24,
     "metadata": {},
     "output_type": "execute_result"
    }
   ],
   "source": [
    "is_fib(21)"
   ]
  },
  {
   "cell_type": "code",
   "execution_count": 25,
   "metadata": {
    "scrolled": true
   },
   "outputs": [
    {
     "data": {
      "text/plain": [
       "1"
      ]
     },
     "execution_count": 25,
     "metadata": {},
     "output_type": "execute_result"
    }
   ],
   "source": [
    "perv_fib(2)"
   ]
  },
  {
   "cell_type": "code",
   "execution_count": 38,
   "metadata": {
    "scrolled": true
   },
   "outputs": [
    {
     "data": {
      "text/plain": [
       "3"
      ]
     },
     "execution_count": 38,
     "metadata": {},
     "output_type": "execute_result"
    }
   ],
   "source": [
    "fib_chicken(4)"
   ]
  },
  {
   "cell_type": "code",
   "execution_count": null,
   "metadata": {
    "collapsed": true
   },
   "outputs": [],
   "source": []
  }
 ],
 "metadata": {
  "kernelspec": {
   "display_name": "Python 3",
   "language": "python",
   "name": "python3"
  },
  "language_info": {
   "codemirror_mode": {
    "name": "ipython",
    "version": 3
   },
   "file_extension": ".py",
   "mimetype": "text/x-python",
   "name": "python",
   "nbconvert_exporter": "python",
   "pygments_lexer": "ipython3",
   "version": "3.6.4"
  }
 },
 "nbformat": 4,
 "nbformat_minor": 2
}
