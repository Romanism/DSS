{
 "cells": [
  {
   "cell_type": "code",
   "execution_count": 20,
   "metadata": {},
   "outputs": [],
   "source": [
    "import time\n",
    "from selenium import webdriver\n",
    "from PIL import Image as pil\n",
    "import pandas as pd"
   ]
  },
  {
   "cell_type": "code",
   "execution_count": 11,
   "metadata": {},
   "outputs": [],
   "source": [
    "# 사진 추출\n",
    "\n",
    "driver =  webdriver.Chrome() # 크롬 브라우져 실행\n",
    "driver.get(\"https://www.youtube.com/watch?v=2MzGCiouAP4\")\n",
    "\n",
    "for num in range(1, 5):\n",
    "    time.sleep(3) # 1초동안 대기\n",
    "    driver.save_screenshot(\"screenshot{}.png\".format(num)) \n",
    "    pil_im = pil.open(\"screenshot{}.png\".format(num))\n",
    "    area = (120, 160, 1400, 880)\n",
    "    pil_im = pil_im.crop(area)\n",
    "    pil_im.save(\"screenshot{}.png\".format(num))   "
   ]
  },
  {
   "cell_type": "code",
   "execution_count": 29,
   "metadata": {},
   "outputs": [
    {
     "name": "stdout",
     "output_type": "stream",
     "text": [
      "Very Unlikely\n"
     ]
    }
   ],
   "source": [
    "# 사진 올리기\n",
    "\n",
    "for num in range(1, 2):\n",
    "    driver =  webdriver.Chrome()\n",
    "    driver.get('https://cloud.google.com/vision/')\n",
    "    iframe = driver.find_element_by_css_selector(\"#vision_demo_section > iframe\") ##vision_demo_section > iframe는 selector\n",
    "    driver.switch_to_frame(iframe) # 포커스 이동\n",
    "    path = !pwd\n",
    "    file_path = path[0] + \"/screenshot{}.png\".format(num)\n",
    "    driver.find_element_by_css_selector(\"#input\").send_keys(file_path)\n",
    "    time.sleep(10) # 1초동안 대기\n",
    "    result = driver.find_elements_by_css_selector('#card div.face.style-scope.vs-faces > div #text')[3].text\n",
    "    print(result)\n",
    "    driver.close()"
   ]
  },
  {
   "cell_type": "code",
   "execution_count": 24,
   "metadata": {},
   "outputs": [],
   "source": [
    "df = pd.DataFrame(columns = ['Emotion'])\n",
    "df['Emotion'] = ['Joy', 'Sorrow', 'Anger', 'Suprise', 'Exposed', 'Blurred', 'Headwear']"
   ]
  },
  {
   "cell_type": "code",
   "execution_count": 25,
   "metadata": {},
   "outputs": [
    {
     "data": {
      "text/html": [
       "<div>\n",
       "<style scoped>\n",
       "    .dataframe tbody tr th:only-of-type {\n",
       "        vertical-align: middle;\n",
       "    }\n",
       "\n",
       "    .dataframe tbody tr th {\n",
       "        vertical-align: top;\n",
       "    }\n",
       "\n",
       "    .dataframe thead th {\n",
       "        text-align: right;\n",
       "    }\n",
       "</style>\n",
       "<table border=\"1\" class=\"dataframe\">\n",
       "  <thead>\n",
       "    <tr style=\"text-align: right;\">\n",
       "      <th></th>\n",
       "      <th>Emotion</th>\n",
       "    </tr>\n",
       "  </thead>\n",
       "  <tbody>\n",
       "    <tr>\n",
       "      <th>0</th>\n",
       "      <td>Joy</td>\n",
       "    </tr>\n",
       "    <tr>\n",
       "      <th>1</th>\n",
       "      <td>Sorrow</td>\n",
       "    </tr>\n",
       "    <tr>\n",
       "      <th>2</th>\n",
       "      <td>Anger</td>\n",
       "    </tr>\n",
       "    <tr>\n",
       "      <th>3</th>\n",
       "      <td>Suprise</td>\n",
       "    </tr>\n",
       "    <tr>\n",
       "      <th>4</th>\n",
       "      <td>Exposed</td>\n",
       "    </tr>\n",
       "    <tr>\n",
       "      <th>5</th>\n",
       "      <td>Blurred</td>\n",
       "    </tr>\n",
       "    <tr>\n",
       "      <th>6</th>\n",
       "      <td>Headwear</td>\n",
       "    </tr>\n",
       "  </tbody>\n",
       "</table>\n",
       "</div>"
      ],
      "text/plain": [
       "    Emotion\n",
       "0       Joy\n",
       "1    Sorrow\n",
       "2     Anger\n",
       "3   Suprise\n",
       "4   Exposed\n",
       "5   Blurred\n",
       "6  Headwear"
      ]
     },
     "execution_count": 25,
     "metadata": {},
     "output_type": "execute_result"
    }
   ],
   "source": [
    "df[\"{}.format(num)\"]"
   ]
  },
  {
   "cell_type": "code",
   "execution_count": null,
   "metadata": {},
   "outputs": [],
   "source": []
  }
 ],
 "metadata": {
  "kernelspec": {
   "display_name": "Python 3",
   "language": "python",
   "name": "python3"
  },
  "language_info": {
   "codemirror_mode": {
    "name": "ipython",
    "version": 3
   },
   "file_extension": ".py",
   "mimetype": "text/x-python",
   "name": "python",
   "nbconvert_exporter": "python",
   "pygments_lexer": "ipython3",
   "version": "3.6.4"
  }
 },
 "nbformat": 4,
 "nbformat_minor": 2
}
