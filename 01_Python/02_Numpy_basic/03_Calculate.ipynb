{
 "cells": [
  {
   "cell_type": "markdown",
   "metadata": {},
   "source": [
    "### Calculate\n",
    "- basic calculate\n",
    "- broadcasting\n",
    "- functions\n",
    "- performance"
   ]
  },
  {
   "cell_type": "code",
   "execution_count": 1,
   "metadata": {},
   "outputs": [],
   "source": [
    "import numpy as np"
   ]
  },
  {
   "cell_type": "markdown",
   "metadata": {},
   "source": [
    "### 1. Basic calculate"
   ]
  },
  {
   "cell_type": "markdown",
   "metadata": {},
   "source": [
    "#### 1) 벡터"
   ]
  },
  {
   "cell_type": "code",
   "execution_count": 23,
   "metadata": {},
   "outputs": [
    {
     "data": {
      "text/plain": [
       "array([0, 1, 2, 3, 4, 5])"
      ]
     },
     "execution_count": 23,
     "metadata": {},
     "output_type": "execute_result"
    }
   ],
   "source": [
    "vec = np.arange(6)\n",
    "vec # 0부터 5까지 벡터 생성"
   ]
  },
  {
   "cell_type": "code",
   "execution_count": 27,
   "metadata": {
    "scrolled": true
   },
   "outputs": [
    {
     "name": "stdout",
     "output_type": "stream",
     "text": [
      "덧셈 = [2 3 4 5 6 7]\n",
      "뺄셈 = [-2 -1  0  1  2  3]\n",
      "곱셈 = [ 0  2  4  6  8 10]\n",
      "나눗셈 = [0.  0.5 1.  1.5 2.  2.5]\n"
     ]
    }
   ],
   "source": [
    "# 기본 사칙연산\n",
    "print(\"덧셈 = {}\".format(vec + 2)) # 덧셈\n",
    "print(\"뺄셈 = {}\".format(vec - 2)) # 뺄셈\n",
    "print(\"곱셈 = {}\".format(vec * 2)) # 곱셈\n",
    "print(\"나눗셈 = {}\".format(vec / 2)) # 나눗셈"
   ]
  },
  {
   "cell_type": "markdown",
   "metadata": {},
   "source": [
    "#### 2) 행렬"
   ]
  },
  {
   "cell_type": "code",
   "execution_count": 30,
   "metadata": {
    "scrolled": true
   },
   "outputs": [
    {
     "name": "stdout",
     "output_type": "stream",
     "text": [
      "[[1 2]\n",
      " [4 5]]\n",
      "[[3 4]\n",
      " [6 7]]\n"
     ]
    }
   ],
   "source": [
    "mat_1 = np.array([[1, 2], [4, 5]])\n",
    "mat_2 = np.array([[3, 4], [6, 7]])\n",
    "print(mat_1) \n",
    "print(mat_2) # (2, 3) 행렬 생성"
   ]
  },
  {
   "cell_type": "code",
   "execution_count": 32,
   "metadata": {},
   "outputs": [
    {
     "name": "stdout",
     "output_type": "stream",
     "text": [
      "[[ 4  6]\n",
      " [10 12]]\n",
      "[[-2 -2]\n",
      " [-2 -2]]\n",
      "[[ 3  8]\n",
      " [24 35]]\n",
      "[[0.33333333 0.5       ]\n",
      " [0.66666667 0.71428571]]\n"
     ]
    }
   ],
   "source": [
    "print(mat_1 + mat_2) # 덧셈\n",
    "print(mat_1 - mat_2) # 뺄셈\n",
    "print(mat_1 * mat_2) # 곱셈\n",
    "print(mat_1 / mat_2) # 나눗셈"
   ]
  },
  {
   "cell_type": "markdown",
   "metadata": {},
   "source": [
    "#### 3) 논리형 출력"
   ]
  },
  {
   "cell_type": "code",
   "execution_count": 13,
   "metadata": {},
   "outputs": [
    {
     "data": {
      "text/plain": [
       "(array([ True, False, False, False, False]),\n",
       " array([False, False, False,  True,  True]))"
      ]
     },
     "execution_count": 13,
     "metadata": {},
     "output_type": "execute_result"
    }
   ],
   "source": [
    "# 9와 같으면 True, 30보다 크면 True\n",
    "na == 9, na > 30"
   ]
  },
  {
   "cell_type": "code",
   "execution_count": 10,
   "metadata": {},
   "outputs": [
    {
     "name": "stdout",
     "output_type": "stream",
     "text": [
      "[ True False False  True False]\n"
     ]
    }
   ],
   "source": [
    "# 3의 배수이면 True\n",
    "idx = na_2 % 3 == 0 # na_2에서 3으로 나눴을 때 0이 되면 Ture로 idx에 넣기\n",
    "print(idx)"
   ]
  },
  {
   "cell_type": "code",
   "execution_count": 18,
   "metadata": {},
   "outputs": [
    {
     "name": "stdout",
     "output_type": "stream",
     "text": [
      "[ 6  7  8  9 10]\n",
      "[6 9]\n"
     ]
    }
   ],
   "source": [
    "# 3의 배수만 남기기 - Ture, False 리스트를 offset으로 넣어주면 True인 데이터만 남음\n",
    "print(na_2)\n",
    "print(na_2[idx])"
   ]
  },
  {
   "cell_type": "code",
   "execution_count": 19,
   "metadata": {},
   "outputs": [
    {
     "name": "stdout",
     "output_type": "stream",
     "text": [
      "[ True False  True  True False]\n",
      "[1 3 4]\n"
     ]
    }
   ],
   "source": [
    "# 리스트에서 같은 수 추출하기\n",
    "na1 = np.array([1,2,3,4,5])\n",
    "na2 = np.array([1,3,3,4,4])\n",
    "\n",
    "print(na1 == na2)\n",
    "print(na1[na1 == na2]) # 출력은 True인 데이터만"
   ]
  },
  {
   "cell_type": "code",
   "execution_count": 20,
   "metadata": {},
   "outputs": [
    {
     "name": "stdout",
     "output_type": "stream",
     "text": [
      "[ True False  True  True  True]\n",
      "[1 3 4 5]\n"
     ]
    }
   ],
   "source": [
    "# 리스트에서 비교연산으로 수 추출하기\n",
    "na1 = np.array([1,2,3,4,5])\n",
    "na2 = np.array([1,3,3,4,4])\n",
    "\n",
    "print(na1 >= na2)\n",
    "print(na1[na1 >= na2])"
   ]
  },
  {
   "cell_type": "code",
   "execution_count": 21,
   "metadata": {},
   "outputs": [
    {
     "name": "stdout",
     "output_type": "stream",
     "text": [
      "False\n",
      "True\n"
     ]
    }
   ],
   "source": [
    "# 전체 리스트 비교하기\n",
    "na1 = np.array([1,2,3,4,5])\n",
    "na2 = np.array([1,3,3,4,4])\n",
    "na3 = np.array([1,2,3,4,5])\n",
    "\n",
    "print(np.all(na1 == na2)) # 모든 요소가 같아야 True 출력\n",
    "print(np.all(na1 == na3))"
   ]
  },
  {
   "cell_type": "code",
   "execution_count": 24,
   "metadata": {},
   "outputs": [
    {
     "name": "stdout",
     "output_type": "stream",
     "text": [
      "array1 : [0 1 2 3 4 5]\n",
      "array2 : [ 6  7  8  9 10 11]\n",
      "scala : [ 0 10 20 30 40 50]\n",
      "vector : [ 0  7 16 27 40 55]\n",
      "array3 : \n",
      "[[0 1 2]\n",
      " [3 4 5]]\n",
      "array4 : \n",
      "[[ 6  7  8]\n",
      " [ 9 10 11]]\n",
      "matrix : \n",
      "[[ 0  7 16]\n",
      " [27 40 55]]\n"
     ]
    }
   ],
   "source": [
    "# 스칼라, 벡터, 행렬 각 요소 곱셈\n",
    "na = np.arange(6)\n",
    "na2 = np.arange(6,12)\n",
    "\n",
    "print(\"array1 : {}\".format(na))\n",
    "print(\"array2 : {}\".format(na2))\n",
    "\n",
    "print(\"scala : {}\".format(na * 10))\n",
    "print(\"vector : {}\".format(na * na2))\n",
    "\n",
    "na3 = na.reshape(2,3)\n",
    "na4 = na2.reshape(2,3)\n",
    "ㅌ\n",
    "print(\"array3 : \\n{}\".format(na3))\n",
    "print(\"array4 : \\n{}\".format(na4))\n",
    "print(\"matrix : \\n{}\".format(na3 * na4))"
   ]
  },
  {
   "cell_type": "markdown",
   "metadata": {},
   "source": [
    "### 2. Broadcasting\n",
    "\n",
    "- 모든 요소에 적용하는 것을 말함"
   ]
  },
  {
   "cell_type": "code",
   "execution_count": 27,
   "metadata": {},
   "outputs": [
    {
     "name": "stdout",
     "output_type": "stream",
     "text": [
      "na1 : \n",
      "[ 0  1  2  3  4  5  6  7  8  9 10 11]\n",
      "na2 : \n",
      "[[ 0  1  2  3]\n",
      " [ 4  5  6  7]\n",
      " [ 8  9 10 11]]\n",
      "na3 : \n",
      "[[1 1 1 1]\n",
      " [1 1 1 1]\n",
      " [1 1 1 1]]\n",
      "na2 + 1 : \n",
      "[[ 1  2  3  4]\n",
      " [ 5  6  7  8]\n",
      " [ 9 10 11 12]]\n",
      "na2 + na3 : \n",
      "[[ 1  2  3  4]\n",
      " [ 5  6  7  8]\n",
      " [ 9 10 11 12]]\n"
     ]
    }
   ],
   "source": [
    "# broadcating exam 1  \n",
    "na1 = np.arange(12)\n",
    "na2 = na1.reshape(3,4)\n",
    "print(\"na1 : \\n{}\".format(na1))\n",
    "print(\"na2 : \\n{}\".format(na2))\n",
    "\n",
    "na3 = np.ones_like(na1)\n",
    "na3 = na3.reshape(3,4)\n",
    "print(\"na3 : \\n{}\".format(na3))\n",
    "\n",
    "print(\"na2 + 1 : \\n{}\".format(na2 + 1)) # + 1 만해도 행렬의 모든 요소에 1을 다 더한다. (broadcating 개념)\n",
    "print(\"na2 + na3 : \\n{}\".format(na2 + na3))"
   ]
  },
  {
   "cell_type": "code",
   "execution_count": 28,
   "metadata": {},
   "outputs": [
    {
     "name": "stdout",
     "output_type": "stream",
     "text": [
      "na2 : \n",
      "[[ 0  1  2  3]\n",
      " [ 4  5  6  7]\n",
      " [ 8  9 10 11]]\n",
      "na4 : \n",
      "[0 1 2 3]\n",
      "na2 + na4 : \n",
      "[[ 0  2  4  6]\n",
      " [ 4  6  8 10]\n",
      " [ 8 10 12 14]]\n",
      "na5 : \n",
      "[[0 1 2 3]\n",
      " [0 1 2 3]\n",
      " [0 1 2 3]]\n",
      "na2 + na5 : \n",
      "[[ 0  2  4  6]\n",
      " [ 4  6  8 10]\n",
      " [ 8 10 12 14]]\n"
     ]
    }
   ],
   "source": [
    "# broadcating exam 2\n",
    "na4 = np.arange(4)\n",
    "print(\"na2 : \\n{}\".format(na2))\n",
    "print(\"na4 : \\n{}\".format(na4))\n",
    "\n",
    "print(\"na2 + na4 : \\n{}\".format(na2 + na4)) # 모든 행에 n4를 다 더한다.\n",
    "\n",
    "na5 = np.stack((na4, na4, na4))\n",
    "print(\"na5 : \\n{}\".format(na5))\n",
    "\n",
    "print(\"na2 + na5 : \\n{}\".format(na2 + na5))"
   ]
  },
  {
   "cell_type": "code",
   "execution_count": 30,
   "metadata": {},
   "outputs": [
    {
     "name": "stdout",
     "output_type": "stream",
     "text": [
      "na2 : \n",
      "[[ 0  1  2  3]\n",
      " [ 4  5  6  7]\n",
      " [ 8  9 10 11]]\n",
      "na6 : \n",
      "[[0]\n",
      " [1]\n",
      " [2]]\n",
      "na2 + na6 : \n",
      "[[ 0  1  2  3]\n",
      " [ 5  6  7  8]\n",
      " [10 11 12 13]]\n",
      "na7 : \n",
      "[[0 0 0 0]\n",
      " [1 1 1 1]\n",
      " [2 2 2 2]]\n",
      "na2 + na7 : \n",
      "[[ 0  1  2  3]\n",
      " [ 5  6  7  8]\n",
      " [10 11 12 13]]\n"
     ]
    }
   ],
   "source": [
    "# broadcating exam 3\n",
    "na6 = np.arange(3)[:,np.newaxis]\n",
    "print(\"na2 : \\n{}\".format(na2))\n",
    "print(\"na6 : \\n{}\".format(na6))\n",
    "\n",
    "print(\"na2 + na6 : \\n{}\".format(na2 + na6)) # 모든 열에 na6를 다 더한다.\n",
    "\n",
    "na7 = np.array([[ i for _ in range(4)] for i in range(3)])\n",
    "print(\"na7 : \\n{}\".format(na7))\n",
    "\n",
    "print(\"na2 + na7 : \\n{}\".format(na2 + na7))"
   ]
  },
  {
   "cell_type": "markdown",
   "metadata": {},
   "source": [
    "### 3. Functions\n",
    "\n",
    "- min, max, argmin, argmax\n",
    "- sum, mean, median, std, var\n",
    "- all, any\n",
    "- quartile\n",
    "- exp, log"
   ]
  },
  {
   "cell_type": "markdown",
   "metadata": {},
   "source": [
    "#### 1) min, max, argmin, argmax"
   ]
  },
  {
   "cell_type": "code",
   "execution_count": 36,
   "metadata": {},
   "outputs": [
    {
     "name": "stdout",
     "output_type": "stream",
     "text": [
      "random matrix : \n",
      "[[0 5 2]\n",
      " [4 8 1]]\n",
      "min : 0\n",
      "max : 8\n",
      "argmin : 0\n",
      "argmax : 4\n",
      "mean : 3.3333333333333335\n"
     ]
    }
   ],
   "source": [
    "r = np.random.rand(2,3)\n",
    "r_num = np.arange(5)\n",
    "r_num = (r*10).astype('int64')\n",
    "\n",
    "print(\"random matrix : \\n{}\".format(r_num))\n",
    "print(\"min : {}\".format(r_num.min()))\n",
    "print(\"max : {}\".format(r_num.max()))\n",
    "print(\"argmin : {}\".format(r_num.argmin())) # 최소값 위치\n",
    "print(\"argmax : {}\".format(r_num.argmax())) # 최대값 위치\n",
    "print(\"mean : {}\".format(r_num.mean()))"
   ]
  },
  {
   "cell_type": "markdown",
   "metadata": {},
   "source": [
    "#### 2) sum, mean, median, std, var"
   ]
  },
  {
   "cell_type": "code",
   "execution_count": 37,
   "metadata": {},
   "outputs": [
    {
     "name": "stdout",
     "output_type": "stream",
     "text": [
      "random matrix : \n",
      "[[5 2 0]\n",
      " [6 8 3]]\n",
      "sum : 24\n",
      "sum_axis_0 : [11 10  3]\n",
      "sum_axis_1 : [ 7 17]\n",
      "median : 4.0\n",
      "std : 2.6457513110645907\n",
      "var : 7.0\n"
     ]
    }
   ],
   "source": [
    "r = np.random.rand(2,3)\n",
    "r_num = np.arange(5)\n",
    "r_num = (r*10).astype('int64')\n",
    "\n",
    "print(\"random matrix : \\n{}\".format(r_num))\n",
    "print(\"sum : {}\".format(np.sum(r_num)))\n",
    "print(\"sum_axis_0 : {}\".format(np.sum(r_num, axis=0))) # 열끼리 계산\n",
    "print(\"sum_axis_1 : {}\".format(np.sum(r_num, axis=1))) # 행끼리 계산\n",
    "print(\"median : {}\".format(np.median(r_num)))\n",
    "print(\"std : {}\".format(np.std(r_num))) # standard deviation (표준편차)\n",
    "print(\"var : {}\".format(np.var(r_num))) # variance (변화량)"
   ]
  },
  {
   "cell_type": "markdown",
   "metadata": {},
   "source": [
    "#### 3) all, any"
   ]
  },
  {
   "cell_type": "code",
   "execution_count": 56,
   "metadata": {},
   "outputs": [
    {
     "name": "stdout",
     "output_type": "stream",
     "text": [
      "[3 4 5 6 7] [3 4 5 6 7] [1 3 5 7 9]\n",
      "\n",
      "[ True  True  True  True  True]\n",
      "True\n",
      "[False False  True False False]\n",
      "False\n",
      "[ True  True False False False]\n",
      "False\n"
     ]
    }
   ],
   "source": [
    "# all : 모든 요소의 조건이 충족하면 True\n",
    "n1 = np.array(range(3,8))\n",
    "n2 = n1\n",
    "n3 = np.array(range(1,11,2))\n",
    "\n",
    "print(n1, n2, n3, end=\"\\n\\n\")\n",
    "\n",
    "print(n1 ==  n2)\n",
    "print(np.all(n1 ==  n2))\n",
    "print(n1 ==  n3)\n",
    "print(np.all(n1 ==  n3))\n",
    "print(n1 >  n3)\n",
    "print(np.all(n1 >  n3))"
   ]
  },
  {
   "cell_type": "code",
   "execution_count": 53,
   "metadata": {},
   "outputs": [
    {
     "name": "stdout",
     "output_type": "stream",
     "text": [
      "[3 4 5 6 7] [3 4 5 6 7] [1 3 5 7 9]\n",
      "\n",
      "[ True  True  True  True  True]\n",
      "True\n",
      "[False False  True False False]\n",
      "True\n",
      "[ True  True False False False]\n",
      "True\n"
     ]
    }
   ],
   "source": [
    "# any :요소의 하나라도 조건이 충족하면 True\n",
    "n1 = np.array(range(3,8))\n",
    "n2 = n1\n",
    "n3 = np.array(range(1,11,2))\n",
    "\n",
    "print(n1, n2, n3, end=\"\\n\\n\")\n",
    "\n",
    "print(n1 ==  n2)\n",
    "print(np.any(n1 ==  n2))\n",
    "print(n1 ==  n3)\n",
    "print(np.any(n1 ==  n3))\n",
    "print(n1 >  n3)\n",
    "print(np.any(n1 >  n3))"
   ]
  },
  {
   "cell_type": "markdown",
   "metadata": {},
   "source": [
    "#### 4) quartile (4분위수)"
   ]
  },
  {
   "cell_type": "code",
   "execution_count": 60,
   "metadata": {},
   "outputs": [
    {
     "name": "stdout",
     "output_type": "stream",
     "text": [
      "[  0   1   2   3   4   5   6   7   8   9  10  11  12  13  14  15  16  17\n",
      "  18  19  20  21  22  23  24  25  26  27  28  29  30  31  32  33  34  35\n",
      "  36  37  38  39  40  41  42  43  44  45  46  47  48  49  50  51  52  53\n",
      "  54  55  56  57  58  59  60  61  62  63  64  65  66  67  68  69  70  71\n",
      "  72  73  74  75  76  77  78  79  80  81  82  83  84  85  86  87  88  89\n",
      "  90  91  92  93  94  95  96  97  98  99 100]\n"
     ]
    },
    {
     "data": {
      "text/plain": [
       "(25.0, 45.0)"
      ]
     },
     "execution_count": 60,
     "metadata": {},
     "output_type": "execute_result"
    }
   ],
   "source": [
    "# quartile (사분위수)\n",
    "na = np.array([num for num in range(0,101)])\n",
    "print(na)\n",
    "np.percentile(na, 25), np.percentile(na, 45)  "
   ]
  },
  {
   "cell_type": "markdown",
   "metadata": {},
   "source": [
    "#### 5) exp, log "
   ]
  },
  {
   "cell_type": "code",
   "execution_count": 38,
   "metadata": {},
   "outputs": [
    {
     "name": "stdout",
     "output_type": "stream",
     "text": [
      "[1 2 3 4 5]\n",
      "[  2.71828183   7.3890561   20.08553692  54.59815003 148.4131591 ]\n"
     ]
    }
   ],
   "source": [
    "# exponential function (지수함수)\n",
    "na = np.arange(1,6)\n",
    "print(na)\n",
    "print(np.exp(na))"
   ]
  },
  {
   "cell_type": "code",
   "execution_count": 39,
   "metadata": {},
   "outputs": [
    {
     "name": "stdout",
     "output_type": "stream",
     "text": [
      "[1 2 3 4 5]\n",
      "[0.         0.69314718 1.09861229 1.38629436 1.60943791]\n"
     ]
    }
   ],
   "source": [
    "# log function (로그함수)\n",
    "na = np.arange(1,6)\n",
    "print(na)\n",
    "print(np.log(na))"
   ]
  },
  {
   "cell_type": "markdown",
   "metadata": {},
   "source": [
    "### 4. Performance\n",
    "- 10**7개의 리스트에서 3과 5의 배수의 갯수를 찾는 시간"
   ]
  },
  {
   "cell_type": "code",
   "execution_count": 41,
   "metadata": {},
   "outputs": [
    {
     "data": {
      "text/plain": [
       "array([      0,       1,       2, ..., 9999997, 9999998, 9999999])"
      ]
     },
     "execution_count": 41,
     "metadata": {},
     "output_type": "execute_result"
    }
   ],
   "source": [
    "ls = []\n",
    "size = int(1E7)\n",
    "for data in range(size):\n",
    "    ls.append(data)\n",
    "na = np.array(ls)\n",
    "na"
   ]
  },
  {
   "cell_type": "code",
   "execution_count": 42,
   "metadata": {},
   "outputs": [
    {
     "name": "stdout",
     "output_type": "stream",
     "text": [
      "4666667\n",
      "CPU times: user 2.64 s, sys: 3.14 ms, total: 2.64 s\n",
      "Wall time: 2.64 s\n"
     ]
    }
   ],
   "source": [
    "%%time\n",
    "count = 0\n",
    "for idx in range(len(ls)):\n",
    "    if (ls[idx] % 3 == 0) or (ls[idx] % 5 == 0):\n",
    "        count += 1\n",
    "print(count)"
   ]
  },
  {
   "cell_type": "code",
   "execution_count": 43,
   "metadata": {},
   "outputs": [
    {
     "name": "stdout",
     "output_type": "stream",
     "text": [
      "4666667\n",
      "CPU times: user 382 ms, sys: 34.3 ms, total: 416 ms\n",
      "Wall time: 418 ms\n"
     ]
    }
   ],
   "source": [
    "%%time\n",
    "count = len(na[(na%3 == 0) | (na%5 == 0)])\n",
    "print(count)"
   ]
  }
 ],
 "metadata": {
  "kernelspec": {
   "display_name": "Python 3",
   "language": "python",
   "name": "python3"
  },
  "language_info": {
   "codemirror_mode": {
    "name": "ipython",
    "version": 3
   },
   "file_extension": ".py",
   "mimetype": "text/x-python",
   "name": "python",
   "nbconvert_exporter": "python",
   "pygments_lexer": "ipython3",
   "version": "3.6.4"
  }
 },
 "nbformat": 4,
 "nbformat_minor": 2
}
