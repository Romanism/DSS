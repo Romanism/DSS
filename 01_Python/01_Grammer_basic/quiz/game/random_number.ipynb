{
 "cells": [
  {
   "cell_type": "code",
   "execution_count": null,
   "metadata": {},
   "outputs": [],
   "source": [
    "\n",
    "import random\n",
    "\n",
    "random_number = random.randint(1,100)\n",
    "random_number\n",
    "\n",
    "count = 0\n",
    "\n",
    "while True:\n",
    "    \n",
    "    input_numer = int(input(\"insert number : \"))\n",
    "    \n",
    "    count += 1\n",
    "    \n",
    "    if random_number < input_numer:\n",
    "        print(\"Down\")\n",
    "    elif random_number > input_numer:\n",
    "        print(\"UP\")\n",
    "    \n",
    "    else:\n",
    "        print(\"{}번 만에 맞추셨습니다.\".format(count))\n",
    "        break"
   ]
  }
 ],
 "metadata": {
  "kernelspec": {
   "display_name": "Python 3",
   "language": "python",
   "name": "python3"
  },
  "language_info": {
   "codemirror_mode": {
    "name": "ipython",
    "version": 3
   },
   "file_extension": ".py",
   "mimetype": "text/x-python",
   "name": "python",
   "nbconvert_exporter": "python",
   "pygments_lexer": "ipython3",
   "version": "3.6.3"
  }
 },
 "nbformat": 4,
 "nbformat_minor": 2
}
