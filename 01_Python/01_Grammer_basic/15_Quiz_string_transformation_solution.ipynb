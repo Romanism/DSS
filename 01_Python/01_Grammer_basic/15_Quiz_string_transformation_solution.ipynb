{
 "cells": [
  {
   "cell_type": "markdown",
   "metadata": {},
   "source": [
    "### Quiz. String Transformation"
   ]
  },
  {
   "cell_type": "markdown",
   "metadata": {},
   "source": [
    "문자열에서 문자를 한칸씩 이동하면서 해당 문자열이 나온만큼 뒤로 이동한다. (z + 1 => a) 로 순환해야 한다.\n",
    "문자열은 소문자만 사용한다.\n",
    "\n",
    "결과 예시\n",
    "- s = xyzxyzxyz (입력)\n",
    "- s[0] 은 x이다 s[0] 앞에 x 문자가 0개 나왔으므로 x + 0 => x를 출력\n",
    "- s[1] 은 y이다 s[1] 앞에 y 문자가 0개 나왔으므로 y + 0 => y를 출력\n",
    "- s[2] 은 z이다 s[2] 앞에 z 문자가 0개 나왔으므로 z + 0 => z를 출력\n",
    "- s[3] 은 x이다 s[3] 앞에 x 문자가 1개 나왔으므로 x + 1 => y를 출력\n",
    "- s[4] 은 x이다 s[4] 앞에 y 문자가 1개 나왔으므로 y + 1 => z를 출력\n",
    "- s[5] 은 y이다 s[5] 앞에 z 문자가 1개 나왔으므로 z + 1 => a를 출력\n",
    "- s[6] 은 z이다 s[6] 앞에 x 문자가 2개 나왔으므로 x + 2 => z를 출력\n",
    "- s[7] 은 x이다 s[7] 앞에 y 문자가 2개 나왔으므로 y + 2 => a를 출력\n",
    "- s[8] 은 x이다 s[8] 앞에 z 문자가 2개 나왔으므로 z + 2 => b를 출력\n",
    "- xyzyzazab (출력)\n",
    "\n",
    "힌트\n",
    "- 문자를 숫자로 변환 : ord('a')\n",
    "- 숫자를 문자로 변환 : chr(97)\n",
    "- a ~ z는 숫자로 변환하면 97 ~ 122 이다\n",
    "- 문자열을 각 문자의 갯수로 딕셔너리 형태로 변환\n",
    "```\n",
    "from collections import Counter\n",
    "s = \"asdfqwera\"\n",
    "counter = Counter(s)\n",
    "counter\n",
    "```\n",
    "\n",
    "성능\n",
    "- 10000개의 문자열을 20번 transfomation 하는데 500ms 이하의 속도가 되어야 한다."
   ]
  },
  {
   "cell_type": "code",
   "execution_count": 1,
   "metadata": {},
   "outputs": [],
   "source": [
    "import random\n",
    "from collections import Counter"
   ]
  },
  {
   "cell_type": "code",
   "execution_count": 2,
   "metadata": {},
   "outputs": [],
   "source": [
    "s = \"xyzxyzxyz\" # 결과 : xyzyzazab"
   ]
  },
  {
   "cell_type": "code",
   "execution_count": 3,
   "metadata": {},
   "outputs": [
    {
     "data": {
      "text/plain": [
       "Counter({'a': 2, 'd': 1, 'e': 1, 'f': 1, 'q': 1, 'r': 1, 's': 1, 'w': 1})"
      ]
     },
     "execution_count": 3,
     "metadata": {},
     "output_type": "execute_result"
    }
   ],
   "source": [
    "s = \"asdfqwera\"\n",
    "counter = Counter(s)\n",
    "counter"
   ]
  },
  {
   "cell_type": "code",
   "execution_count": 4,
   "metadata": {},
   "outputs": [],
   "source": [
    "def move_char(char, number):\n",
    "    moved_char = (ord(char) - 97 + number) % 26 + 97\n",
    "    return chr(moved_char)"
   ]
  },
  {
   "cell_type": "code",
   "execution_count": 5,
   "metadata": {},
   "outputs": [],
   "source": [
    "# 1. Counter - 문자열 인덱스를 증가시키면서 Counter 함수로 앞에서 나온 문자의 갯수를 확인하여 문자를 바꿔준다."
   ]
  },
  {
   "cell_type": "code",
   "execution_count": 6,
   "metadata": {},
   "outputs": [],
   "source": [
    "def transformation_1(string):\n",
    "    result = []\n",
    "    for idx, char in enumerate(string):\n",
    "        count = Counter(string[:idx])\n",
    "        tf_char = move_char(char, count[char])\n",
    "        result.append(tf_char)\n",
    "    return \"\".join(result)"
   ]
  },
  {
   "cell_type": "code",
   "execution_count": 7,
   "metadata": {},
   "outputs": [
    {
     "data": {
      "text/plain": [
       "'xyzyzazab'"
      ]
     },
     "execution_count": 7,
     "metadata": {},
     "output_type": "execute_result"
    }
   ],
   "source": [
    "s = \"xyzxyzxyz\" # 결과 : xyzyzazab\n",
    "transformation_1(s)"
   ]
  },
  {
   "cell_type": "code",
   "execution_count": 19,
   "metadata": {},
   "outputs": [
    {
     "name": "stdout",
     "output_type": "stream",
     "text": [
      "opqsrpqrtsqrsutrstvustuwvtuvxwuvwyxvwxzywxyazxyzba\n",
      "CPU times: user 3.25 s, sys: 2.73 ms, total: 3.25 s\n",
      "Wall time: 3.25 s\n"
     ]
    }
   ],
   "source": [
    "%%time\n",
    "result = transformation_1(s)\n",
    "s = \"abced\" * 2000\n",
    "print(result[-50:])"
   ]
  },
  {
   "cell_type": "code",
   "execution_count": 9,
   "metadata": {},
   "outputs": [],
   "source": [
    "# 2. str.count() - 문자열 인덱스를 증가시키면서 str.count 함수로 앞에서 나온 문자의 갯수를 확인하여 문자를 바꿔준다."
   ]
  },
  {
   "cell_type": "code",
   "execution_count": 10,
   "metadata": {},
   "outputs": [],
   "source": [
    "def transformation_2(string):\n",
    "    result = []\n",
    "    for idx, char in enumerate(string):\n",
    "        count = string[:idx].count(char)\n",
    "        tf_char = move_char(char, count)\n",
    "        result.append(tf_char)\n",
    "    return \"\".join(result)"
   ]
  },
  {
   "cell_type": "code",
   "execution_count": 11,
   "metadata": {},
   "outputs": [
    {
     "data": {
      "text/plain": [
       "'xyzyzazab'"
      ]
     },
     "execution_count": 11,
     "metadata": {},
     "output_type": "execute_result"
    }
   ],
   "source": [
    "s = \"xyzxyzxyz\" # 결과 : xyzyzazab\n",
    "transformation_2(s)"
   ]
  },
  {
   "cell_type": "code",
   "execution_count": 12,
   "metadata": {},
   "outputs": [
    {
     "name": "stdout",
     "output_type": "stream",
     "text": [
      "opqsrpqrtsqrsutrstvustuwvtuvxwuvwyxvwxzywxyazxyzba\n",
      "CPU times: user 2.26 s, sys: 3.23 ms, total: 2.26 s\n",
      "Wall time: 2.26 s\n"
     ]
    }
   ],
   "source": [
    "%%time\n",
    "s = \"abced\" * 2000\n",
    "for _ in range(40):\n",
    "    result = transformation_2(s)\n",
    "print(result[-50:])"
   ]
  },
  {
   "cell_type": "code",
   "execution_count": 13,
   "metadata": {},
   "outputs": [],
   "source": [
    "# 3. Counter - Counter 함수를 한번만 사용해서 문자열을 만듭니다."
   ]
  },
  {
   "cell_type": "code",
   "execution_count": 14,
   "metadata": {},
   "outputs": [],
   "source": [
    "def transformation_3(string):\n",
    "    result = []\n",
    "    count = Counter(string)\n",
    "    for idx in range(len(string)-1, -1, -1):\n",
    "        char = string[idx]\n",
    "        number = count[char] - 1\n",
    "        tf_char = move_char(char, number)\n",
    "        result.append(tf_char)\n",
    "        count[char] -= 1\n",
    "    return \"\".join(result[::-1])"
   ]
  },
  {
   "cell_type": "code",
   "execution_count": 15,
   "metadata": {},
   "outputs": [
    {
     "data": {
      "text/plain": [
       "'xyzyzazab'"
      ]
     },
     "execution_count": 15,
     "metadata": {},
     "output_type": "execute_result"
    }
   ],
   "source": [
    "s = \"xyzxyzxyz\" # 결과 : xyzyzazab\n",
    "transformation_3(s)"
   ]
  },
  {
   "cell_type": "code",
   "execution_count": 16,
   "metadata": {},
   "outputs": [
    {
     "name": "stdout",
     "output_type": "stream",
     "text": [
      "opqsrpqrtsqrsutrstvustuwvtuvxwuvwyxvwxzywxyazxyzba\n",
      "CPU times: user 480 ms, sys: 2.17 ms, total: 482 ms\n",
      "Wall time: 481 ms\n"
     ]
    }
   ],
   "source": [
    "%%time\n",
    "s = \"abced\" * 2000 # 10000 * 40 = 400000\n",
    "for _ in range(40):\n",
    "    result = transformation_3(s)\n",
    "print(result[-50:])"
   ]
  }
 ],
 "metadata": {
  "kernelspec": {
   "display_name": "Python 3",
   "language": "python",
   "name": "python3"
  },
  "language_info": {
   "codemirror_mode": {
    "name": "ipython",
    "version": 3
   },
   "file_extension": ".py",
   "mimetype": "text/x-python",
   "name": "python",
   "nbconvert_exporter": "python",
   "pygments_lexer": "ipython3",
   "version": "3.6.4"
  }
 },
 "nbformat": 4,
 "nbformat_minor": 2
}
