{
 "cells": [
  {
   "cell_type": "markdown",
   "metadata": {},
   "source": [
    "### Quiz3"
   ]
  },
  {
   "cell_type": "markdown",
   "metadata": {},
   "source": [
    "#### 1번 문제"
   ]
  },
  {
   "cell_type": "markdown",
   "metadata": {},
   "source": [
    "    SELECT name, population\n",
    "    FROM country\n",
    "    WHERE population >\n",
    "    (SELECT population\n",
    "    FROM country\n",
    "    WHERE name = 'Mexico')\n",
    "    ORDER BY population DESC"
   ]
  },
  {
   "cell_type": "markdown",
   "metadata": {},
   "source": [
    "#### 2번 문제"
   ]
  },
  {
   "cell_type": "markdown",
   "metadata": {},
   "source": [
    "    SELECT country.name, count(country.name) AS count\n",
    "    FROM city\n",
    "    JOIN Country\n",
    "    ON city.countrycode = country.code\n",
    "    GROUP BY country.name\n",
    "    ORDER BY count DESC\n",
    "    LIMIT 10"
   ]
  },
  {
   "cell_type": "markdown",
   "metadata": {},
   "source": [
    "#### 3번 문제"
   ]
  },
  {
   "cell_type": "markdown",
   "metadata": {},
   "source": [
    "    SELECT countrylanguage.language, SUM(city.population) AS count\n",
    "    FROM countrylanguage\n",
    "    JOIN city\n",
    "    ON countrylanguage.Countrycode = city.Countrycode\n",
    "    GROUP BY countrylanguage.language\n",
    "    ORDER BY count DESC\n",
    "    LIMIT 10"
   ]
  },
  {
   "cell_type": "markdown",
   "metadata": {},
   "source": [
    "#### 4번 문제"
   ]
  },
  {
   "cell_type": "markdown",
   "metadata": {},
   "source": [
    "    SELECT city.name, country.name, city.population, country.population, round(city.population/country.population * 100, 2) AS percentage\n",
    "    FROM city\n",
    "    JOIN country\n",
    "    ON city.countrycode = country.code\n",
    "    HAVING percentage > 10 AND city.population > 5000000\n",
    "    ORDER BY percentage DESC"
   ]
  },
  {
   "cell_type": "markdown",
   "metadata": {},
   "source": [
    "#### 5번 문제"
   ]
  },
  {
   "cell_type": "markdown",
   "metadata": {},
   "source": [
    "5-1"
   ]
  },
  {
   "cell_type": "markdown",
   "metadata": {},
   "source": [
    "    SELECT code, name, ROUND((population/SurfaceArea), 0) AS density\n",
    "    FROM country\n",
    "    WHERE SurfaceARea > 10000 AND (population/SurfaceArea) >200\n",
    "    ORDER BY density DESC"
   ]
  },
  {
   "cell_type": "markdown",
   "metadata": {},
   "source": [
    "5-2"
   ]
  },
  {
   "cell_type": "markdown",
   "metadata": {},
   "source": [
    "    SELECT country.name, count(country.name) AS language_count\n",
    "    FROM\n",
    "    (\n",
    "    SELECT code, name, ROUND(population / surfacearea, 0) AS density\n",
    "    FROM country \n",
    "    WHERE surfacearea > 10000 \n",
    "    HAVING density > 200\n",
    "    ORDER BY density DESC\n",
    "    ) AS country\n",
    "    JOIN countrylanguage AS cl\n",
    "    on cl.countrycode = country.code\n",
    "    GROUP BY name\n",
    "    HAVING language_count > 5\n",
    "    ORDER BY language_count DESC"
   ]
  },
  {
   "cell_type": "markdown",
   "metadata": {},
   "source": [
    ": HAVING은 뽑아낸 결과에 조건을 주고 싶을 때"
   ]
  },
  {
   "cell_type": "markdown",
   "metadata": {},
   "source": [
    "#### 6번 문제"
   ]
  },
  {
   "cell_type": "markdown",
   "metadata": {},
   "source": [
    "    SELECT city.countrycode, city.name, city.population, country.name, city.language_count, city.languages\n",
    "    FROM\n",
    "    (\n",
    "    SELECT cl.countrycode, city.name, city.population, cl.language_count, cl.languages\n",
    "    FROM\n",
    "    (SELECT countrycode, group_concat(language) AS languages, count(language) AS language_count\n",
    "    FROM countrylanguage\n",
    "    GROUP BY countrycode\n",
    "    HAVING language_count <= 3) AS cl\n",
    "    JOIN (SELECT * from city WHERE population > 3000000) AS city\n",
    "    ON cl.countrycode = city.countrycode\n",
    "    ) AS city\n",
    "    JOIN country\n",
    "    ON city.countrycode = country.code\n",
    "    ORDER BY city.Population DESC\n"
   ]
  }
 ],
 "metadata": {
  "kernelspec": {
   "display_name": "Python 3",
   "language": "python",
   "name": "python3"
  },
  "language_info": {
   "codemirror_mode": {
    "name": "ipython",
    "version": 3
   },
   "file_extension": ".py",
   "mimetype": "text/x-python",
   "name": "python",
   "nbconvert_exporter": "python",
   "pygments_lexer": "ipython3",
   "version": "3.6.4"
  }
 },
 "nbformat": 4,
 "nbformat_minor": 2
}
