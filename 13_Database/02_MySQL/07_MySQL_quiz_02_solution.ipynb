{
 "cells": [
  {
   "cell_type": "markdown",
   "metadata": {},
   "source": [
    "### MySQL_quiz_02 정답"
   ]
  },
  {
   "cell_type": "markdown",
   "metadata": {},
   "source": [
    "#### 1번\n",
    "    SELECT COUNT(DISTINCT(Continent)) as count\n",
    "    FROM country"
   ]
  },
  {
   "cell_type": "markdown",
   "metadata": {},
   "source": [
    "#### 2번\n",
    "    SELECT Continent, COUNT(Continent) as count\n",
    "    FROM country \n",
    "    GROUP BY continent\n",
    "    ORDER BY count DESC"
   ]
  },
  {
   "cell_type": "markdown",
   "metadata": {},
   "source": [
    "#### 3번\n",
    "    SELECT CountryCode, SUM(Population) as Population\n",
    "    FROM city\n",
    "    GROUP BY CountryCode\n",
    "    ORDER BY Population DESC"
   ]
  },
  {
   "cell_type": "markdown",
   "metadata": {},
   "source": [
    "#### 4번\n",
    "    SELECT Language, count(Language) as count\n",
    "    FROM countrylanguage\n",
    "    GROUP BY Language\n",
    "    ORDER BY count DESC\n",
    "    Limit 4,6"
   ]
  },
  {
   "cell_type": "markdown",
   "metadata": {},
   "source": [
    "#### 5번\n",
    "    SELECT Language, count(Language) as count\n",
    "    FROM countrylanguage\n",
    "    GROUP BY Language\n",
    "    HAVING count >= 15\n",
    "    ORDER BY count DESC"
   ]
  },
  {
   "cell_type": "markdown",
   "metadata": {},
   "source": [
    "#### 6번\n",
    "    SELECT Continent, SUM(SurfaceArea) as SurfaceArea\n",
    "    FROM country\n",
    "    GROUP BY Continent\n",
    "    ORDER BY SurfaceArea DESC"
   ]
  }
 ],
 "metadata": {
  "kernelspec": {
   "display_name": "Python 3",
   "language": "python",
   "name": "python3"
  },
  "language_info": {
   "codemirror_mode": {
    "name": "ipython",
    "version": 3
   },
   "file_extension": ".py",
   "mimetype": "text/x-python",
   "name": "python",
   "nbconvert_exporter": "python",
   "pygments_lexer": "ipython3",
   "version": "3.6.4"
  }
 },
 "nbformat": 4,
 "nbformat_minor": 2
}
