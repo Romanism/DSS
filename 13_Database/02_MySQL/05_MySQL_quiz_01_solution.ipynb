{
 "cells": [
  {
   "cell_type": "markdown",
   "metadata": {},
   "source": [
    "### MySQL_quiz_01 정답"
   ]
  },
  {
   "cell_type": "markdown",
   "metadata": {},
   "source": [
    "#### 1번\n",
    "    SELECT DISTINCT(Continent)\n",
    "    FROM country"
   ]
  },
  {
   "cell_type": "markdown",
   "metadata": {},
   "source": [
    "#### 2번\n",
    "    SELECT Name, Population \n",
    "    FROM city\n",
    "    WHERE Countrycode = 'KOR' and Population >= 1000000\n",
    "    ORDER BY population DESC"
   ]
  },
  {
   "cell_type": "markdown",
   "metadata": {},
   "source": [
    "#### 3번\n",
    "    SELECT Name, Population\n",
    "    FROM city\n",
    "    WHERE Population between 8000000 AND 10000000\n",
    "    ORDER BY population DESC"
   ]
  },
  {
   "cell_type": "markdown",
   "metadata": {},
   "source": [
    "#### 4번\n",
    "    SELECT Code, CONCAT(Name, \"(\", IndepYear, \")\") AS \"Namelndep\" , Continent, Population \n",
    "    FROM country\n",
    "    WHERE IndepYear between 1940 AND 1950\n",
    "    ORDER BY IndepYear"
   ]
  },
  {
   "cell_type": "markdown",
   "metadata": {},
   "source": [
    "#### 5번\n",
    "    SELECT CountryCode, Language, Percentage \n",
    "    FROM countrylanguage\n",
    "    WHERE Language IN (\"English\", \"spanish\", \"Korean\") AND percentage >= 95\n",
    "    ORDER BY Percentage DESC"
   ]
  },
  {
   "cell_type": "markdown",
   "metadata": {},
   "source": [
    "#### 6번\n",
    "    SELECT Code, Name, Continent, GovernmentForm, Population\n",
    "    FROM country\n",
    "    WHERE Code Like \"A%\" AND GovernmentForm Like \"%Republic%\""
   ]
  }
 ],
 "metadata": {
  "kernelspec": {
   "display_name": "Python 3",
   "language": "python",
   "name": "python3"
  },
  "language_info": {
   "codemirror_mode": {
    "name": "ipython",
    "version": 3
   },
   "file_extension": ".py",
   "mimetype": "text/x-python",
   "name": "python",
   "nbconvert_exporter": "python",
   "pygments_lexer": "ipython3",
   "version": "3.6.4"
  }
 },
 "nbformat": 4,
 "nbformat_minor": 2
}
