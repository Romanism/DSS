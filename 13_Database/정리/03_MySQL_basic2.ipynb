{
 "cells": [
  {
   "cell_type": "markdown",
   "metadata": {},
   "source": [
    "## MySQL Basic Syntax"
   ]
  },
  {
   "cell_type": "markdown",
   "metadata": {},
   "source": [
    "- CREATE\n",
    "- ALTER\n",
    "- DROP\n",
    "- INSERT\n",
    "- SELECT\n",
    "- UPDATE\n",
    "- DELETE\n",
    "- GROUP\n",
    "- DATA TYPE\n",
    "- CONSTRAINT"
   ]
  },
  {
   "cell_type": "markdown",
   "metadata": {},
   "source": [
    "---"
   ]
  },
  {
   "cell_type": "markdown",
   "metadata": {},
   "source": [
    "### 1. CREATE (생성)"
   ]
  },
  {
   "cell_type": "markdown",
   "metadata": {},
   "source": [
    "#### 1.1 DATABASE"
   ]
  },
  {
   "cell_type": "markdown",
   "metadata": {},
   "source": [
    "    CREATE DATABASE 데이터베이스이름 ; (데이터베이스 생성)\n",
    "    USE 데이터베이스이름 ; (데이터베이스 설정)\n",
    "    SELECT 데이터베이스이름 ; (데이터베이스 확인)"
   ]
  },
  {
   "cell_type": "markdown",
   "metadata": {},
   "source": [
    "#### 1.2 TABLE"
   ]
  },
  {
   "cell_type": "markdown",
   "metadata": {},
   "source": [
    "    CREATE TABLE 테이블이름 (Colunm_1 Type_1, Colunm_2 Type_2, ...) ;\n",
    "    CREATE TABLE 테이블이름 (Colunm_1 Type_1 제약조건1, Colunm_2 Type_2 제약조건2, ...) ;"
   ]
  },
  {
   "cell_type": "markdown",
   "metadata": {},
   "source": [
    "---"
   ]
  },
  {
   "cell_type": "markdown",
   "metadata": {},
   "source": [
    "### 2. ALTER (수정)"
   ]
  },
  {
   "cell_type": "markdown",
   "metadata": {},
   "source": [
    ": 데이터베이스 인코딩, 테이블 내 컬럼 수정시 사용"
   ]
  },
  {
   "cell_type": "markdown",
   "metadata": {},
   "source": [
    "#### 2.1 DATABASE"
   ]
  },
  {
   "cell_type": "markdown",
   "metadata": {},
   "source": [
    "    SHOW VARIABLES LIKE 'CHARACTER_SET_DATABASE' ; (데이터베이스 문자열 확인)\n",
    "    ALTER DATABASE 데이터베이스이름 CHARACTER SET = ASCII ; (데이터베이스 문자열 인코딩을 ASCII로 변경)"
   ]
  },
  {
   "cell_type": "markdown",
   "metadata": {},
   "source": [
    "#### 2.2 TABLE"
   ]
  },
  {
   "cell_type": "markdown",
   "metadata": {},
   "source": [
    "    ALTER TABLE 테이블이름 ADD Colunm_3 Type_3 ; (테이블에 Colunm_3, Type_3 추가)\n",
    "    ALTER TABLE 테이블이름 MODIFY COLUMN Colunm_3 Type_4 ; (테이블에 Colunm_3의 Type_3을 Type_4로 변경)\n",
    "    ALTER TABLE 테이블이름 DROP Colunm_3 ; (Colunm_3 삭제)"
   ]
  },
  {
   "cell_type": "markdown",
   "metadata": {},
   "source": [
    "---"
   ]
  },
  {
   "cell_type": "markdown",
   "metadata": {},
   "source": [
    "### 3. DROP (삭제)"
   ]
  },
  {
   "cell_type": "markdown",
   "metadata": {},
   "source": [
    "#### 3.1 DATABASE"
   ]
  },
  {
   "cell_type": "markdown",
   "metadata": {},
   "source": [
    "    DROP DATABASE 데이터베이스이름 ;"
   ]
  },
  {
   "cell_type": "markdown",
   "metadata": {},
   "source": [
    "#### 3.2 TABLE"
   ]
  },
  {
   "cell_type": "markdown",
   "metadata": {},
   "source": [
    "    DROP TABLE 테이블이름 ; "
   ]
  },
  {
   "cell_type": "markdown",
   "metadata": {},
   "source": [
    "---"
   ]
  },
  {
   "cell_type": "markdown",
   "metadata": {},
   "source": [
    "### 4. INSERT (입력) "
   ]
  },
  {
   "cell_type": "markdown",
   "metadata": {},
   "source": [
    ": TABLE에 Coulnm, Type, 제약 조건등을 입력"
   ]
  },
  {
   "cell_type": "markdown",
   "metadata": {},
   "source": [
    "    INSERT INTO 테이블이름 (Colunm_1, Colunm_2)\n",
    "    VALUES (값1, 값2) ;"
   ]
  },
  {
   "cell_type": "markdown",
   "metadata": {},
   "source": [
    "---"
   ]
  },
  {
   "cell_type": "markdown",
   "metadata": {},
   "source": [
    "### 5. SELECT (조회)"
   ]
  },
  {
   "cell_type": "markdown",
   "metadata": {},
   "source": [
    "#### 5.1 Basic"
   ]
  },
  {
   "cell_type": "markdown",
   "metadata": {},
   "source": [
    "5.1.1 DATABASE"
   ]
  },
  {
   "cell_type": "markdown",
   "metadata": {},
   "source": [
    "    SELECT DATABASE() ; (접속 중 데이터베이스 확인)"
   ]
  },
  {
   "cell_type": "markdown",
   "metadata": {},
   "source": [
    "5.1.2 TABLE"
   ]
  },
  {
   "cell_type": "markdown",
   "metadata": {},
   "source": [
    "    SELECT * \n",
    "    FROM 테이블이름 ; (테이블에 있는 모든 열을 확인)"
   ]
  },
  {
   "cell_type": "markdown",
   "metadata": {},
   "source": [
    "#### 5.2 ALIAS (컬럼 이름 변경)"
   ]
  },
  {
   "cell_type": "markdown",
   "metadata": {},
   "source": [
    ": column의 이름을 변경 (편리하게 컬럼을 이용)\n",
    "\n",
    "    SELECT Colunm_1 as 'ABC'\n",
    "    FROM 테이블이름 ; (Colunm_1 이름을 ABC로 변경)"
   ]
  },
  {
   "cell_type": "markdown",
   "metadata": {},
   "source": [
    "#### 5.3 DISTINCT (컬럼 중복 제거)"
   ]
  },
  {
   "cell_type": "markdown",
   "metadata": {},
   "source": [
    ": column의 중복을 제거"
   ]
  },
  {
   "cell_type": "markdown",
   "metadata": {},
   "source": [
    "    SELECT DISTINCT (Colunm_1)\n",
    "    FROM 테이블이름 ; (Colunm_1 컬럼의 중복을 제거)"
   ]
  },
  {
   "cell_type": "markdown",
   "metadata": {},
   "source": [
    "#### 5.4 WHERE (컬럼에 조건 부여)"
   ]
  },
  {
   "cell_type": "markdown",
   "metadata": {},
   "source": [
    ": column의 검색조건을 추가 (AND, OR, 연산자 등의 기능을 사용할 수 있음)"
   ]
  },
  {
   "cell_type": "markdown",
   "metadata": {},
   "source": [
    "    SELECT *\n",
    "    FROM 테이블이름\n",
    "    1. WHERE Colunm_1 >= 20 (Colunm_1에서 20 이상인 데이터만 가져오기)\n",
    "    2. WHERE Colunm_1 >= 20 AND Colunm_1 <= 40 (Colunm_1에서 20 이상, 40 이하인 데이터만 가져오기)\n",
    "    3. WHERE Colunm_1 BETWEEN 20 AND 40 (Colunm_1에서 20 이상, 40 이하인 데이터만 가져오기)    "
   ]
  },
  {
   "cell_type": "markdown",
   "metadata": {},
   "source": [
    "#### 5.5 ORDER BY (데이터 정렬)"
   ]
  },
  {
   "cell_type": "markdown",
   "metadata": {},
   "source": [
    "5.5.1 오름차순 (Ascending)\n",
    "\n",
    "    SELECT *\n",
    "    FROM 테이블이름\n",
    "    ORDER BY Colunm_1 (ASC) (오름차순은 ASC, Default이기 때문에 생략 가능)"
   ]
  },
  {
   "cell_type": "markdown",
   "metadata": {},
   "source": [
    "5.5.2 내림차순 (Descending)\n",
    "\n",
    "    SELECT *\n",
    "    FROM 테이블이름\n",
    "    1. ORDER BY Colunm_1 DESC (Colunm_1기준으로 내림차순)    \n",
    "    2. ORDER BY Coulnm_1 DESC Colunm_2 (Colunm_1기준으로 내림차순, Column_2기준으로 오름차순)    "
   ]
  },
  {
   "cell_type": "markdown",
   "metadata": {},
   "source": [
    "#### 5.6 CONCAT (결합)"
   ]
  },
  {
   "cell_type": "markdown",
   "metadata": {},
   "source": [
    "    SELECT Coulum_1, CONCAT(Column_2, '(', Column_3,')' AS 'ABC'\n",
    "    FROM 테이블이름 (Column_2 와 Column_3를 합쳐서 ABC라는 Column명으로 변경)"
   ]
  },
  {
   "cell_type": "markdown",
   "metadata": {},
   "source": [
    "#### 5.7 LIKE (특정 문자열 조회)"
   ]
  },
  {
   "cell_type": "markdown",
   "metadata": {},
   "source": [
    "    SELECT *\n",
    "    FROM 테이블이름\n",
    "    WHERE Column_1 LIKE '%A%' (Column_1에서 앞, 뒤 개수 상관없이 A가 포함된 데이터 가져오기)"
   ]
  },
  {
   "cell_type": "markdown",
   "metadata": {},
   "source": [
    "#### 5.8 IN (여러 조건을 한번에 쓰고 싶을 때)"
   ]
  },
  {
   "cell_type": "markdown",
   "metadata": {},
   "source": [
    ": WHERE절 여러 개 사용하는 것을 한번에 사용 가능"
   ]
  },
  {
   "cell_type": "markdown",
   "metadata": {},
   "source": [
    "    SELECT *\n",
    "    FROM 테이블이름\n",
    "    WHERE Column_1 IN ('A', 'B') (Column_1에서 A 와 B가 들어간 데이터 가져오기)"
   ]
  },
  {
   "cell_type": "markdown",
   "metadata": {},
   "source": [
    "#### 5.9 LIMIT (제한)"
   ]
  },
  {
   "cell_type": "markdown",
   "metadata": {},
   "source": [
    "    SELECT *\n",
    "    FROM 테이블이름\n",
    "    LIMIT 1,3 (테이블에서 두번째(인덱스가 0부터 시작)부터 3개의 데이터를 조회)"
   ]
  },
  {
   "cell_type": "markdown",
   "metadata": {},
   "source": [
    "---"
   ]
  },
  {
   "cell_type": "markdown",
   "metadata": {},
   "source": [
    "### 6. UPDATE"
   ]
  },
  {
   "cell_type": "markdown",
   "metadata": {},
   "source": [
    "    UPDATE 테이블이름\n",
    "    SET Column_1 = Value_1, Column_2 = Value_2\n",
    "    WHERE Column_3 = 'A' (Colunm_3가 A인것을 Column_1 = Value_1, Column_2 = Value_2로 업데이트) "
   ]
  },
  {
   "cell_type": "markdown",
   "metadata": {},
   "source": [
    "---"
   ]
  },
  {
   "cell_type": "markdown",
   "metadata": {},
   "source": [
    "### 7. DELETE (삭제)"
   ]
  },
  {
   "cell_type": "markdown",
   "metadata": {},
   "source": [
    "#### 7.1 DATABASE"
   ]
  },
  {
   "cell_type": "markdown",
   "metadata": {},
   "source": [
    "    DROP DATABASE 데이터베이스이름 ;"
   ]
  },
  {
   "cell_type": "markdown",
   "metadata": {},
   "source": [
    "#### 7.2 TABLE"
   ]
  },
  {
   "cell_type": "markdown",
   "metadata": {},
   "source": [
    "7.2.1 TABLE 삭제"
   ]
  },
  {
   "cell_type": "markdown",
   "metadata": {},
   "source": [
    "    DROP TABLE 테이블이름 ;"
   ]
  },
  {
   "cell_type": "markdown",
   "metadata": {},
   "source": [
    "7.2.2 조건에 맞는 데이터 삭제"
   ]
  },
  {
   "cell_type": "markdown",
   "metadata": {},
   "source": [
    "    DELETE FROM 테이블이름\n",
    "    WHERE Column_1 <= 20 (Column_1이 20 이하인 데이터 삭제)"
   ]
  },
  {
   "cell_type": "markdown",
   "metadata": {},
   "source": [
    "---"
   ]
  },
  {
   "cell_type": "markdown",
   "metadata": {},
   "source": [
    "### 8. GROUP"
   ]
  },
  {
   "cell_type": "markdown",
   "metadata": {},
   "source": [
    "#### 8.1 GROUP BY"
   ]
  },
  {
   "cell_type": "markdown",
   "metadata": {},
   "source": [
    "- 여러 개의 동일한 데이터를 가지는 특정 컬럼을 합쳐주는 역할\n",
    "\n",
    "\n",
    "- 종류 : COUNT, MIN, MAX, SUM, AVG"
   ]
  },
  {
   "cell_type": "markdown",
   "metadata": {},
   "source": [
    "    SELECT Column_1, COUNT / MIN / MAX / SUM / AVG (Column_2)\n",
    "    FROM 테이블이름\n",
    "    GROUP BY Column_1"
   ]
  },
  {
   "cell_type": "markdown",
   "metadata": {},
   "source": [
    "#### 8.2 HAVING"
   ]
  },
  {
   "cell_type": "markdown",
   "metadata": {},
   "source": [
    ": GROUP BY에서 조건문을 쓰고 싶을 때"
   ]
  },
  {
   "cell_type": "markdown",
   "metadata": {},
   "source": [
    "    SELECT Column_1, COUNT / MIN / MAX / SUM / AVG (Column_2)\n",
    "    FROM 테이블이름\n",
    "    GROUP BY Column_1\n",
    "    HAVING Column_2 >= 20"
   ]
  },
  {
   "cell_type": "markdown",
   "metadata": {},
   "source": [
    "---"
   ]
  },
  {
   "cell_type": "markdown",
   "metadata": {},
   "source": [
    "### 9. DATA TYPE"
   ]
  },
  {
   "cell_type": "markdown",
   "metadata": {},
   "source": [
    "#### 9.1 Numeric (숫자형)"
   ]
  },
  {
   "cell_type": "markdown",
   "metadata": {},
   "source": [
    "9.1.1 정수 (Integer types)\n",
    "\n",
    "- TINYINT\n",
    "\n",
    "\n",
    "- SMALLINT\n",
    "\n",
    "\n",
    "- MEDIUMINT\n",
    "\n",
    "\n",
    "- INT\n",
    "\n",
    "\n",
    "- BIG INT"
   ]
  },
  {
   "cell_type": "markdown",
   "metadata": {},
   "source": [
    "9.1.2 고정 소수점 (Fixed - point types)\n",
    "\n",
    "- DEMICAL (M, D)\n",
    "\n",
    "\n",
    "- NUMERIC (M, D)\n",
    "\n",
    "\n",
    ": M (소수점을 포함한 전체 자리수), D (소수 부분 자리수)"
   ]
  },
  {
   "cell_type": "markdown",
   "metadata": {},
   "source": [
    "9.1.3 실수 (Floating - point types)\n",
    "\n",
    "- FLOAT (4byte) , DOUBLE (8byte)\n",
    "\n",
    "\n",
    "- FLOAT (M, D), DOUBLE (M, D)"
   ]
  },
  {
   "cell_type": "markdown",
   "metadata": {},
   "source": [
    "9.1.4 비트값 타입 (Bit value type)\n",
    "\n",
    "- BIT(M) (M은 비트의 범위)\n",
    "\n",
    "\n",
    "- ex) BIT(5) : 00000(2) ~ 11111(2)까지 표현"
   ]
  },
  {
   "cell_type": "markdown",
   "metadata": {},
   "source": [
    "#### 9.2 DATE & TIME (날짜형)"
   ]
  },
  {
   "cell_type": "markdown",
   "metadata": {},
   "source": [
    "- DATE : 년 - 월 - 일\n",
    "\n",
    "\n",
    "- DATETIME : 년 - 월 - 일  시 : 분 : 초\n",
    "\n",
    "\n",
    "- TIMESTAMP : DATETIME과 동일, 날짜 입력하지 않으면 현재 날짜와 시간이 자동으로 저장\n",
    "\n",
    "\n",
    "- TIME : 시 - 분 - 초\n",
    "\n",
    "\n",
    "- YEAR : YEAR(2) - 2자리, YEAR(4) - 4자리"
   ]
  },
  {
   "cell_type": "markdown",
   "metadata": {},
   "source": [
    "#### 9.3 STRING (문자형)"
   ]
  },
  {
   "cell_type": "markdown",
   "metadata": {},
   "source": [
    "9.3.1 CHAR vs VARCHAR"
   ]
  },
  {
   "cell_type": "markdown",
   "metadata": {},
   "source": [
    "- 크기가 작은 문자열을 저장할 때 사용\n",
    "\n",
    "\n",
    "- CHAR을 크기가 고정, VARCHAR은 길이에 따라 달라짐"
   ]
  },
  {
   "cell_type": "markdown",
   "metadata": {},
   "source": [
    "9.3.2 TEXT"
   ]
  },
  {
   "cell_type": "markdown",
   "metadata": {},
   "source": [
    ": 크기가 큰 문자열을 저장할 때 사용\n",
    "\n",
    "- TINYTEXT\n",
    "\n",
    "\n",
    "- TEXT\n",
    "\n",
    "\n",
    "- MEDIUMTEXT\n",
    "\n",
    "\n",
    "- LONGTEXT"
   ]
  },
  {
   "cell_type": "markdown",
   "metadata": {},
   "source": [
    "---"
   ]
  },
  {
   "cell_type": "markdown",
   "metadata": {},
   "source": [
    "### 10. CONSTRAINT (제약조건)"
   ]
  },
  {
   "cell_type": "markdown",
   "metadata": {},
   "source": [
    "#### 10.1 NOT NULL"
   ]
  },
  {
   "cell_type": "markdown",
   "metadata": {},
   "source": [
    ": NULL값 (비어있는 값)을 저장할 수 없음"
   ]
  },
  {
   "cell_type": "markdown",
   "metadata": {},
   "source": [
    "#### 10.2 UNIQUE"
   ]
  },
  {
   "cell_type": "markdown",
   "metadata": {},
   "source": [
    ": 같은 값을 저장할 수 없음"
   ]
  },
  {
   "cell_type": "markdown",
   "metadata": {},
   "source": [
    "#### 10.3 PRIMARY KEY"
   ]
  },
  {
   "cell_type": "markdown",
   "metadata": {},
   "source": [
    "- NOT NULL과 UNIQUE의 제약조건을 동시에 만족, 비어있는 값과 같은 값을 저장할 수 없음\n",
    "\n",
    "\n",
    "- 하나의 테이블에 하나의 컬럼만 조건을 설정"
   ]
  },
  {
   "cell_type": "markdown",
   "metadata": {},
   "source": [
    "#### 10.4 FOREIGN KEY"
   ]
  },
  {
   "cell_type": "markdown",
   "metadata": {},
   "source": [
    ": 다른 테이블과 연결되는 값이 저장"
   ]
  },
  {
   "cell_type": "markdown",
   "metadata": {},
   "source": [
    "#### 10.5 DEFAULT"
   ]
  },
  {
   "cell_type": "markdown",
   "metadata": {},
   "source": [
    ": 데이터를 저장할 때 해당 컬럼에 별도의 저장값이 없으면 DEFAULT값으로 저장"
   ]
  },
  {
   "cell_type": "markdown",
   "metadata": {},
   "source": [
    "#### 10.6 AUTO_INCREMENT"
   ]
  },
  {
   "cell_type": "markdown",
   "metadata": {},
   "source": [
    ": PRIMARY KEY 데이터 저장할 때 자동으로 숫자를 1씩 증가시켜줌"
   ]
  }
 ],
 "metadata": {
  "kernelspec": {
   "display_name": "Python 3",
   "language": "python",
   "name": "python3"
  },
  "language_info": {
   "codemirror_mode": {
    "name": "ipython",
    "version": 3
   },
   "file_extension": ".py",
   "mimetype": "text/x-python",
   "name": "python",
   "nbconvert_exporter": "python",
   "pygments_lexer": "ipython3",
   "version": "3.6.4"
  }
 },
 "nbformat": 4,
 "nbformat_minor": 2
}
