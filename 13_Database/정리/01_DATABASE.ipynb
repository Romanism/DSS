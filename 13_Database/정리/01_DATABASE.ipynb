{
 "cells": [
  {
   "cell_type": "markdown",
   "metadata": {},
   "source": [
    "## DATABASE"
   ]
  },
  {
   "cell_type": "markdown",
   "metadata": {},
   "source": [
    "- DBMS\n",
    "- RDBMS\n",
    "- NoSQL\n",
    "- 비교"
   ]
  },
  {
   "cell_type": "markdown",
   "metadata": {},
   "source": [
    "---"
   ]
  },
  {
   "cell_type": "markdown",
   "metadata": {},
   "source": [
    "### 1. DBMS"
   ]
  },
  {
   "cell_type": "markdown",
   "metadata": {},
   "source": [
    "#### 1.1 DATABASE"
   ]
  },
  {
   "cell_type": "markdown",
   "metadata": {},
   "source": [
    ": 데이터를 통합하여 관리하는 데이터의 집합"
   ]
  },
  {
   "cell_type": "markdown",
   "metadata": {},
   "source": [
    "#### 1.2 DBMS (DATABASE Management System)"
   ]
  },
  {
   "cell_type": "markdown",
   "metadata": {},
   "source": [
    ": 데이터베이스를 관리하는 미들웨어 시스템"
   ]
  },
  {
   "cell_type": "markdown",
   "metadata": {},
   "source": [
    "---"
   ]
  },
  {
   "cell_type": "markdown",
   "metadata": {},
   "source": [
    "### 2. RDBMS (Relational DBMS)"
   ]
  },
  {
   "cell_type": "markdown",
   "metadata": {},
   "source": [
    "#### 2.1 정의"
   ]
  },
  {
   "cell_type": "markdown",
   "metadata": {},
   "source": [
    "- 관계형 데이터베이스 시스템\n",
    "\n",
    "\n",
    "- 데이터 테이블 사이에 키값으로 관계를 가지고 있는 데이터베이스\n",
    "\n",
    "\n",
    "- 데이터 사이의 관계 설정으로 최적화된 스키마를 설계 가능"
   ]
  },
  {
   "cell_type": "markdown",
   "metadata": {},
   "source": [
    "#### 2.2 특징"
   ]
  },
  {
   "cell_type": "markdown",
   "metadata": {},
   "source": [
    "- 데이터 분류, 정렬, 탐색 속도가 빠름\n",
    "\n",
    "\n",
    "- 오래 사용된 만큼 신뢰성이 높음\n",
    "\n",
    "\n",
    "- 스키마 수정이 어려움"
   ]
  },
  {
   "cell_type": "markdown",
   "metadata": {},
   "source": [
    "#### 2.3 종류"
   ]
  },
  {
   "cell_type": "markdown",
   "metadata": {},
   "source": [
    ": Oracle, MySQL, Postgresql, Sqlite (SQL 사용)"
   ]
  },
  {
   "cell_type": "markdown",
   "metadata": {},
   "source": [
    "#### 2.4 SQL (Structured Query Language)"
   ]
  },
  {
   "cell_type": "markdown",
   "metadata": {},
   "source": [
    ": 관계형 데이터베이스 관리 시스템(RDBMS)의 데이터를 관리하기 위해 설계된 특수 목적의 프로그래밍 언어"
   ]
  },
  {
   "cell_type": "markdown",
   "metadata": {},
   "source": [
    "#### 2.5 구조 "
   ]
  },
  {
   "cell_type": "markdown",
   "metadata": {},
   "source": [
    "- 테이블(Table) : 행(row)과 열(column)을 이루고 있는 기본단위\n",
    "\n",
    "\n",
    "- 행(Row) : 테이블의 가로축 데이터, Tuple, Record 라고도 불림\n",
    "\n",
    "\n",
    "- 열(Column) : 테이블의 세로축 데이터, Field, Attribute 라고도 불림\n",
    "\n",
    "\n",
    "- 스키마(Schema) : 데이터베이스의 구조를 만드는 디자인"
   ]
  },
  {
   "cell_type": "markdown",
   "metadata": {},
   "source": [
    "---"
   ]
  },
  {
   "cell_type": "markdown",
   "metadata": {},
   "source": [
    "### 3. NoSQL (Not only SQL)"
   ]
  },
  {
   "cell_type": "markdown",
   "metadata": {},
   "source": [
    "#### 3.1 정의"
   ]
  },
  {
   "cell_type": "markdown",
   "metadata": {},
   "source": [
    "- RDBMS의 한계점을 극복하기 위해 만들어진 데이터베이스\n",
    "\n",
    "\n",
    "- 데이터 테이블 사이에 관계가 없이 저장하는 데이터베이스"
   ]
  },
  {
   "cell_type": "markdown",
   "metadata": {},
   "source": [
    "#### 3.2 특징"
   ]
  },
  {
   "cell_type": "markdown",
   "metadata": {},
   "source": [
    "- 데이터 사이에 관계가 없으므로 복잡성이 줄고 많은 데이터 저장 가능\n",
    "\n",
    "\n",
    "- 확장성이 좋음 - 데이터 분산 처리 용이함\n",
    "\n",
    "\n",
    "- 저장이 유연함 - 구조의 변경이 불필요\n",
    "\n",
    "\n",
    "- 스키마 및 Join이 없음\n",
    "\n",
    "\n",
    "- 모든 데이터가 들어가야 함\n",
    "\n",
    "\n",
    "- 저장되는 데이터는 Key - Value 형태의 JSON 포맷 사용\n",
    "\n",
    "\n",
    "- 트랜잭션 (Transaciton)이 지원되지 않음 (트랜잭션은 쪼갤 수 없는 업무 처리의 단위)"
   ]
  },
  {
   "cell_type": "markdown",
   "metadata": {},
   "source": [
    "#### 3.3 종류"
   ]
  },
  {
   "cell_type": "markdown",
   "metadata": {},
   "source": [
    ": MongoDB, Hbase, Cassandra"
   ]
  },
  {
   "cell_type": "markdown",
   "metadata": {},
   "source": [
    "#### 3.4 구조"
   ]
  },
  {
   "cell_type": "markdown",
   "metadata": {},
   "source": [
    "- Collection : RDBMS의 Table\n",
    "\n",
    "\n",
    "- Document : RDBMS의 Row\n",
    "\n",
    "\n",
    "- Key : RDBMS의 Column"
   ]
  },
  {
   "cell_type": "markdown",
   "metadata": {},
   "source": [
    "---"
   ]
  },
  {
   "cell_type": "markdown",
   "metadata": {},
   "source": [
    "### 4. 비교"
   ]
  },
  {
   "cell_type": "markdown",
   "metadata": {},
   "source": [
    "- Select 속도 : RDBMS > NoSQL\n",
    "\n",
    "\n",
    "- Insert 속도 : RDBMS < NoSQL (빅데이터에 활용)"
   ]
  }
 ],
 "metadata": {
  "kernelspec": {
   "display_name": "Python 3",
   "language": "python",
   "name": "python3"
  },
  "language_info": {
   "codemirror_mode": {
    "name": "ipython",
    "version": 3
   },
   "file_extension": ".py",
   "mimetype": "text/x-python",
   "name": "python",
   "nbconvert_exporter": "python",
   "pygments_lexer": "ipython3",
   "version": "3.6.4"
  }
 },
 "nbformat": 4,
 "nbformat_minor": 2
}
