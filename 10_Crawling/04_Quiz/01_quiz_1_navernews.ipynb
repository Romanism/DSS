{
 "cells": [
  {
   "cell_type": "markdown",
   "metadata": {},
   "source": [
    "### Quiz"
   ]
  },
  {
   "cell_type": "markdown",
   "metadata": {},
   "source": [
    "- 셀레니움을 이용하여 2018년 2월 20일 네이버 IT/과학 기사의 제목을 리스트로 크롤링하세요.\n",
    "- http://news.naver.com/main/main.nhn?mode=LSD&mid=shm&sid1=105"
   ]
  },
  {
   "cell_type": "markdown",
   "metadata": {},
   "source": [
    "### Solution"
   ]
  },
  {
   "cell_type": "code",
   "execution_count": 1,
   "metadata": {},
   "outputs": [],
   "source": [
    "from selenium import webdriver"
   ]
  },
  {
   "cell_type": "code",
   "execution_count": null,
   "metadata": {},
   "outputs": [],
   "source": [
    "def get_article(page):\n",
    "    article_list = []\n",
    "    driver =  webdriver.Chrome()\n",
    "    \n",
    "    # TODO\n",
    "    \n",
    "    \n",
    "    driver.close()\n",
    "    return article_list"
   ]
  },
  {
   "cell_type": "code",
   "execution_count": 3,
   "metadata": {},
   "outputs": [
    {
     "name": "stdout",
     "output_type": "stream",
     "text": [
      "CPU times: user 181 ms, sys: 61.5 ms, total: 243 ms\n",
      "Wall time: 23.9 s\n"
     ]
    }
   ],
   "source": [
    "%%time\n",
    "for page in range(1,9):\n",
    "    get_article(page)"
   ]
  },
  {
   "cell_type": "code",
   "execution_count": 4,
   "metadata": {},
   "outputs": [
    {
     "data": {
      "text/plain": [
       "(146,\n",
       " ['\"개인정보 수집 페이스북 유죄\"',\n",
       "  '수십초 안에 충전 … 물기반 ESS 만들었다',\n",
       "  '우버 운전자는 자영업자? 근로자?…영국 대법원 판결 주목',\n",
       "  '로봇 슈트 입고 총알 쏟아지는 하늘서 ‘쌩쌩’',\n",
       "  '삼성전자, 세계 최초 30TB SSD 양산'])"
      ]
     },
     "execution_count": 4,
     "metadata": {},
     "output_type": "execute_result"
    }
   ],
   "source": [
    "len(article_list), article_list[:5]"
   ]
  }
 ],
 "metadata": {
  "kernelspec": {
   "display_name": "Python 3",
   "language": "python",
   "name": "python3"
  },
  "language_info": {
   "codemirror_mode": {
    "name": "ipython",
    "version": 3
   },
   "file_extension": ".py",
   "mimetype": "text/x-python",
   "name": "python",
   "nbconvert_exporter": "python",
   "pygments_lexer": "ipython3",
   "version": "3.6.4"
  }
 },
 "nbformat": 4,
 "nbformat_minor": 2
}
