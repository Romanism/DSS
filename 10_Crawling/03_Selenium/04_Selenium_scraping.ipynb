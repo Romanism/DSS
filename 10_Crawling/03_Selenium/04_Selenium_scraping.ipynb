{
 "cells": [
  {
   "cell_type": "markdown",
   "metadata": {},
   "source": [
    "### Selenium Scraping"
   ]
  },
  {
   "cell_type": "markdown",
   "metadata": {},
   "source": [
    "#### 1. Gmarket 베스트 셀러 데이터 스크래핑 \n",
    "- 전체 200개중 상위 10개 출력\n",
    "- pandas 데이터를 분석할수 있는 python 라이브러리\n",
    "\n",
    "    - pip3 install pandas\n",
    "    - 데이터 프레임 생성 : df = pd.DataFrame(columns=[\"A\",\"B\"])\n",
    "    - 데이터 추가 : df.loc[len(df)] = [{\"A\":1,\"B\":2}, {\"A\":3,\"B\":4}]"
   ]
  },
  {
   "cell_type": "code",
   "execution_count": 3,
   "metadata": {},
   "outputs": [],
   "source": [
    "from selenium import webdriver\n",
    "import pandas as pd"
   ]
  },
  {
   "cell_type": "code",
   "execution_count": 4,
   "metadata": {
    "scrolled": false
   },
   "outputs": [],
   "source": [
    "def get_gmarket_bestsellers(number=10):\n",
    "    \n",
    "    def to_int(price):\n",
    "        return int(price.replace(\",\",\"\").replace(\"원\",\"\")) # 숫자로 만들기 위해 가격에서 콤마(,)와 '원'을 삭제\n",
    "    \n",
    "    driver =  webdriver.Chrome()\n",
    "    driver.get('http://corners.gmarket.co.kr/Bestsellers')\n",
    "    \n",
    "    bestlist_selector = driver.find_elements_by_css_selector(\"#gBestWrap .best-list\")[1]\n",
    "\n",
    "    items = bestlist_selector.find_elements_by_css_selector(\"li\")[:number]\n",
    "    \n",
    "    df = pd.DataFrame(columns=[\"상품명\",\"원가\",\"판매가\",\"이미지\",\"상품링크\"])\n",
    "    \n",
    "    for item in items:\n",
    "\n",
    "        idx = item.find_element_by_css_selector(\"p\").text # 순번\n",
    "        img_link = item.find_element_by_css_selector(\"img\").get_attribute(\"src\") # 이미지 URL\n",
    "        item_link = item.find_element_by_css_selector(\".itemname\").get_attribute(\"href\") # 아이템 URL\n",
    "        content = item.find_element_by_css_selector(\".itemname\").text # 아이템 텍스트\n",
    "        o_price = item.find_element_by_css_selector(\".item_price .o-price\").text # 오리지날 가격\n",
    "        s_price = item.find_element_by_css_selector(\".item_price .s-price\").text.split(\" \")[0] # 판매 가격\n",
    "        o_price = o_price if o_price else s_price # 원가 데이터가 없는경우 판매가를 대입\n",
    "        \n",
    "        data = {\"상품명\": content,\n",
    "                \"원가\": to_int(o_price), \n",
    "                \"판매가\": to_int(s_price),\n",
    "                \"이미지\": img_link, \n",
    "                \"상품링크\": item_link, }\n",
    "        \n",
    "        # Pandas 데이터 입력\n",
    "        df.loc[len(df)] = data\n",
    "        \n",
    "    driver.close()\n",
    "    return df"
   ]
  },
  {
   "cell_type": "code",
   "execution_count": 5,
   "metadata": {},
   "outputs": [
    {
     "name": "stdout",
     "output_type": "stream",
     "text": [
      "CPU times: user 1.84 s, sys: 91.7 ms, total: 1.93 s\n",
      "Wall time: 31.8 s\n"
     ]
    }
   ],
   "source": [
    "%%time\n",
    "result = get_gmarket_bestsellers(200)"
   ]
  },
  {
   "cell_type": "code",
   "execution_count": 6,
   "metadata": {
    "scrolled": true
   },
   "outputs": [
    {
     "data": {
      "text/html": [
       "<div>\n",
       "<style scoped>\n",
       "    .dataframe tbody tr th:only-of-type {\n",
       "        vertical-align: middle;\n",
       "    }\n",
       "\n",
       "    .dataframe tbody tr th {\n",
       "        vertical-align: top;\n",
       "    }\n",
       "\n",
       "    .dataframe thead th {\n",
       "        text-align: right;\n",
       "    }\n",
       "</style>\n",
       "<table border=\"1\" class=\"dataframe\">\n",
       "  <thead>\n",
       "    <tr style=\"text-align: right;\">\n",
       "      <th></th>\n",
       "      <th>상품명</th>\n",
       "      <th>원가</th>\n",
       "      <th>판매가</th>\n",
       "      <th>이미지</th>\n",
       "      <th>상품링크</th>\n",
       "    </tr>\n",
       "  </thead>\n",
       "  <tbody>\n",
       "    <tr>\n",
       "      <th>0</th>\n",
       "      <td>[시크릿데이](최종가 8900원) 러브 생리대 9팩+세안밴드or다이어리</td>\n",
       "      <td>21900</td>\n",
       "      <td>10900</td>\n",
       "      <td>http://gdimg.gmarket.co.kr/291472256/still/300</td>\n",
       "      <td>http://item2.gmarket.co.kr/Item/DetailView/Ite...</td>\n",
       "    </tr>\n",
       "    <tr>\n",
       "      <th>1</th>\n",
       "      <td>[서울우유]서울우유 나무3종150mlx24입 리이브사과/포도/감귤</td>\n",
       "      <td>10000</td>\n",
       "      <td>4900</td>\n",
       "      <td>http://gdimg.gmarket.co.kr/464325238/still/300</td>\n",
       "      <td>http://item2.gmarket.co.kr/Item/DetailView/Ite...</td>\n",
       "    </tr>\n",
       "    <tr>\n",
       "      <th>2</th>\n",
       "      <td>[앤디애플]봄오픈/아동복/티셔츠/원피스/레깅스/신학기/상하복</td>\n",
       "      <td>26000</td>\n",
       "      <td>7900</td>\n",
       "      <td>http://gdimg.gmarket.co.kr/301110076/still/300</td>\n",
       "      <td>http://item2.gmarket.co.kr/Item/DetailView/Ite...</td>\n",
       "    </tr>\n",
       "    <tr>\n",
       "      <th>3</th>\n",
       "      <td>봄신상 배기바지2900원부터 티셔츠 맨투맨</td>\n",
       "      <td>29000</td>\n",
       "      <td>8900</td>\n",
       "      <td>http://gdimg.gmarket.co.kr/166866548/still/300</td>\n",
       "      <td>http://item2.gmarket.co.kr/Item/DetailView/Ite...</td>\n",
       "    </tr>\n",
       "    <tr>\n",
       "      <th>4</th>\n",
       "      <td>[요즘에]20%쿠폰/신상특가/청바지/슬랙스/빅사이즈</td>\n",
       "      <td>33000</td>\n",
       "      <td>10000</td>\n",
       "      <td>http://gdimg.gmarket.co.kr/189842449/still/300</td>\n",
       "      <td>http://item2.gmarket.co.kr/Item/DetailView/Ite...</td>\n",
       "    </tr>\n",
       "  </tbody>\n",
       "</table>\n",
       "</div>"
      ],
      "text/plain": [
       "                                       상품명     원가    판매가  \\\n",
       "0  [시크릿데이](최종가 8900원) 러브 생리대 9팩+세안밴드or다이어리  21900  10900   \n",
       "1     [서울우유]서울우유 나무3종150mlx24입 리이브사과/포도/감귤  10000   4900   \n",
       "2        [앤디애플]봄오픈/아동복/티셔츠/원피스/레깅스/신학기/상하복  26000   7900   \n",
       "3                  봄신상 배기바지2900원부터 티셔츠 맨투맨  29000   8900   \n",
       "4             [요즘에]20%쿠폰/신상특가/청바지/슬랙스/빅사이즈  33000  10000   \n",
       "\n",
       "                                              이미지  \\\n",
       "0  http://gdimg.gmarket.co.kr/291472256/still/300   \n",
       "1  http://gdimg.gmarket.co.kr/464325238/still/300   \n",
       "2  http://gdimg.gmarket.co.kr/301110076/still/300   \n",
       "3  http://gdimg.gmarket.co.kr/166866548/still/300   \n",
       "4  http://gdimg.gmarket.co.kr/189842449/still/300   \n",
       "\n",
       "                                                상품링크  \n",
       "0  http://item2.gmarket.co.kr/Item/DetailView/Ite...  \n",
       "1  http://item2.gmarket.co.kr/Item/DetailView/Ite...  \n",
       "2  http://item2.gmarket.co.kr/Item/DetailView/Ite...  \n",
       "3  http://item2.gmarket.co.kr/Item/DetailView/Ite...  \n",
       "4  http://item2.gmarket.co.kr/Item/DetailView/Ite...  "
      ]
     },
     "execution_count": 6,
     "metadata": {},
     "output_type": "execute_result"
    }
   ],
   "source": [
    "result.head() # 상위 6개 보여주기"
   ]
  },
  {
   "cell_type": "code",
   "execution_count": 7,
   "metadata": {
    "scrolled": true
   },
   "outputs": [
    {
     "data": {
      "text/html": [
       "<div>\n",
       "<style scoped>\n",
       "    .dataframe tbody tr th:only-of-type {\n",
       "        vertical-align: middle;\n",
       "    }\n",
       "\n",
       "    .dataframe tbody tr th {\n",
       "        vertical-align: top;\n",
       "    }\n",
       "\n",
       "    .dataframe thead th {\n",
       "        text-align: right;\n",
       "    }\n",
       "</style>\n",
       "<table border=\"1\" class=\"dataframe\">\n",
       "  <thead>\n",
       "    <tr style=\"text-align: right;\">\n",
       "      <th></th>\n",
       "      <th>rank</th>\n",
       "      <th>상품명</th>\n",
       "      <th>원가</th>\n",
       "      <th>판매가</th>\n",
       "      <th>이미지</th>\n",
       "      <th>상품링크</th>\n",
       "      <th>할인율</th>\n",
       "    </tr>\n",
       "  </thead>\n",
       "  <tbody>\n",
       "    <tr>\n",
       "      <th>0</th>\n",
       "      <td>117</td>\n",
       "      <td>[쁘리엘르]100% 순면차렵이불/패드세트/마이크로화이바/피치스킨</td>\n",
       "      <td>99900</td>\n",
       "      <td>19900</td>\n",
       "      <td>http://image.gmarket.co.kr/challenge/neo_image...</td>\n",
       "      <td>http://item2.gmarket.co.kr/Item/DetailView/Ite...</td>\n",
       "      <td>80.08</td>\n",
       "    </tr>\n",
       "    <tr>\n",
       "      <th>1</th>\n",
       "      <td>199</td>\n",
       "      <td>[릴리푸리]여아의류/봄신상/릴리푸리/원피스/레깅스/치렝스</td>\n",
       "      <td>33000</td>\n",
       "      <td>9900</td>\n",
       "      <td>http://image.gmarket.co.kr/challenge/neo_image...</td>\n",
       "      <td>http://item2.gmarket.co.kr/Item/DetailView/Ite...</td>\n",
       "      <td>70.00</td>\n",
       "    </tr>\n",
       "    <tr>\n",
       "      <th>2</th>\n",
       "      <td>169</td>\n",
       "      <td>[팬콧키즈]팬콧 도티잠뜰 신학기 봄 실내화 슬리퍼</td>\n",
       "      <td>23000</td>\n",
       "      <td>6900</td>\n",
       "      <td>http://image.gmarket.co.kr/challenge/neo_image...</td>\n",
       "      <td>http://item2.gmarket.co.kr/Item/DetailView/Ite...</td>\n",
       "      <td>70.00</td>\n",
       "    </tr>\n",
       "    <tr>\n",
       "      <th>3</th>\n",
       "      <td>34</td>\n",
       "      <td>이사도라 사랑스러운 그녀 플랫/로퍼/단화</td>\n",
       "      <td>33000</td>\n",
       "      <td>9900</td>\n",
       "      <td>http://image.gmarket.co.kr/challenge/neo_image...</td>\n",
       "      <td>http://item2.gmarket.co.kr/Item/DetailView/Ite...</td>\n",
       "      <td>70.00</td>\n",
       "    </tr>\n",
       "    <tr>\n",
       "      <th>4</th>\n",
       "      <td>46</td>\n",
       "      <td>[쿠미다]핸드폰케이스 1+1 갤럭시노트8 S8 S7 아이폰8 X G6 외</td>\n",
       "      <td>13000</td>\n",
       "      <td>3900</td>\n",
       "      <td>http://image.gmarket.co.kr/challenge/neo_image...</td>\n",
       "      <td>http://item2.gmarket.co.kr/Item/DetailView/Ite...</td>\n",
       "      <td>70.00</td>\n",
       "    </tr>\n",
       "  </tbody>\n",
       "</table>\n",
       "</div>"
      ],
      "text/plain": [
       "   rank                                       상품명     원가    판매가  \\\n",
       "0   117       [쁘리엘르]100% 순면차렵이불/패드세트/마이크로화이바/피치스킨  99900  19900   \n",
       "1   199           [릴리푸리]여아의류/봄신상/릴리푸리/원피스/레깅스/치렝스  33000   9900   \n",
       "2   169               [팬콧키즈]팬콧 도티잠뜰 신학기 봄 실내화 슬리퍼  23000   6900   \n",
       "3    34                    이사도라 사랑스러운 그녀 플랫/로퍼/단화  33000   9900   \n",
       "4    46  [쿠미다]핸드폰케이스 1+1 갤럭시노트8 S8 S7 아이폰8 X G6 외  13000   3900   \n",
       "\n",
       "                                                 이미지  \\\n",
       "0  http://image.gmarket.co.kr/challenge/neo_image...   \n",
       "1  http://image.gmarket.co.kr/challenge/neo_image...   \n",
       "2  http://image.gmarket.co.kr/challenge/neo_image...   \n",
       "3  http://image.gmarket.co.kr/challenge/neo_image...   \n",
       "4  http://image.gmarket.co.kr/challenge/neo_image...   \n",
       "\n",
       "                                                상품링크    할인율  \n",
       "0  http://item2.gmarket.co.kr/Item/DetailView/Ite...  80.08  \n",
       "1  http://item2.gmarket.co.kr/Item/DetailView/Ite...  70.00  \n",
       "2  http://item2.gmarket.co.kr/Item/DetailView/Ite...  70.00  \n",
       "3  http://item2.gmarket.co.kr/Item/DetailView/Ite...  70.00  \n",
       "4  http://item2.gmarket.co.kr/Item/DetailView/Ite...  70.00  "
      ]
     },
     "execution_count": 7,
     "metadata": {},
     "output_type": "execute_result"
    }
   ],
   "source": [
    "# Pandas로 할인율 계산\n",
    "result[\"할인율\"] = 100 - (result[\"판매가\"] / result[\"원가\"]) * 100\n",
    "result[\"할인율\"] = result[\"할인율\"].astype(dtype=\"float64\")\n",
    "result[\"할인율\"] = round(result[\"할인율\"], 2)\n",
    "result = result.sort_values(\"할인율\", ascending=False).reset_index().rename(columns={\"index\": \"rank\"}) # 할인율이 높은 순서대로 랭크\n",
    "result.head()"
   ]
  },
  {
   "cell_type": "code",
   "execution_count": 6,
   "metadata": {},
   "outputs": [],
   "source": [
    "# utf-8로 인코딩한 csv 파일로 저장\n",
    "result.to_csv(\"gmarket.csv\", encoding=\"utf-8\")"
   ]
  },
  {
   "cell_type": "code",
   "execution_count": 7,
   "metadata": {},
   "outputs": [
    {
     "data": {
      "text/html": [
       "<div>\n",
       "<style scoped>\n",
       "    .dataframe tbody tr th:only-of-type {\n",
       "        vertical-align: middle;\n",
       "    }\n",
       "\n",
       "    .dataframe tbody tr th {\n",
       "        vertical-align: top;\n",
       "    }\n",
       "\n",
       "    .dataframe thead th {\n",
       "        text-align: right;\n",
       "    }\n",
       "</style>\n",
       "<table border=\"1\" class=\"dataframe\">\n",
       "  <thead>\n",
       "    <tr style=\"text-align: right;\">\n",
       "      <th></th>\n",
       "      <th>Unnamed: 0</th>\n",
       "      <th>rank</th>\n",
       "      <th>상품명</th>\n",
       "      <th>원가</th>\n",
       "      <th>판매가</th>\n",
       "      <th>이미지</th>\n",
       "      <th>상품링크</th>\n",
       "      <th>할인율</th>\n",
       "    </tr>\n",
       "  </thead>\n",
       "  <tbody>\n",
       "    <tr>\n",
       "      <th>0</th>\n",
       "      <td>0</td>\n",
       "      <td>194</td>\n",
       "      <td>[다샵]벽걸이 스탠드 에어컨커버 제습기/선풍기커버</td>\n",
       "      <td>26900</td>\n",
       "      <td>6500</td>\n",
       "      <td>http://image.gmarket.co.kr/challenge/neo_image...</td>\n",
       "      <td>http://item2.gmarket.co.kr/Item/DetailView/Ite...</td>\n",
       "      <td>75.84</td>\n",
       "    </tr>\n",
       "    <tr>\n",
       "      <th>1</th>\n",
       "      <td>1</td>\n",
       "      <td>139</td>\n",
       "      <td>[아망떼]순면100%모닝벨 매트리스커버/이불커버/침대패드</td>\n",
       "      <td>33000</td>\n",
       "      <td>8900</td>\n",
       "      <td>http://image.gmarket.co.kr/challenge/neo_image...</td>\n",
       "      <td>http://item2.gmarket.co.kr/Item/DetailView/Ite...</td>\n",
       "      <td>73.03</td>\n",
       "    </tr>\n",
       "    <tr>\n",
       "      <th>2</th>\n",
       "      <td>2</td>\n",
       "      <td>165</td>\n",
       "      <td>쁘띠뮤/신학기 아동정장 원피스 레깅스 트레이닝</td>\n",
       "      <td>33000</td>\n",
       "      <td>9900</td>\n",
       "      <td>http://image.gmarket.co.kr/challenge/neo_image...</td>\n",
       "      <td>http://item2.gmarket.co.kr/Item/DetailView/Ite...</td>\n",
       "      <td>70.00</td>\n",
       "    </tr>\n",
       "    <tr>\n",
       "      <th>3</th>\n",
       "      <td>3</td>\n",
       "      <td>59</td>\n",
       "      <td>[젤리스푼]아동복/봄신상오픈/상하복/티셔츠/레깅스/팬츠/점퍼</td>\n",
       "      <td>43000</td>\n",
       "      <td>12900</td>\n",
       "      <td>http://image.gmarket.co.kr/challenge/neo_image...</td>\n",
       "      <td>http://item2.gmarket.co.kr/Item/DetailView/Ite...</td>\n",
       "      <td>70.00</td>\n",
       "    </tr>\n",
       "    <tr>\n",
       "      <th>4</th>\n",
       "      <td>4</td>\n",
       "      <td>121</td>\n",
       "      <td>[디즈니]디즈니 아동 캐릭터 실내화 슬리퍼 학생 덧신 샌들</td>\n",
       "      <td>23000</td>\n",
       "      <td>6900</td>\n",
       "      <td>http://image.gmarket.co.kr/challenge/neo_image...</td>\n",
       "      <td>http://item2.gmarket.co.kr/Item/DetailView/Ite...</td>\n",
       "      <td>70.00</td>\n",
       "    </tr>\n",
       "  </tbody>\n",
       "</table>\n",
       "</div>"
      ],
      "text/plain": [
       "   Unnamed: 0  rank                                상품명     원가    판매가  \\\n",
       "0           0   194        [다샵]벽걸이 스탠드 에어컨커버 제습기/선풍기커버  26900   6500   \n",
       "1           1   139    [아망떼]순면100%모닝벨 매트리스커버/이불커버/침대패드  33000   8900   \n",
       "2           2   165          쁘띠뮤/신학기 아동정장 원피스 레깅스 트레이닝  33000   9900   \n",
       "3           3    59  [젤리스푼]아동복/봄신상오픈/상하복/티셔츠/레깅스/팬츠/점퍼  43000  12900   \n",
       "4           4   121   [디즈니]디즈니 아동 캐릭터 실내화 슬리퍼 학생 덧신 샌들  23000   6900   \n",
       "\n",
       "                                                 이미지  \\\n",
       "0  http://image.gmarket.co.kr/challenge/neo_image...   \n",
       "1  http://image.gmarket.co.kr/challenge/neo_image...   \n",
       "2  http://image.gmarket.co.kr/challenge/neo_image...   \n",
       "3  http://image.gmarket.co.kr/challenge/neo_image...   \n",
       "4  http://image.gmarket.co.kr/challenge/neo_image...   \n",
       "\n",
       "                                                상품링크    할인율  \n",
       "0  http://item2.gmarket.co.kr/Item/DetailView/Ite...  75.84  \n",
       "1  http://item2.gmarket.co.kr/Item/DetailView/Ite...  73.03  \n",
       "2  http://item2.gmarket.co.kr/Item/DetailView/Ite...  70.00  \n",
       "3  http://item2.gmarket.co.kr/Item/DetailView/Ite...  70.00  \n",
       "4  http://item2.gmarket.co.kr/Item/DetailView/Ite...  70.00  "
      ]
     },
     "execution_count": 7,
     "metadata": {},
     "output_type": "execute_result"
    }
   ],
   "source": [
    "pd.read_csv(\"gmarket.csv\").head() # 저장 잘 되었는지 확인"
   ]
  },
  {
   "cell_type": "markdown",
   "metadata": {},
   "source": [
    "#### 2. Naver 메일 데이터 스크래핑\n",
    "\n",
    "- 네이버 메일에 로그인한후 데이터 가져오기 (로그인을 해야 볼 수 있는)"
   ]
  },
  {
   "cell_type": "code",
   "execution_count": 8,
   "metadata": {},
   "outputs": [],
   "source": [
    "from selenium import webdriver\n",
    "import pickle\n",
    "import time"
   ]
  },
  {
   "cell_type": "code",
   "execution_count": 17,
   "metadata": {},
   "outputs": [],
   "source": [
    "# 패스워드 저장하기\n",
    "pw = \"\"\n",
    "file = open(\"pw.pickle\", \"wb\")\n",
    "pickle.dump(pw, file)"
   ]
  },
  {
   "cell_type": "code",
   "execution_count": 10,
   "metadata": {},
   "outputs": [],
   "source": [
    "main_url = \"http://naver.com\"\n",
    "mail_url = \"http://mail.naver.com\""
   ]
  },
  {
   "cell_type": "code",
   "execution_count": 15,
   "metadata": {},
   "outputs": [],
   "source": [
    "# 브라우져 오픈 및 메인 사이트 이동\n",
    "driver = webdriver.Chrome()\n",
    "driver.get(main_url)"
   ]
  },
  {
   "cell_type": "code",
   "execution_count": 18,
   "metadata": {},
   "outputs": [],
   "source": [
    "# 아이디 패스워드 입력\n",
    "pw = pickle.load(open(\"pw.pickle\", \"rb\")) # pw 변수에 본인의 패스워드 입력\n",
    "driver.find_element_by_css_selector( \"#id\" ).send_keys( \"jsi2944\" )\n",
    "driver.find_element_by_css_selector( \"#pw\" ).send_keys( pw )"
   ]
  },
  {
   "cell_type": "code",
   "execution_count": 19,
   "metadata": {},
   "outputs": [],
   "source": [
    "# 로그인 버튼 클릭\n",
    "driver.find_element_by_css_selector(\"span.btn_login input[type=submit]\").click()"
   ]
  },
  {
   "cell_type": "code",
   "execution_count": 20,
   "metadata": {},
   "outputs": [],
   "source": [
    "# 메일 페이지로 이동\n",
    "driver.get(mail_url)"
   ]
  },
  {
   "cell_type": "code",
   "execution_count": 21,
   "metadata": {},
   "outputs": [
    {
     "data": {
      "text/plain": [
       "159"
      ]
     },
     "execution_count": 21,
     "metadata": {},
     "output_type": "execute_result"
    }
   ],
   "source": [
    "# 메일 갯수\n",
    "total_mail = driver.find_element_by_css_selector(\"#headTotalNum\").text\n",
    "total_mail = int(total_mail)\n",
    "total_mail"
   ]
  },
  {
   "cell_type": "code",
   "execution_count": 22,
   "metadata": {},
   "outputs": [
    {
     "data": {
      "text/plain": [
       "157"
      ]
     },
     "execution_count": 22,
     "metadata": {},
     "output_type": "execute_result"
    }
   ],
   "source": [
    "# 안읽은 메일 갯수\n",
    "not_read_mail = driver.find_element_by_css_selector(\"#headUnreadNum\").text\n",
    "not_read_mail = int(not_read_mail)\n",
    "not_read_mail"
   ]
  },
  {
   "cell_type": "code",
   "execution_count": 23,
   "metadata": {},
   "outputs": [
    {
     "name": "stdout",
     "output_type": "stream",
     "text": [
      "전체 메일수 :  100\n"
     ]
    },
    {
     "data": {
      "text/html": [
       "<div>\n",
       "<style scoped>\n",
       "    .dataframe tbody tr th:only-of-type {\n",
       "        vertical-align: middle;\n",
       "    }\n",
       "\n",
       "    .dataframe tbody tr th {\n",
       "        vertical-align: top;\n",
       "    }\n",
       "\n",
       "    .dataframe thead th {\n",
       "        text-align: right;\n",
       "    }\n",
       "</style>\n",
       "<table border=\"1\" class=\"dataframe\">\n",
       "  <thead>\n",
       "    <tr style=\"text-align: right;\">\n",
       "      <th></th>\n",
       "      <th>제목</th>\n",
       "      <th>보낸사람</th>\n",
       "      <th>메일링크</th>\n",
       "    </tr>\n",
       "  </thead>\n",
       "  <tbody>\n",
       "    <tr>\n",
       "      <th>95</th>\n",
       "      <td>(광고) 2월 20일 지성인님께 &lt;치아교정 지원자&gt; 모집 안내 드립니다.</td>\n",
       "      <td>지원자모집안내</td>\n",
       "      <td>https://mail.naver.com/read/popup/?nMailId=73008</td>\n",
       "    </tr>\n",
       "    <tr>\n",
       "      <th>96</th>\n",
       "      <td>[토익&amp;토익Speaking] 토익 990점을 만드는 하루 10분 학습!</td>\n",
       "      <td>YBM인강 학습메일</td>\n",
       "      <td>https://mail.naver.com/read/popup/?nMailId=73007</td>\n",
       "    </tr>\n",
       "    <tr>\n",
       "      <th>97</th>\n",
       "      <td>(광고) 월간 주방용품! 요즘 트렌드 구경해볼까요?</td>\n",
       "      <td>GS SHOP</td>\n",
       "      <td>https://mail.naver.com/read/popup/?nMailId=73006</td>\n",
       "    </tr>\n",
       "    <tr>\n",
       "      <th>98</th>\n",
       "      <td>(광고) (얼굴 공개 X) 치아교정 지원자를 찾습니다.</td>\n",
       "      <td>지원자모집안내</td>\n",
       "      <td>https://mail.naver.com/read/popup/?nMailId=73005</td>\n",
       "    </tr>\n",
       "    <tr>\n",
       "      <th>99</th>\n",
       "      <td>(광고)지*인님!봄!! 데일리 청 자켓 50%할인 19,800원..품절주의!!</td>\n",
       "      <td>ganzinara</td>\n",
       "      <td>https://mail.naver.com/read/popup/?nMailId=73004</td>\n",
       "    </tr>\n",
       "  </tbody>\n",
       "</table>\n",
       "</div>"
      ],
      "text/plain": [
       "                                             제목        보낸사람  \\\n",
       "95     (광고) 2월 20일 지성인님께 <치아교정 지원자> 모집 안내 드립니다.     지원자모집안내   \n",
       "96      [토익&토익Speaking] 토익 990점을 만드는 하루 10분 학습!  YBM인강 학습메일   \n",
       "97                 (광고) 월간 주방용품! 요즘 트렌드 구경해볼까요?     GS SHOP   \n",
       "98               (광고) (얼굴 공개 X) 치아교정 지원자를 찾습니다.     지원자모집안내   \n",
       "99  (광고)지*인님!봄!! 데일리 청 자켓 50%할인 19,800원..품절주의!!   ganzinara   \n",
       "\n",
       "                                                메일링크  \n",
       "95  https://mail.naver.com/read/popup/?nMailId=73008  \n",
       "96  https://mail.naver.com/read/popup/?nMailId=73007  \n",
       "97  https://mail.naver.com/read/popup/?nMailId=73006  \n",
       "98  https://mail.naver.com/read/popup/?nMailId=73005  \n",
       "99  https://mail.naver.com/read/popup/?nMailId=73004  "
      ]
     },
     "execution_count": 23,
     "metadata": {},
     "output_type": "execute_result"
    }
   ],
   "source": [
    "# 메일 제목, 보낸사람 이름 가져오기\n",
    "mails = driver.find_elements_by_css_selector(\".mailList.sender_context > li\")\n",
    "print(\"전체 메일수 : \", len(mails))\n",
    "df = pd.DataFrame(columns=[\"제목\",\"보낸사람\",\"메일링크\"])\n",
    "for idx, mail in enumerate(mails):\n",
    "    title = mail.find_element_by_css_selector(\".mail_title\").text\n",
    "    name = mail.find_element_by_css_selector(\".name\").text\n",
    "    link = mail.find_element_by_css_selector(\".subject > a\").get_attribute(\"href\")\n",
    "    df.loc[len(df)] = { \"제목\":title, \"보낸사람\":name, \"메일링크\":link }    \n",
    "df.tail()"
   ]
  },
  {
   "cell_type": "code",
   "execution_count": 24,
   "metadata": {},
   "outputs": [
    {
     "name": "stdout",
     "output_type": "stream",
     "text": [
      "전체 메일수 :  0\n"
     ]
    },
    {
     "data": {
      "text/html": [
       "<div>\n",
       "<style scoped>\n",
       "    .dataframe tbody tr th:only-of-type {\n",
       "        vertical-align: middle;\n",
       "    }\n",
       "\n",
       "    .dataframe tbody tr th {\n",
       "        vertical-align: top;\n",
       "    }\n",
       "\n",
       "    .dataframe thead th {\n",
       "        text-align: right;\n",
       "    }\n",
       "</style>\n",
       "<table border=\"1\" class=\"dataframe\">\n",
       "  <thead>\n",
       "    <tr style=\"text-align: right;\">\n",
       "      <th></th>\n",
       "      <th>제목</th>\n",
       "      <th>보낸사람</th>\n",
       "      <th>메일링크</th>\n",
       "    </tr>\n",
       "  </thead>\n",
       "  <tbody>\n",
       "  </tbody>\n",
       "</table>\n",
       "</div>"
      ],
      "text/plain": [
       "Empty DataFrame\n",
       "Columns: [제목, 보낸사람, 메일링크]\n",
       "Index: []"
      ]
     },
     "execution_count": 24,
     "metadata": {},
     "output_type": "execute_result"
    }
   ],
   "source": [
    "# marked 메일\n",
    "mails = driver.find_elements_by_css_selector(\".mailList.sender_context > li.mark\")\n",
    "print(\"전체 메일수 : \", len(mails))\n",
    "df = pd.DataFrame(columns=[\"제목\",\"보낸사람\",\"메일링크\"])\n",
    "for idx, mail in enumerate(mails):\n",
    "    title = mail.find_element_by_css_selector(\".mail_title\").text\n",
    "    name = mail.find_element_by_css_selector(\".name\").text\n",
    "    link = mail.find_element_by_css_selector(\".subject > a\").get_attribute(\"href\")\n",
    "    df.loc[len(df)] = { \"제목\":title, \"보낸사람\":name, \"메일링크\":link }    \n",
    "df.tail()"
   ]
  },
  {
   "cell_type": "code",
   "execution_count": 25,
   "metadata": {},
   "outputs": [
    {
     "name": "stdout",
     "output_type": "stream",
     "text": [
      "total mails:  2\n"
     ]
    },
    {
     "data": {
      "text/html": [
       "<div>\n",
       "<style scoped>\n",
       "    .dataframe tbody tr th:only-of-type {\n",
       "        vertical-align: middle;\n",
       "    }\n",
       "\n",
       "    .dataframe tbody tr th {\n",
       "        vertical-align: top;\n",
       "    }\n",
       "\n",
       "    .dataframe thead th {\n",
       "        text-align: right;\n",
       "    }\n",
       "</style>\n",
       "<table border=\"1\" class=\"dataframe\">\n",
       "  <thead>\n",
       "    <tr style=\"text-align: right;\">\n",
       "      <th></th>\n",
       "      <th>제목</th>\n",
       "      <th>보낸사람</th>\n",
       "      <th>메일링크</th>\n",
       "    </tr>\n",
       "  </thead>\n",
       "  <tbody>\n",
       "    <tr>\n",
       "      <th>0</th>\n",
       "      <td>[기본훈련/기본교육]예비군 훈련소집통지서 입니다.(0308 기본훈련 4기)</td>\n",
       "      <td>51사단 168연대 3대대 ..</td>\n",
       "      <td>https://mail.naver.com/read/popup/?nMailId=73081</td>\n",
       "    </tr>\n",
       "    <tr>\n",
       "      <th>1</th>\n",
       "      <td>[기본훈련]예비군 훈련 안내문</td>\n",
       "      <td>51사단 168연대 3대대 ..</td>\n",
       "      <td>https://mail.naver.com/read/popup/?nMailId=73071</td>\n",
       "    </tr>\n",
       "  </tbody>\n",
       "</table>\n",
       "</div>"
      ],
      "text/plain": [
       "                                          제목               보낸사람  \\\n",
       "0  [기본훈련/기본교육]예비군 훈련소집통지서 입니다.(0308 기본훈련 4기)  51사단 168연대 3대대 ..   \n",
       "1                           [기본훈련]예비군 훈련 안내문  51사단 168연대 3대대 ..   \n",
       "\n",
       "                                               메일링크  \n",
       "0  https://mail.naver.com/read/popup/?nMailId=73081  \n",
       "1  https://mail.naver.com/read/popup/?nMailId=73071  "
      ]
     },
     "execution_count": 25,
     "metadata": {},
     "output_type": "execute_result"
    }
   ],
   "source": [
    "# 읽은 메일\n",
    "mails = driver.find_elements_by_css_selector(\".mailList.sender_context > li:not(.notRead)\")\n",
    "print(\"total mails: \", len(mails))\n",
    "df = pd.DataFrame(columns=[\"제목\",\"보낸사람\",\"메일링크\"])\n",
    "for idx, mail in enumerate(mails):\n",
    "    title = mail.find_element_by_css_selector(\".mail_title\").text\n",
    "    name = mail.find_element_by_css_selector(\".name\").text\n",
    "    link = mail.find_element_by_css_selector(\".subject > a\").get_attribute(\"href\")\n",
    "    df.loc[len(df)] = { \"제목\":title, \"보낸사람\":name, \"메일링크\":link }    \n",
    "df.tail()"
   ]
  },
  {
   "cell_type": "code",
   "execution_count": 26,
   "metadata": {},
   "outputs": [],
   "source": [
    "# 로그아웃\n",
    "logout_url = driver.find_element_by_css_selector(\".gnb_btn_login\").get_attribute(\"href\")\n",
    "driver.get(logout_url)"
   ]
  },
  {
   "cell_type": "code",
   "execution_count": 27,
   "metadata": {},
   "outputs": [],
   "source": [
    "# 브라우져 닫기\n",
    "driver.close()"
   ]
  },
  {
   "cell_type": "code",
   "execution_count": null,
   "metadata": {},
   "outputs": [],
   "source": []
  }
 ],
 "metadata": {
  "kernelspec": {
   "display_name": "Python 3",
   "language": "python",
   "name": "python3"
  },
  "language_info": {
   "codemirror_mode": {
    "name": "ipython",
    "version": 3
   },
   "file_extension": ".py",
   "mimetype": "text/x-python",
   "name": "python",
   "nbconvert_exporter": "python",
   "pygments_lexer": "ipython3",
   "version": "3.6.4"
  }
 },
 "nbformat": 4,
 "nbformat_minor": 2
}
