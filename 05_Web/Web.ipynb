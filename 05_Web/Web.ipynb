{
 "cells": [
  {
   "cell_type": "markdown",
   "metadata": {},
   "source": [
    "### Web"
   ]
  },
  {
   "cell_type": "markdown",
   "metadata": {},
   "source": [
    "#### 1. Server & Client Architecture"
   ]
  },
  {
   "cell_type": "markdown",
   "metadata": {},
   "source": [
    "- client: 브라우저를 통해 서버에 데이터를 요청\n",
    "- server: client가 데이터를 요청하면 요청에 따라 데이터 전송"
   ]
  },
  {
   "cell_type": "markdown",
   "metadata": {},
   "source": [
    "- polling : 요청을 하고 전송을 받는 과정, 계속 유지할 필요 X\n",
    "- socket : 서버가 클라이언트가 요청을 안해도 일방적으로 전송해줄때 (채팅에서 주로 사용), 계속 유지하고 있어야 함"
   ]
  },
  {
   "cell_type": "markdown",
   "metadata": {},
   "source": [
    "#### 2. URL (Uniform Resource Locator)"
   ]
  },
  {
   "cell_type": "markdown",
   "metadata": {},
   "source": [
    "- 종류: file, ftp, http, https\n",
    "\n",
    "\n",
    "- http와 https의 차이는?\n",
    "    - https의 s는 secret (ss인증)\n",
    "    - https가 암호화가 되있기 때문에 https를 사용권장\n",
    "    - 암호화와 복호화 하는데 시간이 걸림"
   ]
  },
  {
   "cell_type": "markdown",
   "metadata": {},
   "source": [
    "http://news.naver.com:80/main/read.nhn? mode=LSD&mid=shm&sid1=105&oid=001&aid=0009847211#da_727145"
   ]
  },
  {
   "cell_type": "markdown",
   "metadata": {},
   "source": [
    "- https:// - Protocol\n",
    "- news - Sub domain\n",
    "- naver.com - Domain\n",
    "- 80 - port(서버내에 어떤 프로그램을 이용할지 선택)\n",
    "- /main/ - path (파일 경로)\n",
    "- read.nhn - pace\n",
    "- ?mode=LSD&mid=shm&sid1=105&oid=001&aid=0009847211 - query\n",
    "- sid - 여기에선 카테고리 값 (정치, 경제...)\n",
    "- #da_727145 - fragment (특정 위치값)"
   ]
  },
  {
   "cell_type": "markdown",
   "metadata": {},
   "source": [
    "#### 3. Get & Post"
   ]
  },
  {
   "cell_type": "markdown",
   "metadata": {},
   "source": [
    "- Get : Url에 데이터가 포함됨 - 데이터가 노출, url 길이 제한이 있음(브라우저마다 차이), 보안에 취약함\n",
    "\n",
    "\n",
    "- Post : Body에 데이터가 포함 - 데이터 숨겨짐 (길이가 긴 url이나 로그인 할 때 많이 쓰임)"
   ]
  },
  {
   "cell_type": "markdown",
   "metadata": {},
   "source": [
    "#### 4. Internet"
   ]
  },
  {
   "cell_type": "markdown",
   "metadata": {},
   "source": [
    "- 컴퓨터로 연결하여 TCP/IP라는 통신 프로토콜을 이용해 정보를 주고 받는 컴퓨터 네트워크"
   ]
  },
  {
   "cell_type": "markdown",
   "metadata": {},
   "source": [
    "- 데이터의 흐름을 알아보자\n",
    "\n",
    "Data $\\rightarrow$ 공유기 $\\rightarrow$ 통신사망 $\\rightarrow$ backbone망 (한국전력이 가지고 있음) $\\rightarrow$ 해저케이블을 통해 미국으로 이동 $\\rightarrow$ 미국의 백본망을 통해 미국의 데이터망으로 이동 (대부분 해안가에 위치, 내륙까지 들어가면 느려지니까)"
   ]
  },
  {
   "cell_type": "markdown",
   "metadata": {},
   "source": [
    "#### 5. OSI 7 Layter"
   ]
  },
  {
   "cell_type": "markdown",
   "metadata": {},
   "source": [
    "그림에서 밑으로 갈수록 상위계층"
   ]
  },
  {
   "cell_type": "markdown",
   "metadata": {},
   "source": [
    "- Pysical - 0,1에 대한 데이터\n",
    "- Data Link - physical addressing\n",
    "- Network - 주소를 찾아 들어가는 것\n",
    "- Transprot - TCP (받았는데 깨지면 다시 달라고 보냄, 신뢰성이 있음) / UDP (그냥 처음에 보내달라고 하고 끝, 실시간 사용에 초점)\n",
    "- Session - ex) browser"
   ]
  },
  {
   "cell_type": "markdown",
   "metadata": {},
   "source": [
    "#### 6. Cookie & Session & Cache"
   ]
  },
  {
   "cell_type": "markdown",
   "metadata": {},
   "source": [
    "1) Cookie\n",
    "    - Client에 저장하는 문자열 데이터로 도메인 별로 따로 저장\n",
    "    - 로그인 정보, 내가 봤던 상품 정보, 팝업 다시 보지 않음\n",
    "    - RAM에 저장되는게 아니라 ROM에 저장 (날라가지 않음)\n",
    "    - 하나의 클라이언트에 300개, 도메인당 20개, 쿠키 하나당 4Kbyte\n",
    "    \n",
    "2) Session\n",
    "    - Server에 저장하는 객체 데이터, 브라우저와 연결시 Session ID 생성\n",
    "    - Session ID를 Cookie에 저장함으로 로그인 연결 유지\n",
    "    - 은행에서 가만히 10분 있으면 세션이 만료된다는게 이 세션임\n",
    "    - 같은 브라우저로 같은 서버에 접속하면 Session ID가 같음\n",
    "    - 로그인 연결 정보, 원하는 객체 데이터\n",
    "    \n",
    "3) Cache\n",
    "    - RAM에 저장\n",
    "    - Client나 Server의 메모리에 저장하여 빠르게 데이터를 가져오는 목적의 저장소"
   ]
  },
  {
   "cell_type": "markdown",
   "metadata": {},
   "source": [
    "#### 7. HTTP Status Code"
   ]
  },
  {
   "cell_type": "markdown",
   "metadata": {},
   "source": [
    "- 서버와 클라이언트가 데이터를 주고 받으면 주고 받은 결과로 상태 코드를 확인할 수 있음"
   ]
  },
  {
   "cell_type": "markdown",
   "metadata": {},
   "source": [
    "http://bit.ly/2nlZM8L"
   ]
  },
  {
   "cell_type": "markdown",
   "metadata": {},
   "source": [
    "- 2xx - success\n",
    "- 3xx - redirection (browser cache) 4xx - request error\n",
    "- 5xx - server error"
   ]
  },
  {
   "cell_type": "markdown",
   "metadata": {},
   "source": [
    "#### 8. Web Language & Framework"
   ]
  },
  {
   "cell_type": "markdown",
   "metadata": {},
   "source": [
    "1) Client\n",
    "- HTML\n",
    "- CSS - less, sass\n",
    "- Javascript - vue.js, react.js, angelar.js, backborn.js Server\n",
    "\n",
    "2) Server\n",
    "- Python - Django, Flask\n",
    "- Java - Spring\n",
    "- Ruby - Rails\n",
    "- Javascript - Nodejs (Express) \n",
    "- Scala - Play"
   ]
  },
  {
   "cell_type": "markdown",
   "metadata": {},
   "source": [
    "#### 9. Scraping & Crawling & Spider & Bot"
   ]
  },
  {
   "cell_type": "markdown",
   "metadata": {},
   "source": [
    "1) Scraping : 데이터를 수집하는 작업 (상대적으로 외국에서 많이 쓰이는 용어)\n",
    "\n",
    "2) Crawling : 여러 페이지의 특정 데이터를 수집하고 분류하는 작업 (상대적으로 국내에서 많이 쓰이는 용어)\n",
    "\n",
    "3) Spider or Web crawler : 웹 데이터를 수집하는 소프트웨어\n",
    "\n",
    "4) Bot : 인터넷 상에서 자동화된 작업을 실행 (Spider, Web crawler로 하나의 Bot에 속함)"
   ]
  },
  {
   "cell_type": "markdown",
   "metadata": {},
   "source": [
    "https://www.naver.com/robots.txt : Disallow 영역도 크롤링은 가능, 하지만 저작권이 있을 수 있으니까 조심해야 함"
   ]
  }
 ],
 "metadata": {
  "kernelspec": {
   "display_name": "Python 3",
   "language": "python",
   "name": "python3"
  },
  "language_info": {
   "codemirror_mode": {
    "name": "ipython",
    "version": 3
   },
   "file_extension": ".py",
   "mimetype": "text/x-python",
   "name": "python",
   "nbconvert_exporter": "python",
   "pygments_lexer": "ipython3",
   "version": "3.6.4"
  }
 },
 "nbformat": 4,
 "nbformat_minor": 2
}
